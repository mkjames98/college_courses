{
 "cells": [
  {
   "cell_type": "markdown",
   "metadata": {},
   "source": [
    "\n",
    "<h1 style=\"text-align: center; color: purple;\" markdown=\"1\">Econ 320 Python Lab. Simple Regression </h1>\n",
    "<h2 style=\"text-align: center; color: purple;\" markdown=\"1\">Handout #3 </h2>\n",
    "\n",
    "## Simple regression \n",
    "\n",
    "\n",
    "You have learned how to motivate your regression analysis by showing summary statistics that provide information about the data that you are using and how to show with graphs and data visualization how are the relationships that can be going on in your data set. \n",
    "\n",
    "You have a hypothesis about a linear relationship between your dependent variable $y$ and your independent variable $x$. These two variables are found in the following equation:\n",
    "$$ y = \\beta_0 +\\beta_1 x + u$$ \n",
    "\n",
    "Your job is to estimate in the most accurate way the population parameters $\\beta_0$ and $\\beta_1$. \n",
    "\n",
    "According to Wooldridge chapter 2, given a sample of data, we choose estimates $\\hat\\beta_0$ and $\\hat\\beta_1$  to solve for the following equations:\n",
    "$$n^{-1}\\sum^{n}_{i=1}(y_i - \\hat\\beta_0 - \\hat\\beta_1 x_i )=0$$\n",
    "$$n^{-1}\\sum^{n}_{i=1}x_i(y_i - \\hat\\beta_0 - \\hat\\beta_1 x_i)=0$$\n",
    "This creates a system of two equations and two unknown parameters $\\hat\\beta_0$ and $\\hat\\beta_1$. \n",
    "\n",
    "The first equation can be rewriten as \n",
    "$$ \\bar{y}= \\hat\\beta_0 + \\hat\\beta_1 \\bar{x}$$  where $\\bar{y}$ and $\\bar{x}$ are the sample average of each variable. With this equation we can rewrite $\\beta_0$ in terms of $\\beta_1, \\bar{y}$ and $\\bar{x}$. Then after some algebra we can write the equation for $\\hat\\beta_1$\n",
    "\n",
    "$$\\hat\\beta_0 = \\bar{y} - \\hat\\beta_1 \\bar{x}$$\n",
    "$$\\hat\\beta_1=\\frac{\\sum^{n}_{i=1}(x_i - \\bar{x})(y_i - \\bar{y}) }{\\sum^{n}_{i=1}(x_i - \\bar{x})^2}$$  \n",
    "\n",
    "You can use Python to calculate these estimates. \n",
    "\n",
    "## Estimation of a simple regression in R \n",
    "### DGP example\n",
    "Let's imagine we know the true values for $\\beta_0$ and $\\beta_1$ so that the population regresion equation is $$y=2+3x+u$$\n",
    "and you will estimate the model $$ y = \\beta_0 +\\beta_1 x + u$$ \n",
    "\n",
    "What can you say about your estimates $\\hat\\beta_0$ and $\\hat\\beta_1$ and the true parameters $\\beta_0$ and $\\beta_1$? Let's look at the example:"
   ]
  },
  {
   "cell_type": "code",
   "execution_count": null,
   "metadata": {},
   "outputs": [],
   "source": [
    "# Import your packages \n",
    "import wooldridge as woo\n",
    "import numpy as np \n",
    "import pandas as pd\n",
    "import matplotlib.pyplot as plt\n",
    "import seaborn as sns\n",
    "import statsmodels.formula.api as smf\n",
    "from scipy.optimize import minimize"
   ]
  },
  {
   "cell_type": "code",
   "execution_count": null,
   "metadata": {},
   "outputs": [],
   "source": [
    "# Set the seed to generate reproducible results\n",
    "np.random.seed(123)\n",
    "\n",
    "#generate de population of x and u normally distributed variables of a million observations \n",
    "#and y following the equation below. \n",
    "# generates a random from the normal distribution between 0 and 10\n",
    "x = \n",
    "# generates u a random sample of 500 from the normal distribution\n",
    "u = \n",
    "# You know the actual function that relates x to y and you generate y \n",
    "y = \n",
    "# Put all this in a dataframe\n",
    "data = {\"x\": x, \"u\": u, \"y\": y}\n",
    "# Put all vectors into a data frame to work with it later, you need that format for the graphs\n",
    "datas = \n",
    "\n",
    "# Run a regresion of x on y, estimate the model y=beta_0+beta_1x lest use the ols() command from Python\n",
    "\n",
    "# estimate a model:\n",
    "reg = smf.ols( )\n",
    "results = reg.fit()\n",
    "\n",
    "b = results.params\n",
    "print(f'b: \\n{b}\\n')\n",
    "datas['yhat'] = results\n",
    "\n",
    "#The graph set up. \n",
    "plt.rcParams['figure.figsize'] = [12, 8]\n",
    "\n",
    "sns.regplot(x = \"x\",y = \"y\", data = datas, line_kws={'color':'green'}, ci=None);\n",
    "plt.plot(datas[\"x\"], 2+3*datas[\"x\"], ':r');\n",
    "plt.legend([\"Sample Regression\",'Population regression',\"Data\"],loc='upper left');\n",
    "\n",
    "# Another way to create the graphs using matplotlob instead of seaborn, \n",
    "# the population regression line \n",
    "# and the fitted values \n",
    "# plt.rcParams['figure.figsize'] = [12, 8]\n",
    "# plt.scatter(datas[\"x\"], datas[\"y\"] , color = 'k', alpha=0.3)\n",
    "# plt.plot(datas[\"x\"], 2+3*datas[\"x\"], ':r', label=\"Pop. Reg Line\")\n",
    "# plt.plot(datas[\"x\"], results.fittedvalues, 'g', label=\"Samp. Reg. Line\")\n",
    "# plt.title(\"A graph of {x,y}, the population regression function, and the sample regression function\" )\n",
    "# plt.legend(loc='upper left')\n",
    "# plt.show()\n",
    "    "
   ]
  },
  {
   "cell_type": "markdown",
   "metadata": {},
   "source": [
    "### Step-by-Step calculation of parameters \n",
    "Following the steps above, once you define what your dependent variable (y) and independent variable (x) are, you can just create the objects and plug them into the equations to calculate the estimated parameters.  See the code below, you can just replace x and y for each specific example. "
   ]
  },
  {
   "cell_type": "code",
   "execution_count": null,
   "metadata": {},
   "outputs": [],
   "source": [
    "# ingredients to the OLS formulas:\n",
    "sumy = \n",
    "sumxy = \n",
    "sumx2 = \n",
    "sumy2 = \n",
    "x_bar = \n",
    "y_bar = \n",
    "# manual calculation of OLS coefficients:\n",
    "b1 = sumxy/sumx2\n",
    "b0 = y_bar - b1 * x_bar\n",
    "\n",
    "print(f'b0: {b0}\\n')\n",
    "print(f'b1: {b1}\\n')"
   ]
  },
  {
   "cell_type": "markdown",
   "metadata": {},
   "source": [
    "### Variance-Covariance method\n",
    "\n",
    "We are interested in estimating the population parameters \n",
    "\n",
    "$\\beta_0$ and $\\beta_1$of the simple regression model $$ y= \\beta_0 + \\beta_1x + u$$\n",
    "\n",
    "Last class we learned different ways to code the estimation of population\n",
    "parameters $\\hat\\beta_0$ and $\\hat\\beta_1$. \n",
    "According to Wooldridge, you can also use the formula $$\\beta_1= Cov(x,y)/var(x)$$ and $$\\beta_0=\\bar{y}- \\hat{\\beta_1}x$$ to find the ordinary least squares estimators (OLS). This means that for a given sample and a simple regression, we just need to calculate $\\bar{y}, \\bar{x}, Cov(x,y), Var(x)$\n",
    "\n",
    "The Python code to find betas using the equations above is: "
   ]
  },
  {
   "cell_type": "code",
   "execution_count": null,
   "metadata": {},
   "outputs": [],
   "source": [
    "# ingredients to the OLS formulas:\n",
    "cov_xy =   # access 2. row and 1. column of covariance matrix\n",
    "var_x = \n",
    "x_bar = \n",
    "y_bar = \n",
    "\n",
    "# manual calculation of OLS coefficients:\n",
    "b1 = cov_xy / var_x\n",
    "b0 = y_bar - b1 * x_bar\n",
    "\n",
    "print(f'b0: {b0}\\n')\n",
    "print(f'b1: {b1}\\n')\n",
    "\n",
    "  "
   ]
  },
  {
   "cell_type": "markdown",
   "metadata": {},
   "source": [
    "### Using the `minimize()` function  from scipy.optimize\n",
    "In Python you can also use the optimization function to  estimate the population paramaters.\n",
    "\n",
    "Remember that you want to estimate the population parameters that minimize the residual residual sum of squares (RSS or SSR). The equation for RSS is \n",
    "$$ SSR= \\sum^{n}_{i=1}\\hat{u_i}^2=\\sum^{n}_{i=1}(y_i - \\hat\\beta_0 - \\hat\\beta_1 x_i)^2$$\n",
    "The function `minimize()` optimizes a function and finds the parameters. Here you create a vector of parameters \n",
    "<br>\n",
    "`b = np.array([0.5,0.5])` . See the code below:"
   ]
  },
  {
   "cell_type": "code",
   "execution_count": null,
   "metadata": {},
   "outputs": [],
   "source": [
    "\n",
    "\n",
    "#Create initial values for the Beta parameters\n",
    "b = \n",
    "\n",
    "#create a column of constants\n",
    "k= \n",
    "\n",
    "# Create function for Sum of square residuals (SSR)\n",
    "def sse(b,y,x,k):\n",
    "    return np.sum((y-b[0]*k-b[1]*x)**2)\n",
    "\n",
    "#Use minimize from scipy.optimize to find the parameters beta that minimize the SSR\n",
    "resa = minimize()\n",
    "\n",
    "# print results\n",
    "print(resa['x'])\n"
   ]
  },
  {
   "cell_type": "markdown",
   "metadata": {},
   "source": [
    "### The `smf.ols()` command \n",
    "\n",
    "Python has a module to make your life easier to allow you to do more soficticated regressions. The statsmodels module. This command will be the workhorse of our class during the semester; it provides you all the information you need for your regression results. Today we will only see how it estimates the parameters. We will learn all about this command in future classes. \n",
    "\n",
    "Code to estimate the equation $$y=\\beta_0+\\beta_1x$$ "
   ]
  },
  {
   "cell_type": "code",
   "execution_count": null,
   "metadata": {},
   "outputs": [],
   "source": [
    "# estimate log-level model:\n",
    "reg = \n",
    "results = \n",
    "\n",
    "# print results using summary:\n",
    "print(f'results.summary(): \\n{-------------------}\\n')\n",
    "\n",
    "# print regression table:\n",
    "table = pd.DataFrame({'b': round(----------------, 3),\n",
    "                      'se': round(----------------, 3),\n",
    "                      't': round(-----------------, 3),\n",
    "                      'pval': round(--------------, 3)})\n",
    "print(f'Coefficients Table:'------------- )\n",
    "display(table)"
   ]
  },
  {
   "cell_type": "markdown",
   "metadata": {},
   "source": [
    "## In-class exercise\n",
    "Now let's use the data wage1 from last class to estimate the equation \n",
    "$$wage = \\beta_0 + \\beta_1 education + u$$\n",
    "in the three different ways we learned today. Do you obtain the same results?"
   ]
  },
  {
   "cell_type": "code",
   "execution_count": null,
   "metadata": {},
   "outputs": [],
   "source": [
    "# With the wooldridge package. \n",
    "wage1 = woo.dataWoo('wage1')\n",
    "# If the wooldridge package is not working for you. You can just download \n",
    "#the data form this link change the name of the dataset and read into \n",
    "wage1 = pd.read_stata('http://fmwww.bc.edu/ec-p/data/wooldridge/wage1.dta')\n",
    "# wage is my dependent variable y\n",
    "# educ is de independent variable x\n",
    "# the easiest ways is to set those variables up and copy and paste. \n"
   ]
  },
  {
   "cell_type": "markdown",
   "metadata": {},
   "source": [
    "&nbsp;\n",
    "<hr />\n",
    "<p style=\"font-family:palatino; text-align: center;font-size: 15px\">ECON320 Python Programming Laboratory</a></p>\n",
    "<p style=\"font-family:palatino; text-align: center;font-size: 15px\">Professor <em> Paloma Lopez de mesa Moyano</em></a></p>\n",
    "<p style=\"font-family:palatino; text-align: center;font-size: 15px\"><span style=\"color: #6666FF;\"><em>paloma.moyano@emory.edu</em></span></p>\n",
    "\n",
    "<p style=\"font-family:palatino; text-align: center;font-size: 15px\">Department of Economics</a></p>\n",
    "<p style=\"font-family:palatino; text-align: center; color: #012169;font-size: 15px\">Emory University</a></p>\n",
    "\n",
    "&nbsp;"
   ]
  }
 ],
 "metadata": {
  "kernelspec": {
   "display_name": "Python 3 (ipykernel)",
   "language": "python",
   "name": "python3"
  },
  "language_info": {
   "codemirror_mode": {
    "name": "ipython",
    "version": 3
   },
   "file_extension": ".py",
   "mimetype": "text/x-python",
   "name": "python",
   "nbconvert_exporter": "python",
   "pygments_lexer": "ipython3",
   "version": "3.7.9"
  }
 },
 "nbformat": 4,
 "nbformat_minor": 4
}
