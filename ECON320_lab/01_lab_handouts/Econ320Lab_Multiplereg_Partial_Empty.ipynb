{
 "cells": [
  {
   "cell_type": "markdown",
   "metadata": {},
   "source": [
    "<style>\n",
    "div.blue{\n",
    "    background-color:#e6f0ff; \n",
    "    border-radius: 5px; \n",
    "    padding: 20px;}\n",
    "</style> \n",
    "\n",
    "<style>\n",
    "div.warn {    \n",
    "    background-color: #fcf2f2;\n",
    "    border-color: #dFb5b4;\n",
    "    border-left: 5px solid #dfb5b4;\n",
    "    padding: 0.5em;\n",
    "    }\n",
    " </style>\n",
    "    \n",
    "<h1 style=\"text-align: center; color: purple;\" markdown=\"1\">Econ 320 Python Lab  Multiple Linear Regression<span class=\"tocSkip\"></span></h1>\n",
    "<h2 style=\"text-align: center; color: purple;\" markdown=\"1\">Handout<span class=\"tocSkip\"></span></h2>"
   ]
  },
  {
   "cell_type": "markdown",
   "metadata": {},
   "source": [
    "## Table of contents \n",
    "\n",
    "* [Multiple linear regression](#anchor1)\n",
    "* [In class practice](#anchor2)\n",
    "    * [Partialling out the $\\beta's$](#anchor3)\n",
    "    * [Partialling $\\beta_1$](#anchor4)\n",
    "    * [Fitting the Residual to $y$](#anchor5)\n",
    "    * [Partialling out $\\beta_2$](#anchor6)\n",
    "    * [Fitting the Residual to $y$](#anchor7)"
   ]
  },
  {
   "cell_type": "markdown",
   "metadata": {},
   "source": [
    "## Multiple Linear Regression <a class = anchor id = anchor1></a>\n",
    "\n",
    "In economics you want to estimate models that have more than one explanatory variable like the model below: \n",
    "\n",
    "$$y=\\beta_0 + \\beta_1*x_1 + \\beta_2*x_2 + \\beta_3\n",
    "*x_3 + ... +\\beta_n\n",
    "*x_n +  \\mu$$\n",
    "\n",
    "Let's see how we can estimate a model like that in Python. \n",
    "\n",
    "Using the `ols()` function from the packages statsmodels, the process is as symple as adding more independent variables to your equation in the formula of the `smf.ols()` command. \n",
    "\n",
    ">`reg = smf.ols(formula = y ~ x1 + x2 + x3 + ... + xn , data=mydata)`\n",
    "\n",
    "The `~` in the formula separates the dependent variable from the independent variables or regressors. The constant is automatically added. Unless it is specified to be omitted. See how to do this below\n",
    "\n",
    ">`y ~ 0+ x1 + x2 + x3`\n",
    "\n",
    "After this you store the results in another object using the method `.fit()` and then use the `summary()` to obtain the table with all the regression results\n",
    "\n",
    ">`results= reg.fit() \n",
    "results.summary()\n",
    "`\n",
    "\n",
    "However if all you want is the table with your regression results you can use only one line of code to do that in just one step. \n",
    "\n",
    ">`smf.ols().fit().summary()`\n",
    "\n",
    "\n",
    "> The post estimation methods are the same for simple regression or multiple regression see previous handout for simple regression part2 "
   ]
  },
  {
   "cell_type": "code",
   "execution_count": null,
   "metadata": {},
   "outputs": [],
   "source": [
    "# Import your packages \n",
    "import wooldridge as woo\n",
    "import numpy as np \n",
    "import pandas as pd\n",
    "import statsmodels.formula.api as smf"
   ]
  },
  {
   "cell_type": "markdown",
   "metadata": {},
   "source": [
    "## In class practice <a class = anchor id = anchor2></a>\n",
    "\n",
    "Use the data in wage1 from our previous handout to answer this question. \n",
    "\n",
    "We want to investigate the determinants of wages using this dataset. \n",
    "\n",
    "* Consider a model to explain wages, in terms of the years of education, experience and tenure.\n",
    "\n",
    "Let's do this adding a few variables at a time to see how things change. \n",
    "\n",
    "<font color='blue'>Model 1 </font>\n",
    "\n",
    " $$log(wage)= \\beta_0 + \\beta_1*education + \\beta_2*experience + u $$\n",
    " \n",
    "<font color='blue'>Model 2 </font> \n",
    "\n",
    "Adding experience squared to allow for non linearity on the experience and the tenure variable\n",
    "\n",
    "$$log(wage)= \\beta_0 + \\beta_1*education + \\beta_2*experience + \\beta_3*experience^2 +  \\beta_4*tenure + u $$\n",
    " \n",
    "* Estimate these model by OLS using **`smf.ols()`** save the objects use summary to show all the results.\n"
   ]
  },
  {
   "cell_type": "code",
   "execution_count": null,
   "metadata": {},
   "outputs": [],
   "source": [
    "# Model 1 \n",
    "wage1 = woo.dataWoo('wage1')\n",
    "reg = smf.ols(formula=' ', \n",
    "              data=wage1).fit().summary()\n",
    "\n",
    "#print(f'Regression results model 1: \\n{reg}\\n')\n",
    "#reg"
   ]
  },
  {
   "cell_type": "markdown",
   "metadata": {},
   "source": [
    "<font color='blue'>\n",
    "\n",
    "> To add a cuadractic term, use the function **`np.power(x, 2)`**, this way you can include the term directly into the regression instead of creating another series\n",
    "in your dataframe. \n",
    "\n",
    "> You can also add `I(x**2)` to the formula. \n",
    "> In both methods if you need to add a higher power you just change the 2 for the number that you need. `I(x**4)` for example if you want $x^4$. See both methods below:\n",
    "    </font> "
   ]
  },
  {
   "cell_type": "code",
   "execution_count": null,
   "metadata": {},
   "outputs": [],
   "source": [
    "# Model 2\n",
    "#Method 1 \n",
    "smf.ols(formula='np.log(wage) ~ educ + exper +   __________ + tenure', \n",
    "              data=wage1).fit().summary()"
   ]
  },
  {
   "cell_type": "code",
   "execution_count": null,
   "metadata": {},
   "outputs": [],
   "source": [
    "#Method 2\n",
    "reg = smf.ols(formula='np.log(wage) ~ educ + exper + _________+ tenure', \n",
    "              data=wage1)\n",
    "results = reg.fit()\n",
    "results.summary()\n"
   ]
  },
  {
   "cell_type": "markdown",
   "metadata": {},
   "source": [
    "* Re-run your models and make a simple table comparing the $\\beta's$ of both model \n"
   ]
  },
  {
   "cell_type": "code",
   "execution_count": null,
   "metadata": {},
   "outputs": [],
   "source": [
    "m1 = smf.ols(formula='', \n",
    "              data=wage1).fit()\n",
    "\n",
    "m2 = smf.ols(formula='', \n",
    "              data=wage1).fit()\n",
    "\n",
    "table = pd.DataFrame({'Betasm1': ,\n",
    "                      'Betasm2': })\n",
    "table.style.format('{:,.3f}'.format)\n",
    "#print(f'table: \\n{table}\\n')"
   ]
  },
  {
   "cell_type": "markdown",
   "metadata": {},
   "source": [
    "* Make another table comparing the $R^2$"
   ]
  },
  {
   "cell_type": "code",
   "execution_count": null,
   "metadata": {},
   "outputs": [],
   "source": [
    "\n",
    "df = pd.DataFrame([      ,          ], \n",
    "                  index=[\"$R^2$_m1\",\"$R^2$_m2\"], columns=['$R^2$'])\n",
    "\n",
    "df.style.format('{:,.3f}'.format)"
   ]
  },
  {
   "cell_type": "markdown",
   "metadata": {},
   "source": [
    "## Partialling out the Betas <a class = anchor id = anchor3></a>\n",
    "\n",
    "First, let's generate our population data it is comprised of $x_1$, $x_2$, $y$, $u$ random variables of a million observations distributed normally as follows \n",
    "\n",
    "- Set the seed using `np.random.RandomState(int(2052001))` name it *rng*\n",
    "- Define $\\beta_0 = 5$, $\\beta_1 = 2$ and $\\beta_2 = 3$\n",
    "- Use `.normal(loc = mean, scale= std, size = 1000000)` applied to the seed to generate:\n",
    "    * $u$~$N(0,1)$\n",
    "    * $x_1$~$N(10, 1)$\n",
    "    * $x_2$~$N(1, 9)$\n",
    "    * $y = \\beta_0 + \\beta_1*x_1 + \\beta_2*x_2 + u$\n",
    "- put all these variables into a dataframe using a dictionary name de object *popdata_reg*\n",
    "- use the function `.sample(n, random_state)` to take a random sample of the population data that you just created where n =1000 and random_state is equal to the seed we just stated above. Name this *sample_df.* \n"
   ]
  },
  {
   "cell_type": "code",
   "execution_count": null,
   "metadata": {},
   "outputs": [],
   "source": [
    "# Set up the Data Generating Process\n",
    "\n",
    "# Set NumPy Seed. \n",
    "rng = np.random.RandomState(int(2052001))\n",
    "\n",
    "#Declare your betas\n",
    "beta0=5\n",
    "beta1=2\n",
    "beta2=3 \n",
    "\n",
    "# Calculate y, x and u over 1,000,000 values\n",
    "u = rng.normal()\n",
    "x1 = rng.normal()\n",
    "x2 = rng.normal()\n",
    "y = beta0 + beta1 * x1 + beta2 * x2 + u\n",
    "\n",
    "# Store in Pandas DataFrame\n",
    "popdata_reg = pd.DataFrame({'y' : y, 'x1' : x1, 'x2': x2, 'u':u })\n",
    "popdata_reg.head()"
   ]
  },
  {
   "cell_type": "code",
   "execution_count": null,
   "metadata": {},
   "outputs": [],
   "source": [
    "# Get a sample of 1000 observations\n",
    "sample_df = popdata_reg.sample()\n",
    "sample_df.head()"
   ]
  },
  {
   "cell_type": "markdown",
   "metadata": {},
   "source": [
    "Estimate $\\hat{y}$ from the sample "
   ]
  },
  {
   "cell_type": "code",
   "execution_count": null,
   "metadata": {},
   "outputs": [],
   "source": [
    "mod = smf.ols(formula='y ~ x1 + x2', data=sample_df)\n",
    "res = mod.fit()\n",
    "res.summary()"
   ]
  },
  {
   "cell_type": "markdown",
   "metadata": {},
   "source": [
    "### Partialling  out $\\beta_1$ <a class = anchor id = anchor4></a>\n",
    "Expressing $x_1$ as a function of $x_2$\n",
    "\n",
    "- run a regression of $x_2$ on $x_1$ using the sample data save the results in object res12\n",
    "- store the parameters from this regression and use them to predict $\\hat{x_1}$ and the residuals and save those into your sample_df dataframe\n",
    "- look at the data using `.head()`"
   ]
  },
  {
   "cell_type": "code",
   "execution_count": null,
   "metadata": {},
   "outputs": [],
   "source": [
    "mod12 = smf.ols(formula='', data=sample_df)\n",
    "res12 = mod12.fit()\n",
    "\n",
    "# Create the variable in df\n",
    "x1x2_beta1 = \n",
    "x1x2_beta0 = \n",
    "\n",
    "sample_df['x1_hat'] = \n",
    "#sample_df['x1_hat'] = x1x2_beta0 + x1x2_beta1*sample_df['x2']\n",
    "sample_df['x1_resid'] = \n",
    "sample_df.head()"
   ]
  },
  {
   "cell_type": "markdown",
   "metadata": {},
   "source": [
    "### Fitting the Residual to y<a class = anchor id = anchor5></a>\n",
    "\n",
    "- Run a regression of $x_1residuals$ on $y$"
   ]
  },
  {
   "cell_type": "code",
   "execution_count": null,
   "metadata": {},
   "outputs": [],
   "source": [
    "mody1 = smf.ols(formula = '', data = sample_df)\n",
    "resy1 = mody1.fit()\n",
    "\n",
    "resy1.params.round(2)"
   ]
  },
  {
   "cell_type": "markdown",
   "metadata": {},
   "source": [
    "Compare with estimated $\\beta_1$ from our original regression results "
   ]
  },
  {
   "cell_type": "code",
   "execution_count": null,
   "metadata": {},
   "outputs": [],
   "source": [
    "res.params[1].round(2)"
   ]
  },
  {
   "cell_type": "markdown",
   "metadata": {},
   "source": [
    "**We get the same $\\beta_1$ as in the original regression equation**\n",
    "\n",
    "### Partialling  out $\\beta_2$ <a class = anchor id = anchor6></a>\n",
    "Expressing $x_2$ as a function of $x_1$\n",
    "\n",
    "- run a regression of $x_1$ on $x_2$ using the sample data save the results in object res12\n",
    "- store the parameters from this regression and use them to predict $\\hat{x_2}$ and the residuals and save those into your sample_df dataframe\n",
    "- look at the data using `.head()`"
   ]
  },
  {
   "cell_type": "code",
   "execution_count": null,
   "metadata": {},
   "outputs": [],
   "source": [
    "mod21 = smf.ols(formula='', data=sample_df)\n",
    "res21 = mod21.fit()\n",
    "\n",
    "# Create the variable in df\n",
    "x2x1_beta1 = \n",
    "x2x1_beta0 = \n",
    "\n",
    "sample_df['x2_hat'] = \n",
    "sample_df['x2_resid'] = \n",
    "#sample_df['x2_resid'] = sample_df['x2'] - sample_df['x2_hat']\n",
    "sample_df.head()"
   ]
  },
  {
   "cell_type": "markdown",
   "metadata": {},
   "source": [
    "### Fitting the Residual to y<a class = anchor id = anchor7></a>"
   ]
  },
  {
   "cell_type": "code",
   "execution_count": null,
   "metadata": {},
   "outputs": [],
   "source": [
    "mody2 = \n",
    "resy2 = \n",
    "\n",
    "resy2.params.round(2)"
   ]
  },
  {
   "cell_type": "markdown",
   "metadata": {},
   "source": [
    "Compare with estimated $\\beta_2$ from our original regression results "
   ]
  },
  {
   "cell_type": "code",
   "execution_count": null,
   "metadata": {},
   "outputs": [],
   "source": [
    "res.params[2].round(2)"
   ]
  },
  {
   "cell_type": "markdown",
   "metadata": {},
   "source": [
    "**We get the same $\\beta_2$ as in the original regression equation**"
   ]
  },
  {
   "cell_type": "markdown",
   "metadata": {},
   "source": [
    "\n",
    "&nbsp;\n",
    "<hr />\n",
    "<p style=\"font-family:palatino; text-align: center;font-size: 15px\">ECON320 Python Programming Laboratory</a></p>\n",
    "<p style=\"font-family:palatino; text-align: center;font-size: 15px\">Professor <em> Paloma Lopez de mesa Moyano</em></a></p>\n",
    "<p style=\"font-family:palatino; text-align: center;font-size: 15px\"><span style=\"color: #6666FF;\"><em>paloma.moyano@emory.edu</em></span></p>\n",
    "\n",
    "<p style=\"font-family:palatino; text-align: center;font-size: 15px\">Department of Economics</a></p>\n",
    "<p style=\"font-family:palatino; text-align: center; color: #012169;font-size: 15px\">Emory University</a></p>\n",
    "\n",
    "&nbsp;"
   ]
  }
 ],
 "metadata": {
  "kernelspec": {
   "display_name": "Python 3 (ipykernel)",
   "language": "python",
   "name": "python3"
  },
  "language_info": {
   "codemirror_mode": {
    "name": "ipython",
    "version": 3
   },
   "file_extension": ".py",
   "mimetype": "text/x-python",
   "name": "python",
   "nbconvert_exporter": "python",
   "pygments_lexer": "ipython3",
   "version": "3.7.9"
  },
  "toc": {
   "base_numbering": 1,
   "nav_menu": {},
   "number_sections": false,
   "sideBar": true,
   "skip_h1_title": true,
   "title_cell": "Table of Contents",
   "title_sidebar": "Contents",
   "toc_cell": false,
   "toc_position": {},
   "toc_section_display": true,
   "toc_window_display": false
  }
 },
 "nbformat": 4,
 "nbformat_minor": 4
}
