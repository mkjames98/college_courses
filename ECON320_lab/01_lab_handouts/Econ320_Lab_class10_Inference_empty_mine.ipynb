{
  "cells": [
    {
      "cell_type": "code",
      "execution_count": null,
      "metadata": {
        "id": "fu-kSOmKrLhE"
      },
      "outputs": [],
      "source": [
        "# I would like some type of code here to hide and show the code like with my R handouts\n"
      ]
    },
    {
      "cell_type": "markdown",
      "metadata": {
        "id": "-18Svwm-rLhF"
      },
      "source": [
        "<style>\n",
        "div.blue{\n",
        "    background-color:#e6f0ff; \n",
        "    border-radius: 5px; \n",
        "    padding: 20px;}\n",
        "</style> \n",
        "\n",
        "<style>\n",
        "div.warn {    \n",
        "    background-color: #fcf2f2;\n",
        "    border-color: #dFb5b4;\n",
        "    border-left: 5px solid #dfb5b4;\n",
        "    padding: 0.5em;\n",
        "    }\n",
        " </style>\n",
        "    \n",
        "<h1 style=\"text-align: center; color: purple;\" markdown=\"1\">Econ 320 Python Lab Title </h1>\n",
        "<h2 style=\"text-align: center; color: purple;\" markdown=\"1\">Handout # </h2>\n"
      ]
    },
    {
      "cell_type": "markdown",
      "metadata": {
        "id": "P9QDRS4ArLhG"
      },
      "source": [
        "## The t-distribution, the normal distribution and the critical values\n",
        "\n",
        "\n",
        "The t distribution is the distribution we use to do inference of our estimated parameters. Below is a graph of the t-distribution together with the normal distribution. See how similiar they are when the sample is big enough. \n",
        "Let's use the quartile funtion to check for the critical values for both functions. We can see that they are very similar. For big enough samples you can use the critical values from the normal distribution.\n",
        "\n",
        "In the code below the t distribution you can play changing the degrees of freedom (df) and see how similiar it is to the standard normal. \n",
        "\n",
        "Modify the code increasing the degrees of freedom"
      ]
    },
    {
      "cell_type": "code",
      "execution_count": null,
      "metadata": {
        "id": "oybRuxXRrLhG"
      },
      "outputs": [],
      "source": [
        "from scipy.stats import norm\n",
        "from scipy.stats import t\n",
        "import scipy.stats as stats\n",
        "import numpy as np\n",
        "import matplotlib.pyplot as plt \n",
        "import seaborn as sns\n",
        "\n",
        "import wooldridge as woo\n",
        "import statsmodels.formula.api as smf\n",
        "\n",
        "\n",
        "from stargazer.stargazer import Stargazer\n",
        "from IPython.core.display import HTML"
      ]
    },
    {
      "cell_type": "code",
      "execution_count": null,
      "metadata": {
        "id": "wgEvd7TTrLhH",
        "outputId": "a089b367-51c7-45eb-86c7-38d555ece10d"
      },
      "outputs": [
        {
          "data": {
            "image/png": "[encoded data removed]",
            "text/plain": [
              "<Figure size 432x288 with 2 Axes>"
            ]
          },
          "metadata": {
            "needs_background": "light"
          },
          "output_type": "display_data"
        }
      ],
      "source": [
        "x_axis = np.arange(-4, 4, 0.01)\n",
        "y1=norm.pdf(x_axis,0,1)\n",
        "y2=t.pdf(x_axis,df=100)\n",
        "\n",
        "fig, axs = plt.subplots(ncols=2, sharey=True)\n",
        "sns.lineplot(x=x_axis, y=y1, ax=axs[0])\n",
        "sns.lineplot(x=x_axis, y=y2, ax=axs[1],color='red')\n",
        "axs[0].plot(x_axis, y2, color='red');\n",
        "axs[0].title.set_text('First Plot')\n",
        "axs[1].title.set_text('Second Plot')"
      ]
    },
    {
      "cell_type": "code",
      "execution_count": null,
      "metadata": {
        "id": "3X43edm1rLhI",
        "outputId": "d1618ce4-a77a-4d43-bca5-dbcf19ebd578"
      },
      "outputs": [
        {
          "data": {
            "image/png": "[encoded data removed]",
            "text/plain": [
              "<Figure size 432x288 with 1 Axes>"
            ]
          },
          "metadata": {
            "needs_background": "light"
          },
          "output_type": "display_data"
        }
      ],
      "source": [
        "xlow = np.arange(-4, -1.96, 0.01)\n",
        "xup = np.arange(1.96, 4, 0.01)\n",
        "y1=norm.pdf(x_axis,0,1)\n",
        "y2=norm.pdf(xup,0,1)\n",
        "y3=norm.pdf(xlow,0,1)\n",
        "\n",
        "fig, ax1 = plt.subplots()\n",
        "\n",
        "ax1.fill_between(x_axis, y1)\n",
        "ax1.fill_between(xlow, y3, color='cyan')\n",
        "ax1.fill_between(xup, y2, color='cyan')\n",
        "ax1.axvline(x=-1.96,  ls='--', color='g',ymin= 0.035)\n",
        "ax1.axvline(x=1.96 ,  ls='--', color='g', ymin= 0.035)\n",
        "ax1.text(x=-3, y=0.05, s=\"\\u03B1 / 2\")\n",
        "ax1.text(x=2.5, y=0.05, s=\"\\u03B1 / 2\")\n",
        "\n",
        "\n",
        "plt.setp(ax1, xticks=[-1.96,1.96], yticks=[], xlabel='Z', title=\"Critical value for \\u03B1\");\n"
      ]
    },
    {
      "cell_type": "markdown",
      "metadata": {
        "id": "z1lrvlZLrLhI"
      },
      "source": [
        "After seeing this let's see how similar critical values are for both distributions\n",
        "\n",
        "The value of alpha that what we use for hypothesis testing in our regression, type error 1. "
      ]
    },
    {
      "cell_type": "code",
      "execution_count": null,
      "metadata": {
        "id": "ceq2u5s9rLhJ",
        "outputId": "7f724ddc-7c90-4b23-e452-4aa32b8bdfe1"
      },
      "outputs": [
        {
          "name": "stdout",
          "output_type": "stream",
          "text": [
            "cv_t: [1.97743121 2.61219198]\n",
            "\n",
            "cv_n: [1.95996398 2.5758293 ]\n",
            "\n"
          ]
        }
      ],
      "source": [
        "# CV for alpha=5% and 1% using the t distribution with 137 d.f.:\n",
        "alpha = np.array([0.05, 0.01])\n",
        "cv_t = stats.t.ppf(1 - alpha / 2, 137)\n",
        "print(f'cv_t: {cv_t}\\n')\n",
        "\n",
        "# CV for alpha=5% and 1% using the normal approximation:\n",
        "cv_n = stats.norm.ppf(1 - alpha / 2)\n",
        "print(f'cv_n: {cv_n}\\n')\n"
      ]
    },
    {
      "cell_type": "markdown",
      "metadata": {
        "id": "d78mTytFrLhJ"
      },
      "source": [
        "## The *t* test \n",
        "\n",
        "After learning the magnitude and sign of the estimated coefficients in a regression, the next step in empirical research is investigating the statistical significance of these estimates. \n",
        "\n",
        "### General Setup\n",
        "\n",
        "We are often interested in testing whether there is a relation at all between the dependent variable $y$ and a regressor $x_j$ and do not want to impose a sign on the partial effect a *priori*. \n",
        "So we have the null hypotesis of the form\n",
        "$$ H_0: \\beta_j = a_j $$ \n",
        "where $a_j$ is some given number, very often $a_j=0$. The standard two-tailed where the alternative hypothesis is \n",
        "$$ H_1: \\beta_j \\neq a_j $$\n",
        "and one- tailed test it is either one of \n",
        "\n",
        "$$H_1: \\beta_j < a_j  \\;\\;\\;\\;  or \\;\\;\\;\\;   H_1: \\beta_j > a_j$$ \n",
        "\n",
        "The hypotheses can be conveniently tested using a t test which is based on the statistic\n",
        "\n",
        "$$ t= \\frac{\\hat{\\beta_j} - a_j}{se(\\hat{\\beta_j})}$$\n",
        "If $H_0$ is in fact true and the CLM assumptions hold, then this statistic has a t distribution with n-k-1 degrees of freedom.\n",
        "\n",
        "Since the standard case of a t test,$a_j=0$, is so common R provides us with the relevant t and p values directly in the **summary** of the estimation results. \n",
        "\n",
        "In other words the formula is: \n",
        "$$ t= \\frac{estimate - hypothesized \\; value }{standard \\; error}$$\n",
        "\n",
        "Let's see an example from Wooldridge Chapter 4. Using gpa1 data \n",
        "\n",
        "### t-test step-by-step\n",
        "\n",
        "You rarely use this method, but it is crucial to understand how these number are calculated to know how to read the regression results from the summary table as those caluclations are done there. See both and compare this with the resgression summary table. "
      ]
    },
    {
      "cell_type": "code",
      "execution_count": null,
      "metadata": {
        "id": "dEx6luwyrLhK",
        "outputId": "c5d68907-9114-463b-ea9a-4a5e78abc270"
      },
      "outputs": [
        {
          "name": "stdout",
          "output_type": "stream",
          "text": [
            "tstat: \n",
            "Intercept    4.191039\n",
            "hsGPA        4.396260\n",
            "ACT          1.393319\n",
            "skipped     -3.196840\n",
            "dtype: float64\n",
            "\n",
            "PValue: \n",
            " [0.     0.     0.1658 0.0017]\n",
            "\n"
          ]
        }
      ],
      "source": [
        "\n",
        "gpa1 = woo.dataWoo('gpa1')\n",
        "# store results:\n",
        "reg = smf.ols(______, data=gpa1)\n",
        "results =reg.fit()\n",
        "\n",
        "# manually confirm the formulas, i.e. extract coefficients and SE:\n",
        "b = results.params\n",
        "se = results.bse\n",
        "\n",
        "# reproduce t statistic:\n",
        "tstat = b/se\n",
        "print(f'tstat: \\n{tstat}\\n')\n",
        "\n",
        "df = results.nobs - 3-1\n",
        "\n",
        "# reproduce p value:\n",
        "pval = 2*stats.t.cdf(-abs(tstat), df)\n",
        "\n",
        "# use the np.around() function to round array \n",
        "print(f'PValue: \\n {np.around(pval,4)}\\n')"
      ]
    },
    {
      "cell_type": "markdown",
      "metadata": {
        "id": "HWDjwBCarLhL"
      },
      "source": [
        "### t-test in the regression results\n",
        "\n",
        "the summary of the `smf.ols()` or the stargazer table both provide with inference analysis and they both contained the same information it is just display differently. \n",
        "\n",
        "`.summary()` Provides a table that has four relevant columns related to the coefficients\n",
        "\n",
        "|Indep variables |  Estimate  | Std. Error | t-statistic value    | **$Pr(>|t|)$** |[0.025\t0.975]| \n",
        "|----------------------|-------------|-----------------|-------------------|-------------|---------|\n",
        "|Var Names| Estimated ($\\beta's$) | ($\\beta's$) standard errors | $(\\hat\\beta - 0) / se$ | p-value for $\\beta$| Confidence intervals at 95%|"
      ]
    },
    {
      "cell_type": "code",
      "execution_count": null,
      "metadata": {
        "id": "b0M-TGRgrLhL",
        "outputId": "9fdcce18-7389-4b54-f8ed-64e4536944b9"
      },
      "outputs": [
        {
          "data": {
            "text/html": [
              "<table class=\"simpletable\">\n",
              "<caption>OLS Regression Results</caption>\n",
              "<tr>\n",
              "  <th>Dep. Variable:</th>         <td>colGPA</td>      <th>  R-squared:         </th> <td>   0.234</td>\n",
              "</tr>\n",
              "<tr>\n",
              "  <th>Model:</th>                   <td>OLS</td>       <th>  Adj. R-squared:    </th> <td>   0.217</td>\n",
              "</tr>\n",
              "<tr>\n",
              "  <th>Method:</th>             <td>Least Squares</td>  <th>  F-statistic:       </th> <td>   13.92</td>\n",
              "</tr>\n",
              "<tr>\n",
              "  <th>Date:</th>             <td>Thu, 22 Oct 2020</td> <th>  Prob (F-statistic):</th> <td>5.65e-08</td>\n",
              "</tr>\n",
              "<tr>\n",
              "  <th>Time:</th>                 <td>19:04:41</td>     <th>  Log-Likelihood:    </th> <td> -41.501</td>\n",
              "</tr>\n",
              "<tr>\n",
              "  <th>No. Observations:</th>      <td>   141</td>      <th>  AIC:               </th> <td>   91.00</td>\n",
              "</tr>\n",
              "<tr>\n",
              "  <th>Df Residuals:</th>          <td>   137</td>      <th>  BIC:               </th> <td>   102.8</td>\n",
              "</tr>\n",
              "<tr>\n",
              "  <th>Df Model:</th>              <td>     3</td>      <th>                     </th>     <td> </td>   \n",
              "</tr>\n",
              "<tr>\n",
              "  <th>Covariance Type:</th>      <td>nonrobust</td>    <th>                     </th>     <td> </td>   \n",
              "</tr>\n",
              "</table>\n",
              "<table class=\"simpletable\">\n",
              "<tr>\n",
              "      <td></td>         <th>coef</th>     <th>std err</th>      <th>t</th>      <th>P>|t|</th>  <th>[0.025</th>    <th>0.975]</th>  \n",
              "</tr>\n",
              "<tr>\n",
              "  <th>Intercept</th> <td>    1.3896</td> <td>    0.332</td> <td>    4.191</td> <td> 0.000</td> <td>    0.734</td> <td>    2.045</td>\n",
              "</tr>\n",
              "<tr>\n",
              "  <th>hsGPA</th>     <td>    0.4118</td> <td>    0.094</td> <td>    4.396</td> <td> 0.000</td> <td>    0.227</td> <td>    0.597</td>\n",
              "</tr>\n",
              "<tr>\n",
              "  <th>ACT</th>       <td>    0.0147</td> <td>    0.011</td> <td>    1.393</td> <td> 0.166</td> <td>   -0.006</td> <td>    0.036</td>\n",
              "</tr>\n",
              "<tr>\n",
              "  <th>skipped</th>   <td>   -0.0831</td> <td>    0.026</td> <td>   -3.197</td> <td> 0.002</td> <td>   -0.135</td> <td>   -0.032</td>\n",
              "</tr>\n",
              "</table>\n",
              "<table class=\"simpletable\">\n",
              "<tr>\n",
              "  <th>Omnibus:</th>       <td> 1.917</td> <th>  Durbin-Watson:     </th> <td>   1.881</td>\n",
              "</tr>\n",
              "<tr>\n",
              "  <th>Prob(Omnibus):</th> <td> 0.383</td> <th>  Jarque-Bera (JB):  </th> <td>   1.636</td>\n",
              "</tr>\n",
              "<tr>\n",
              "  <th>Skew:</th>          <td> 0.125</td> <th>  Prob(JB):          </th> <td>   0.441</td>\n",
              "</tr>\n",
              "<tr>\n",
              "  <th>Kurtosis:</th>      <td> 2.535</td> <th>  Cond. No.          </th> <td>    300.</td>\n",
              "</tr>\n",
              "</table><br/><br/>Warnings:<br/>[1] Standard Errors assume that the covariance matrix of the errors is correctly specified."
            ],
            "text/plain": [
              "<class 'statsmodels.iolib.summary.Summary'>\n",
              "\"\"\"\n",
              "                            OLS Regression Results                            \n",
              "==============================================================================\n",
              "Dep. Variable:                 colGPA   R-squared:                       0.234\n",
              "Model:                            OLS   Adj. R-squared:                  0.217\n",
              "Method:                 Least Squares   F-statistic:                     13.92\n",
              "Date:                Thu, 22 Oct 2020   Prob (F-statistic):           5.65e-08\n",
              "Time:                        19:04:41   Log-Likelihood:                -41.501\n",
              "No. Observations:                 141   AIC:                             91.00\n",
              "Df Residuals:                     137   BIC:                             102.8\n",
              "Df Model:                           3                                         \n",
              "Covariance Type:            nonrobust                                         \n",
              "==============================================================================\n",
              "                 coef    std err          t      P>|t|      [0.025      0.975]\n",
              "------------------------------------------------------------------------------\n",
              "Intercept      1.3896      0.332      4.191      0.000       0.734       2.045\n",
              "hsGPA          0.4118      0.094      4.396      0.000       0.227       0.597\n",
              "ACT            0.0147      0.011      1.393      0.166      -0.006       0.036\n",
              "skipped       -0.0831      0.026     -3.197      0.002      -0.135      -0.032\n",
              "==============================================================================\n",
              "Omnibus:                        1.917   Durbin-Watson:                   1.881\n",
              "Prob(Omnibus):                  0.383   Jarque-Bera (JB):                1.636\n",
              "Skew:                           0.125   Prob(JB):                        0.441\n",
              "Kurtosis:                       2.535   Cond. No.                         300.\n",
              "==============================================================================\n",
              "\n",
              "Warnings:\n",
              "[1] Standard Errors assume that the covariance matrix of the errors is correctly specified.\n",
              "\"\"\""
            ]
          },
          "execution_count": 28,
          "metadata": {},
          "output_type": "execute_result"
        }
      ],
      "source": [
        "# Display the regression results from the results object \n",
        "results.summary()"
      ]
    },
    {
      "cell_type": "markdown",
      "metadata": {
        "id": "p0FpqKovrLhL"
      },
      "source": [
        "<font color='blue'>\n",
        "    The results above, both from the step-by-step method and doing the `summary()`, are equal and provide the same information. Remember that a $|t|>2$ is the rule of thumb to reject the null hypothesis. \n",
        "\n",
        "   From our calculation above, the critical value for $\\alpha =0.05$ was 1.97 the t-stats for High School GPA and skipped are bigger than this number. Showing the $$ H_0: \\beta_j = 0 $$ is rejected in favor of $$ H_a: \\beta_j \\neq a_j $$ \n",
        "    \n",
        "   p-values are also closed to zero informing about the level of significance of our variables. Highs School GPA for example is significant at 1%\n",
        "    \n",
        "</font> \n"
      ]
    },
    {
      "cell_type": "markdown",
      "metadata": {
        "id": "kovFtwgJrLhL"
      },
      "source": [
        "`stargazer(model)` Provides a table with one column per model \n",
        "\n",
        "|Independent variables |  Estimate|\n",
        "|---------------------|------------|\n",
        "|Variable name| Estimated ($\\beta's$) with stars the imply statistical significance at certain $\\alpha$|\n",
        "|                  |(standard errors in parenthesis)| "
      ]
    },
    {
      "cell_type": "code",
      "execution_count": null,
      "metadata": {
        "id": "RS-nIdRGrLhM",
        "outputId": "2f69740c-c386-4802-c233-1150a81c6b02"
      },
      "outputs": [
        {
          "data": {
            "text/html": [
              "<table style=\"text-align:center\"><tr><td colspan=\"2\" style=\"border-bottom: 1px solid black\"></td></tr><tr><td style=\"text-align:left\"></td><td colspan=\"1\"><em>Dependent variable:</em></td></tr><tr><td style=\"text-align:left\"></td><tr><td style=\"text-align:left\"></td><td>(1)</td></tr><tr><td colspan=\"2\" style=\"border-bottom: 1px solid black\"></td></tr><tr><td style=\"text-align:left\">ACT</td><td>0.015<sup></sup></td></tr><tr><td style=\"text-align:left\"></td><td>(0.011)</td></tr><tr><td style=\"text-align:left\">Intercept</td><td>1.39<sup>***</sup></td></tr><tr><td style=\"text-align:left\"></td><td>(0.332)</td></tr><tr><td style=\"text-align:left\">hsGPA</td><td>0.412<sup>***</sup></td></tr><tr><td style=\"text-align:left\"></td><td>(0.094)</td></tr><tr><td style=\"text-align:left\">skipped</td><td>-0.083<sup>***</sup></td></tr><tr><td style=\"text-align:left\"></td><td>(0.026)</td></tr><td colspan=\"2\" style=\"border-bottom: 1px solid black\"></td></tr><tr><td style=\"text-align: left\">Observations</td><td>141.0</td></tr><tr><td style=\"text-align: left\">R<sup>2</sup></td><td>0.234</td></tr><tr><td style=\"text-align: left\">Adjusted R<sup>2</sup></td><td>0.217</td></tr><tr><td style=\"text-align: left\">Residual Std. Error</td><td>0.329(df = 137.0)</td></tr><tr><td style=\"text-align: left\">F Statistic</td><td>13.919<sup>***</sup>(df = 3.0; 137.0)</td></tr><tr><td colspan=\"2\" style=\"border-bottom: 1px solid black\"></td></tr><tr><td style=\"text-align: left\">Note:</td>\n",
              " <td colspan=\"1\" style=\"text-align: right\">\n",
              "  <sup>*</sup>p&lt;0.1;\n",
              "  <sup>**</sup>p&lt;0.05;\n",
              "  <sup>***</sup>p&lt;0.01\n",
              " </td></tr></table>"
            ],
            "text/plain": [
              "<IPython.core.display.HTML object>"
            ]
          },
          "execution_count": 29,
          "metadata": {},
          "output_type": "execute_result"
        }
      ],
      "source": [
        "\n",
        "# Let's see the regression results in the stargazer table why are the stars there? what do they show? \n",
        "\n",
        "stargazer = Stargazer([_____])\n",
        "HTML(stargazer.render_html())"
      ]
    },
    {
      "cell_type": "markdown",
      "metadata": {
        "id": "hqtLMmqBrLhM"
      },
      "source": [
        "## Confindence Intervals\n",
        "\n",
        "Confindence intervals for regression coefficients are related to the t test. The 95% confidence inteval for parameter $\\hat{\\beta_j}\\pm c \\cdot se(\\hat{\\beta_j})$ \n",
        "where $c$ is the same critical value for the two sided t test using a significance level $\\alpha=5\\%$\n",
        "\n",
        "In Python you can calculate CI for all coefficients: \n",
        "Store the regressions results in an *object* and then use the method **.conf_int()** to obtain a table of 95% confidence intervals. \n"
      ]
    },
    {
      "cell_type": "code",
      "execution_count": null,
      "metadata": {
        "id": "vuzhMzAorLhM",
        "outputId": "764d0379-2dd3-4a43-97f7-6a71f1f18104"
      },
      "outputs": [
        {
          "data": {
            "text/html": [
              "<div>\n",
              "<style scoped>\n",
              "    .dataframe tbody tr th:only-of-type {\n",
              "        vertical-align: middle;\n",
              "    }\n",
              "\n",
              "    .dataframe tbody tr th {\n",
              "        vertical-align: top;\n",
              "    }\n",
              "\n",
              "    .dataframe thead th {\n",
              "        text-align: right;\n",
              "    }\n",
              "</style>\n",
              "<table border=\"1\" class=\"dataframe\">\n",
              "  <thead>\n",
              "    <tr style=\"text-align: right;\">\n",
              "      <th></th>\n",
              "      <th>0</th>\n",
              "      <th>1</th>\n",
              "    </tr>\n",
              "  </thead>\n",
              "  <tbody>\n",
              "    <tr>\n",
              "      <th>Intercept</th>\n",
              "      <td>0.733930</td>\n",
              "      <td>2.045178</td>\n",
              "    </tr>\n",
              "    <tr>\n",
              "      <th>hsGPA</th>\n",
              "      <td>0.226582</td>\n",
              "      <td>0.597050</td>\n",
              "    </tr>\n",
              "    <tr>\n",
              "      <th>ACT</th>\n",
              "      <td>-0.006171</td>\n",
              "      <td>0.035612</td>\n",
              "    </tr>\n",
              "    <tr>\n",
              "      <th>skipped</th>\n",
              "      <td>-0.134523</td>\n",
              "      <td>-0.031703</td>\n",
              "    </tr>\n",
              "  </tbody>\n",
              "</table>\n",
              "</div>"
            ],
            "text/plain": [
              "                  0         1\n",
              "Intercept  0.733930  2.045178\n",
              "hsGPA      0.226582  0.597050\n",
              "ACT       -0.006171  0.035612\n",
              "skipped   -0.134523 -0.031703"
            ]
          },
          "execution_count": 30,
          "metadata": {},
          "output_type": "execute_result"
        }
      ],
      "source": [
        "# 95% CI:\n",
        "#default alpha is 0.05, no need to specify\n",
        "results.conf_int()\n"
      ]
    },
    {
      "cell_type": "markdown",
      "metadata": {
        "id": "ev2XdEgKrLhM"
      },
      "source": [
        "You can use the option alpha=value to chose other levels. 99% CI for example  **`results.conf_int(alpha=0.01, cols=None)`** "
      ]
    },
    {
      "cell_type": "code",
      "execution_count": null,
      "metadata": {
        "id": "4UmYbrOdrLhM",
        "outputId": "01c339b9-9396-42e6-da2d-f8baed18a042"
      },
      "outputs": [
        {
          "data": {
            "text/html": [
              "<div>\n",
              "<style scoped>\n",
              "    .dataframe tbody tr th:only-of-type {\n",
              "        vertical-align: middle;\n",
              "    }\n",
              "\n",
              "    .dataframe tbody tr th {\n",
              "        vertical-align: top;\n",
              "    }\n",
              "\n",
              "    .dataframe thead th {\n",
              "        text-align: right;\n",
              "    }\n",
              "</style>\n",
              "<table border=\"1\" class=\"dataframe\">\n",
              "  <thead>\n",
              "    <tr style=\"text-align: right;\">\n",
              "      <th></th>\n",
              "      <th>0</th>\n",
              "      <th>1</th>\n",
              "    </tr>\n",
              "  </thead>\n",
              "  <tbody>\n",
              "    <tr>\n",
              "      <th>Intercept</th>\n",
              "      <td>0.523472</td>\n",
              "      <td>2.255635</td>\n",
              "    </tr>\n",
              "    <tr>\n",
              "      <th>hsGPA</th>\n",
              "      <td>0.167121</td>\n",
              "      <td>0.656511</td>\n",
              "    </tr>\n",
              "    <tr>\n",
              "      <th>ACT</th>\n",
              "      <td>-0.012877</td>\n",
              "      <td>0.042318</td>\n",
              "    </tr>\n",
              "    <tr>\n",
              "      <th>skipped</th>\n",
              "      <td>-0.151026</td>\n",
              "      <td>-0.015200</td>\n",
              "    </tr>\n",
              "  </tbody>\n",
              "</table>\n",
              "</div>"
            ],
            "text/plain": [
              "                  0         1\n",
              "Intercept  0.523472  2.255635\n",
              "hsGPA      0.167121  0.656511\n",
              "ACT       -0.012877  0.042318\n",
              "skipped   -0.151026 -0.015200"
            ]
          },
          "execution_count": 31,
          "metadata": {},
          "output_type": "execute_result"
        }
      ],
      "source": [
        "# 99% CI:\n",
        "results.conf_int(alpha=0.01, cols= None)"
      ]
    },
    {
      "cell_type": "markdown",
      "metadata": {
        "id": "08SOtJ4NrLhN"
      },
      "source": [
        "The following table provides some useful functions when doing inference in R. \n",
        "\n",
        "Function | Result\n",
        "---------|---------\n",
        "`mean(x)` | mean of a sample, $\\bar{X} = \\sum_{i=1}^n X_i/n$\n",
        "`sd(x)` | standard deviation of a sample $s_x = \\sqrt{\\sum_{i=1}^n (X_i-\\bar{X})^2 / (n-1)}$\n",
        "`var(x)` | variance of a sample $s_x^2 = \\sum_{i=1}^n (X_i-\\bar{X})^2 / (n-1)$\n",
        "`cov(x, y)` | Sample covariance of two variables $s_{x,y} = \\sum_{i=1}^n (X_i - \\bar{X})(Y_i - \\bar{Y}) / (n-1)$\n",
        "`sqrt()` | Square root of a number\n",
        "`length()` | Number of observations\n",
        "`t.test()` | Perform a one- or two-sample *t* test\n",
        "\n",
        "**Caveat** `t.test()` is not for regression coefficients, it is for test difference in sample means. The t-test for the regression coefficients is perfomed automatically by the lm command or if you have an specific hypothesis \n",
        "\n",
        "## Linear restrictions: The *F* test {.tabset} \n",
        "\n",
        "This test allows you to test the significance of various parameters at the same time. The test statistic of the `F` test is based on the relative difference between the sum of squared residuals in the general (unrestricted) model and a restricted model in which the hypoteses are imposed $SSR_{ur}$ and $SSR_{r}$, respectively. \n",
        "$$F={{\\frac{SSR_{r}-SSR_{ur}}{SSR_{ur}}}\\cdot{\\frac{n-k-1}{q}}}= {{\\frac{R^2_{ur}-R^2_{r}}{1-R^2_{ur}}}\\cdot{\\frac{n-k-1}{q}}}$$\n",
        "\n",
        "where q is the number of restrictions, n the number of observations and k the number of parameters in the regression. \n",
        "\n",
        "Let's play with this regression, from Wooldridge Chapter 4.  \n",
        "$$log(salary)=\\beta_0 + \\beta1\\cdot years + \\beta_2 \\cdot gamesyr + \\beta_3 \\cdot bavg + \\beta_4 \\cdot hrunsyr +\\beta_5 \\cdot rbisyr +u$$\n",
        "\n",
        "\n",
        "### F test step-by-step"
      ]
    },
    {
      "cell_type": "markdown",
      "metadata": {
        "id": "DQdiG_yHrLhN"
      },
      "source": [
        "* Import packages, we will need scipy.stats to look into the F distribition\n",
        "* Import dataset mlb1\n",
        "* Get the number of observations in the dataset using `.shape[0]`"
      ]
    },
    {
      "cell_type": "code",
      "execution_count": null,
      "metadata": {
        "id": "Rg3V6zs5rLhN"
      },
      "outputs": [],
      "source": [
        "mlb1 = ________.____('mlb1')\n",
        "n = mlb1.shape[0]"
      ]
    },
    {
      "cell_type": "markdown",
      "metadata": {
        "id": "HGCnDXxnrLhN"
      },
      "source": [
        "$R^2$ of unrestricted OLS regression:"
      ]
    },
    {
      "cell_type": "code",
      "execution_count": null,
      "metadata": {
        "id": "_tprGe2prLhO"
      },
      "outputs": [],
      "source": [
        "reg_ur = smf.ols(\n",
        "    formula=____________________________,\n",
        "    data=mlb1)\n",
        "fit_ur = reg_ur.fit()\n",
        "r2_ur = ___________________\n",
        "print(f'𝑅2 of unrestricted OLS regression: {r2_ur}\\n')"
      ]
    },
    {
      "cell_type": "markdown",
      "metadata": {
        "id": "69aanijerLhO"
      },
      "source": [
        "$R^2$ of restricted OLS regression, here we do not include the variables bavg , hrunsyr , rbisyr"
      ]
    },
    {
      "cell_type": "code",
      "execution_count": null,
      "metadata": {
        "id": "_F9zfMEIrLhO"
      },
      "outputs": [],
      "source": [
        "reg_r = smf.ols(formula=_____________, data=mlb1)\n",
        "fit_r = reg_r.fit()\n",
        "r2_r = _________________\n",
        "print(f'𝑅2 of restricted OLS regression:: {r2_r}\\n')"
      ]
    },
    {
      "cell_type": "markdown",
      "metadata": {
        "id": "5ZaBwxxxrLhO"
      },
      "source": [
        "<font color='blue'> Calculate the F statistic: <font>"
      ]
    },
    {
      "cell_type": "code",
      "execution_count": null,
      "metadata": {
        "id": "BEun7D_CrLhO"
      },
      "outputs": [],
      "source": [
        "fstat = ___________________\n",
        "print(f'fstat: {fstat}\\n')"
      ]
    },
    {
      "cell_type": "markdown",
      "metadata": {
        "id": "vSqo-caprLhO"
      },
      "source": [
        "CV for alpha=1% using the F distribution with 3 and 347 d.f.:"
      ]
    },
    {
      "cell_type": "code",
      "execution_count": null,
      "metadata": {
        "id": "yeXz-cMlrLhO"
      },
      "outputs": [],
      "source": [
        "cv = ____________________\n",
        "print(f'Critical value at 1% with 3 and 347 df= {cv}')"
      ]
    },
    {
      "cell_type": "markdown",
      "metadata": {
        "id": "TfEygi8GrLhP"
      },
      "source": [
        " p value = 1-cdf of the appropriate F distribution:"
      ]
    },
    {
      "cell_type": "code",
      "execution_count": null,
      "metadata": {
        "id": "nThH-FUrrLhP"
      },
      "outputs": [],
      "source": [
        "fpval = _________________________\n",
        "print(f'fpval: {round(fpval,4)}\\n')"
      ]
    },
    {
      "cell_type": "markdown",
      "metadata": {
        "id": "TrXFIkH1rLhP"
      },
      "source": [
        "\n",
        "### F test using `f_test` \n",
        "\n",
        "Python provides a more convinient way do this. But is always best to know were this function what is behind those magical functions.  The module statsmodels provides the command **`f-test`** that allows you to perfom this kind of tests. One you have estimates your regression and stored your results in an object, for our example named **results**\n",
        "\n",
        "> `hypothesis = [\"var_name1 = 0\", \"var_name2 = 0\", ...]\n",
        "   ftest = results.f_test()hypothesis)`\n",
        "\n",
        "where **`hypothesis`** represents the null hypothesis to be tested. It is a list of lenght q where each restriction is described as a text in which the variable name takes the place of its parameter. \n",
        "\n",
        "\n",
        "The package car provides the command `linearHypothesis()`which is adequate for this types of test. "
      ]
    },
    {
      "cell_type": "code",
      "execution_count": null,
      "metadata": {
        "id": "DDucVXldrLhP"
      },
      "outputs": [],
      "source": [
        "\n",
        "mlb1 = ___________.______('mlb1')\n",
        "\n",
        "# OLS regression:\n",
        "reg = _______(\n",
        "    formula=____________________________,\n",
        "    data=mlb1)\n",
        "results = reg.fit()\n",
        "\n",
        "# automated F test:\n",
        "hypotheses = ____________________\n",
        "ftest = ___________________\n",
        "fstat = ________________\n",
        "fpval = __________________\n",
        "# Beacuse fstat comes form an array we need .around() to round it. \n",
        "\n",
        "print(f'Fstat: {np.around(fstat, 3)}\\n')\n",
        "\n",
        "print(f'Fpval: {np.around(fpval,3)}\\n')"
      ]
    },
    {
      "cell_type": "markdown",
      "metadata": {
        "id": "hbhpniXirLhP"
      },
      "source": [
        "### F test using compare_f_test()\n",
        "\n",
        "You can just use  `.compare_f_test()` to compare both models. Run both *unrestricted* and *restricted* and apply the method: `unrestricted.compare_f_test(restricted)`. The results provide an array with the fstat, p-value and degrees of freedom. "
      ]
    },
    {
      "cell_type": "code",
      "execution_count": null,
      "metadata": {
        "id": "usVuDxG0rLhP"
      },
      "outputs": [],
      "source": [
        "fit_ur.compare_f_test(fit_r)"
      ]
    },
    {
      "cell_type": "markdown",
      "metadata": {
        "id": "W0RdMS5JrLhQ"
      },
      "source": [
        "### Testing of other hypothesis\n",
        "\n",
        "We can perform a more complicated hypothesis like that there is a relation between two variables $\\beta_i =c*\\beta_i$ where c is a constant."
      ]
    },
    {
      "cell_type": "code",
      "execution_count": null,
      "metadata": {
        "id": "ZhJ0ZT2erLhQ"
      },
      "outputs": [],
      "source": [
        "# automated F test:\n",
        "hypotheses = _________________\n",
        "ftest = __________________\n",
        "fstat = ______________\n",
        "fpval = ___________________\n",
        "\n",
        "print(f'fstat: {fstat}\\n')\n",
        "print(f'fpval: {fpval}\\n')"
      ]
    },
    {
      "cell_type": "code",
      "execution_count": null,
      "metadata": {
        "id": "tNOs1ruIrLhQ"
      },
      "outputs": [],
      "source": [
        "!jupyter nbconvert --to html Econ320_Lab_class10_Inference.ipynb"
      ]
    },
    {
      "cell_type": "markdown",
      "metadata": {
        "id": "jf8iQxZPrLhQ"
      },
      "source": [
        "&nbsp;\n",
        "<hr />\n",
        "<p style=\"font-family:palatino; text-align: center;font-size: 15px\">ECON320 Python Programming Laboratory</a></p>\n",
        "<p style=\"font-family:palatino; text-align: center;font-size: 15px\">Professor <em> Paloma Lopez de mesa Moyano</em></a></p>\n",
        "<p style=\"font-family:palatino; text-align: center;font-size: 15px\"><span style=\"color: #6666FF;\"><em>paloma.moyano@emory.edu</em></span></p>\n",
        "\n",
        "<p style=\"font-family:palatino; text-align: center;font-size: 15px\">Department of Economics</a></p>\n",
        "<p style=\"font-family:palatino; text-align: center; color: #012169;font-size: 15px\">Emory University</a></p>\n",
        "\n",
        "&nbsp;"
      ]
    }
  ],
  "metadata": {
    "colab": {
      "collapsed_sections": [],
      "name": "Econ320_Lab_class10_Inference_empty_mine.ipynb",
      "provenance": []
    },
    "kernelspec": {
      "display_name": "Python 3.8.10 ('venv320': venv)",
      "language": "python",
      "name": "python3"
    },
    "language_info": {
      "codemirror_mode": {
        "name": "ipython",
        "version": 3
      },
      "file_extension": ".py",
      "mimetype": "text/x-python",
      "name": "python",
      "nbconvert_exporter": "python",
      "pygments_lexer": "ipython3",
      "version": "3.8.10"
    },
    "vscode": {
      "interpreter": {
        "hash": "2575b666cc1342492c22814df50c9fc3698752638131e4af886c21bc3c3d1c24"
      }
    }
  },
  "nbformat": 4,
  "nbformat_minor": 0
}
