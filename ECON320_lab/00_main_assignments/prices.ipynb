{
 "cells": [
  {
   "cell_type": "code",
   "execution_count": 32,
   "metadata": {},
   "outputs": [],
   "source": [
    "import pandas as pd"
   ]
  },
  {
   "cell_type": "code",
   "execution_count": 33,
   "metadata": {},
   "outputs": [],
   "source": [
    "df = pd.read_excel(r\"C:\\Users\\Lenovo\\Downloads\\prices.xlsx\")\n",
    "df= df.fillna(\"\")"
   ]
  },
  {
   "cell_type": "code",
   "execution_count": 34,
   "metadata": {},
   "outputs": [
    {
     "data": {
      "text/html": [
       "<div>\n",
       "<style scoped>\n",
       "    .dataframe tbody tr th:only-of-type {\n",
       "        vertical-align: middle;\n",
       "    }\n",
       "\n",
       "    .dataframe tbody tr th {\n",
       "        vertical-align: top;\n",
       "    }\n",
       "\n",
       "    .dataframe thead th {\n",
       "        text-align: right;\n",
       "    }\n",
       "</style>\n",
       "<table border=\"1\" class=\"dataframe\">\n",
       "  <thead>\n",
       "    <tr style=\"text-align: right;\">\n",
       "      <th></th>\n",
       "      <th>Date</th>\n",
       "      <th>PAID BY</th>\n",
       "      <th>FOR WHO</th>\n",
       "      <th>Category</th>\n",
       "      <th>Price</th>\n",
       "    </tr>\n",
       "  </thead>\n",
       "  <tbody>\n",
       "    <tr>\n",
       "      <th>0</th>\n",
       "      <td>NaT</td>\n",
       "      <td>DP</td>\n",
       "      <td>Shared</td>\n",
       "      <td>DP flight</td>\n",
       "      <td>1762.13</td>\n",
       "    </tr>\n",
       "    <tr>\n",
       "      <th>1</th>\n",
       "      <td>NaT</td>\n",
       "      <td>DP</td>\n",
       "      <td>Shared</td>\n",
       "      <td>DP visa</td>\n",
       "      <td>21.27</td>\n",
       "    </tr>\n",
       "    <tr>\n",
       "      <th>2</th>\n",
       "      <td>NaT</td>\n",
       "      <td>MP</td>\n",
       "      <td>Shared</td>\n",
       "      <td>mp flight</td>\n",
       "      <td>596.60</td>\n",
       "    </tr>\n",
       "    <tr>\n",
       "      <th>3</th>\n",
       "      <td>NaT</td>\n",
       "      <td>MP</td>\n",
       "      <td>Shared</td>\n",
       "      <td>hotel sf</td>\n",
       "      <td>617.46</td>\n",
       "    </tr>\n",
       "    <tr>\n",
       "      <th>4</th>\n",
       "      <td>NaT</td>\n",
       "      <td>MP</td>\n",
       "      <td>Shared</td>\n",
       "      <td>airbnb la</td>\n",
       "      <td>858.17</td>\n",
       "    </tr>\n",
       "    <tr>\n",
       "      <th>...</th>\n",
       "      <td>...</td>\n",
       "      <td>...</td>\n",
       "      <td>...</td>\n",
       "      <td>...</td>\n",
       "      <td>...</td>\n",
       "    </tr>\n",
       "    <tr>\n",
       "      <th>87</th>\n",
       "      <td>NaT</td>\n",
       "      <td>DP</td>\n",
       "      <td>Shared</td>\n",
       "      <td>Malibu Pier Parking</td>\n",
       "      <td>10.00</td>\n",
       "    </tr>\n",
       "    <tr>\n",
       "      <th>88</th>\n",
       "      <td>NaT</td>\n",
       "      <td>DP</td>\n",
       "      <td>Shared</td>\n",
       "      <td>Yangji Gamjatang Park</td>\n",
       "      <td>5.00</td>\n",
       "    </tr>\n",
       "    <tr>\n",
       "      <th>89</th>\n",
       "      <td>NaT</td>\n",
       "      <td>DP</td>\n",
       "      <td>Shared</td>\n",
       "      <td>Ralphs</td>\n",
       "      <td>20.43</td>\n",
       "    </tr>\n",
       "    <tr>\n",
       "      <th>90</th>\n",
       "      <td>NaT</td>\n",
       "      <td>DP</td>\n",
       "      <td>Shared</td>\n",
       "      <td>Tacos</td>\n",
       "      <td>45.00</td>\n",
       "    </tr>\n",
       "    <tr>\n",
       "      <th>91</th>\n",
       "      <td>NaT</td>\n",
       "      <td>DP</td>\n",
       "      <td>Shared</td>\n",
       "      <td>Vape</td>\n",
       "      <td>45.00</td>\n",
       "    </tr>\n",
       "  </tbody>\n",
       "</table>\n",
       "<p>92 rows × 5 columns</p>\n",
       "</div>"
      ],
      "text/plain": [
       "   Date PAID BY FOR WHO               Category    Price\n",
       "0   NaT      DP  Shared              DP flight  1762.13\n",
       "1   NaT      DP  Shared                DP visa    21.27\n",
       "2   NaT      MP  Shared              mp flight   596.60\n",
       "3   NaT      MP  Shared               hotel sf   617.46\n",
       "4   NaT      MP  Shared              airbnb la   858.17\n",
       "..  ...     ...     ...                    ...      ...\n",
       "87  NaT      DP  Shared    Malibu Pier Parking    10.00\n",
       "88  NaT      DP  Shared  Yangji Gamjatang Park     5.00\n",
       "89  NaT      DP  Shared                 Ralphs    20.43\n",
       "90  NaT      DP  Shared                  Tacos    45.00\n",
       "91  NaT      DP  Shared                   Vape    45.00\n",
       "\n",
       "[92 rows x 5 columns]"
      ]
     },
     "execution_count": 34,
     "metadata": {},
     "output_type": "execute_result"
    }
   ],
   "source": [
    "df"
   ]
  },
  {
   "cell_type": "code",
   "execution_count": 35,
   "metadata": {},
   "outputs": [],
   "source": [
    "dp_tab = []\n",
    "mp_tab = []\n",
    "\n",
    "for n, payer in enumerate(df['PAID BY']):\n",
    "    temp = []\n",
    "    category = df['Category'][n]\n",
    "    price = df['Price'][n]\n",
    "    shared_or_personal_spending = df['FOR WHO'][n]\n",
    "    if shared_or_personal_spending == \"Shared\":\n",
    "        temp.extend([payer, shared_or_personal_spending, category, price/2])\n",
    "    else:\n",
    "        temp.extend([payer, shared_or_personal_spending, category, price])\n",
    "    if payer == \"DP\":\n",
    "        mp_tab.append(temp)\n",
    "    else:\n",
    "        dp_tab.append(temp)\n",
    "\n",
    "    #xifangktv.com\n"
   ]
  },
  {
   "cell_type": "code",
   "execution_count": 36,
   "metadata": {},
   "outputs": [],
   "source": [
    "mp_df = pd.DataFrame(data=mp_tab, columns = [\"payer\", \"type\", \"category\", \"price\"])"
   ]
  },
  {
   "cell_type": "code",
   "execution_count": 37,
   "metadata": {},
   "outputs": [],
   "source": [
    "dp_df = pd.DataFrame(data=dp_tab, columns = [\"payer\", \"type\", \"category\", \"price\"])"
   ]
  },
  {
   "cell_type": "code",
   "execution_count": 38,
   "metadata": {},
   "outputs": [],
   "source": [
    "mp_df.to_excel(r\"C:\\Users\\Lenovo\\Downloads\\mpprices.xlsx\", index= False)\n",
    "dp_df.to_excel(r\"C:\\Users\\Lenovo\\Downloads\\dpprices.xlsx\", index= False)\n",
    "\n"
   ]
  },
  {
   "cell_type": "code",
   "execution_count": null,
   "metadata": {},
   "outputs": [],
   "source": []
  }
 ],
 "metadata": {
  "kernelspec": {
   "display_name": "Python 3.8.10 ('venv320': venv)",
   "language": "python",
   "name": "python3"
  },
  "language_info": {
   "codemirror_mode": {
    "name": "ipython",
    "version": 3
   },
   "file_extension": ".py",
   "mimetype": "text/x-python",
   "name": "python",
   "nbconvert_exporter": "python",
   "pygments_lexer": "ipython3",
   "version": "3.8.10"
  },
  "orig_nbformat": 4,
  "vscode": {
   "interpreter": {
    "hash": "2575b666cc1342492c22814df50c9fc3698752638131e4af886c21bc3c3d1c24"
   }
  }
 },
 "nbformat": 4,
 "nbformat_minor": 2
}
