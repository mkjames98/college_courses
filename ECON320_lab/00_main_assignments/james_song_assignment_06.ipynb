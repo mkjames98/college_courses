{
 "cells": [
  {
   "cell_type": "markdown",
   "metadata": {},
   "source": [
    "    \n",
    "# ECON320-3 Assignment 6: James (Minkyu) Song \n"
   ]
  },
  {
   "cell_type": "code",
   "execution_count": null,
   "metadata": {},
   "outputs": [],
   "source": [
    "# Script name: james_song_assignment_06.ipynb\n",
    "# Purpose of script: Assignment 6 of ECON320 with Dr.O'Connell\n",
    "# Author: James (Minkyu) Song\n",
    "# Date Created: October 4th 2022\n",
    "# --------------------------\n",
    "# Notes: NA\n",
    "# ---------------------------"
   ]
  },
  {
   "cell_type": "markdown",
   "metadata": {},
   "source": [
    "\n",
    "# Assignment 6\n",
    "\n",
    "## Part I\n",
    "\n",
    "* Objective: Report the partial effects in a linear regression model.*\n",
    "\n",
    "* Reference: Wooldridge (7th edition), Chapter 3, Section 2*\n",
    "\n",
    "Following the previous assignment, take a sample of 1000 observations and estimate a linear model that accords with the population model.\n",
    "\n",
    "Are the estimates close or different? Then, perform the partialling out approach for $\\beta_1$ and $\\beta_2$. Show that you achieve the same coefficients as in the Python command that you chose to perform the linear regression (different packages such as statsmodels or sklearn can perform linear regressions).\n"
   ]
  },
  {
   "cell_type": "code",
   "execution_count": 1,
   "metadata": {},
   "outputs": [],
   "source": [
    "from ECON320_lib import birthday_dgm, rm_components\n",
    "# I have set up a library (folder) where there are functions that are often reused for this ECON320 class.\n",
    "# This library will be subject to change as the course progresses."
   ]
  },
  {
   "cell_type": "code",
   "execution_count": 2,
   "metadata": {},
   "outputs": [],
   "source": [
    "import math\n",
    "\n",
    "import pandas as pd\n",
    "import numpy as np\n",
    "import statsmodels.formula.api as smf\n"
   ]
  },
  {
   "cell_type": "markdown",
   "metadata": {},
   "source": [
    "Taking a sample of 1000 observations from the previous assignment."
   ]
  },
  {
   "cell_type": "code",
   "execution_count": 3,
   "metadata": {},
   "outputs": [],
   "source": [
    "birthdaystring = \"04022000\" \n",
    "rng = np.random.RandomState(int(birthdaystring))"
   ]
  },
  {
   "cell_type": "code",
   "execution_count": 4,
   "metadata": {},
   "outputs": [
    {
     "name": "stdout",
     "output_type": "stream",
     "text": [
      "x_1 is normally distributed with a mean of 10 and variance of 4\n",
      "x_2 is normally distributed with a mean of 2 and variance of 4\n",
      "u is normally distributed with a mean of 0 and variance of 2\n",
      "y = 2 + 4*x_1 + 2*x_2 + u \n",
      "population b_0 is: 2\n",
      "population b_1 is: 4\n",
      "population b_2 is: 2\n"
     ]
    },
    {
     "data": {
      "text/html": [
       "<div>\n",
       "<style scoped>\n",
       "    .dataframe tbody tr th:only-of-type {\n",
       "        vertical-align: middle;\n",
       "    }\n",
       "\n",
       "    .dataframe tbody tr th {\n",
       "        vertical-align: top;\n",
       "    }\n",
       "\n",
       "    .dataframe thead th {\n",
       "        text-align: right;\n",
       "    }\n",
       "</style>\n",
       "<table border=\"1\" class=\"dataframe\">\n",
       "  <thead>\n",
       "    <tr style=\"text-align: right;\">\n",
       "      <th></th>\n",
       "      <th>x_1</th>\n",
       "      <th>x_2</th>\n",
       "      <th>u</th>\n",
       "      <th>y</th>\n",
       "    </tr>\n",
       "  </thead>\n",
       "  <tbody>\n",
       "    <tr>\n",
       "      <th>0</th>\n",
       "      <td>9.762285</td>\n",
       "      <td>2.948933</td>\n",
       "      <td>-0.093010</td>\n",
       "      <td>46.853994</td>\n",
       "    </tr>\n",
       "    <tr>\n",
       "      <th>1</th>\n",
       "      <td>11.905537</td>\n",
       "      <td>-1.254199</td>\n",
       "      <td>0.595572</td>\n",
       "      <td>47.709323</td>\n",
       "    </tr>\n",
       "    <tr>\n",
       "      <th>2</th>\n",
       "      <td>10.940033</td>\n",
       "      <td>-0.759498</td>\n",
       "      <td>1.659478</td>\n",
       "      <td>45.900615</td>\n",
       "    </tr>\n",
       "    <tr>\n",
       "      <th>3</th>\n",
       "      <td>12.577342</td>\n",
       "      <td>-0.346016</td>\n",
       "      <td>-2.824877</td>\n",
       "      <td>48.792459</td>\n",
       "    </tr>\n",
       "    <tr>\n",
       "      <th>4</th>\n",
       "      <td>12.484329</td>\n",
       "      <td>1.833474</td>\n",
       "      <td>0.227080</td>\n",
       "      <td>55.831345</td>\n",
       "    </tr>\n",
       "    <tr>\n",
       "      <th>5</th>\n",
       "      <td>10.995418</td>\n",
       "      <td>4.361952</td>\n",
       "      <td>-0.996175</td>\n",
       "      <td>53.709400</td>\n",
       "    </tr>\n",
       "    <tr>\n",
       "      <th>6</th>\n",
       "      <td>11.222126</td>\n",
       "      <td>2.552896</td>\n",
       "      <td>0.848635</td>\n",
       "      <td>52.842931</td>\n",
       "    </tr>\n",
       "    <tr>\n",
       "      <th>7</th>\n",
       "      <td>12.043087</td>\n",
       "      <td>1.407567</td>\n",
       "      <td>-1.015456</td>\n",
       "      <td>51.972025</td>\n",
       "    </tr>\n",
       "    <tr>\n",
       "      <th>8</th>\n",
       "      <td>12.150970</td>\n",
       "      <td>2.285533</td>\n",
       "      <td>-1.563660</td>\n",
       "      <td>53.611287</td>\n",
       "    </tr>\n",
       "    <tr>\n",
       "      <th>9</th>\n",
       "      <td>9.325411</td>\n",
       "      <td>1.279933</td>\n",
       "      <td>0.024420</td>\n",
       "      <td>41.885929</td>\n",
       "    </tr>\n",
       "  </tbody>\n",
       "</table>\n",
       "</div>"
      ],
      "text/plain": [
       "         x_1       x_2         u          y\n",
       "0   9.762285  2.948933 -0.093010  46.853994\n",
       "1  11.905537 -1.254199  0.595572  47.709323\n",
       "2  10.940033 -0.759498  1.659478  45.900615\n",
       "3  12.577342 -0.346016 -2.824877  48.792459\n",
       "4  12.484329  1.833474  0.227080  55.831345\n",
       "5  10.995418  4.361952 -0.996175  53.709400\n",
       "6  11.222126  2.552896  0.848635  52.842931\n",
       "7  12.043087  1.407567 -1.015456  51.972025\n",
       "8  12.150970  2.285533 -1.563660  53.611287\n",
       "9   9.325411  1.279933  0.024420  41.885929"
      ]
     },
     "execution_count": 4,
     "metadata": {},
     "output_type": "execute_result"
    }
   ],
   "source": [
    "mrm_df, pop_b0_mrm, pop_b1_mrm, pop_b2_mrm = birthday_dgm.generate_mrm_birhtday(birthdaystring, rng, 10, 2, 0, 1000000)\n",
    "print(f\"population b_0 is: {pop_b0_mrm}\")\n",
    "print(f\"population b_1 is: {pop_b1_mrm}\")\n",
    "print(f\"population b_2 is: {pop_b2_mrm}\")\n",
    "\n",
    "mrm_df[:10]"
   ]
  },
  {
   "cell_type": "code",
   "execution_count": 5,
   "metadata": {},
   "outputs": [
    {
     "data": {
      "text/html": [
       "<div>\n",
       "<style scoped>\n",
       "    .dataframe tbody tr th:only-of-type {\n",
       "        vertical-align: middle;\n",
       "    }\n",
       "\n",
       "    .dataframe tbody tr th {\n",
       "        vertical-align: top;\n",
       "    }\n",
       "\n",
       "    .dataframe thead th {\n",
       "        text-align: right;\n",
       "    }\n",
       "</style>\n",
       "<table border=\"1\" class=\"dataframe\">\n",
       "  <thead>\n",
       "    <tr style=\"text-align: right;\">\n",
       "      <th></th>\n",
       "      <th>x_1</th>\n",
       "      <th>x_2</th>\n",
       "      <th>u</th>\n",
       "      <th>y</th>\n",
       "    </tr>\n",
       "  </thead>\n",
       "  <tbody>\n",
       "    <tr>\n",
       "      <th>count</th>\n",
       "      <td>1000000.000</td>\n",
       "      <td>1000000.000</td>\n",
       "      <td>1000000.000</td>\n",
       "      <td>1000000.000</td>\n",
       "    </tr>\n",
       "    <tr>\n",
       "      <th>mean</th>\n",
       "      <td>10.001</td>\n",
       "      <td>2.003</td>\n",
       "      <td>0.002</td>\n",
       "      <td>46.012</td>\n",
       "    </tr>\n",
       "    <tr>\n",
       "      <th>std</th>\n",
       "      <td>2.000</td>\n",
       "      <td>1.998</td>\n",
       "      <td>1.414</td>\n",
       "      <td>9.061</td>\n",
       "    </tr>\n",
       "    <tr>\n",
       "      <th>min</th>\n",
       "      <td>0.452</td>\n",
       "      <td>-7.795</td>\n",
       "      <td>-6.854</td>\n",
       "      <td>3.334</td>\n",
       "    </tr>\n",
       "    <tr>\n",
       "      <th>25%</th>\n",
       "      <td>8.651</td>\n",
       "      <td>0.658</td>\n",
       "      <td>-0.952</td>\n",
       "      <td>39.912</td>\n",
       "    </tr>\n",
       "    <tr>\n",
       "      <th>50%</th>\n",
       "      <td>10.001</td>\n",
       "      <td>2.004</td>\n",
       "      <td>0.000</td>\n",
       "      <td>45.997</td>\n",
       "    </tr>\n",
       "    <tr>\n",
       "      <th>75%</th>\n",
       "      <td>11.349</td>\n",
       "      <td>3.351</td>\n",
       "      <td>0.957</td>\n",
       "      <td>52.127</td>\n",
       "    </tr>\n",
       "    <tr>\n",
       "      <th>max</th>\n",
       "      <td>18.997</td>\n",
       "      <td>11.361</td>\n",
       "      <td>6.708</td>\n",
       "      <td>88.592</td>\n",
       "    </tr>\n",
       "  </tbody>\n",
       "</table>\n",
       "</div>"
      ],
      "text/plain": [
       "               x_1          x_2            u            y\n",
       "count  1000000.000  1000000.000  1000000.000  1000000.000\n",
       "mean        10.001        2.003        0.002       46.012\n",
       "std          2.000        1.998        1.414        9.061\n",
       "min          0.452       -7.795       -6.854        3.334\n",
       "25%          8.651        0.658       -0.952       39.912\n",
       "50%         10.001        2.004        0.000       45.997\n",
       "75%         11.349        3.351        0.957       52.127\n",
       "max         18.997       11.361        6.708       88.592"
      ]
     },
     "execution_count": 5,
     "metadata": {},
     "output_type": "execute_result"
    }
   ],
   "source": [
    "round(mrm_df.describe(),3)"
   ]
  },
  {
   "cell_type": "code",
   "execution_count": 6,
   "metadata": {},
   "outputs": [],
   "source": [
    "sample_mrm_df_1k = mrm_df.sample(n = 10000, random_state= int(birthdaystring))"
   ]
  },
  {
   "cell_type": "markdown",
   "metadata": {},
   "source": [
    "Estimating a linear model that accords with the population model."
   ]
  },
  {
   "cell_type": "code",
   "execution_count": 7,
   "metadata": {},
   "outputs": [
    {
     "name": "stdout",
     "output_type": "stream",
     "text": [
      "Regression results model 1: \n",
      "<statsmodels.regression.linear_model.RegressionResultsWrapper object at 0x000001E27D6857C0>\n",
      "\n"
     ]
    },
    {
     "data": {
      "text/html": [
       "<table class=\"simpletable\">\n",
       "<caption>OLS Regression Results</caption>\n",
       "<tr>\n",
       "  <th>Dep. Variable:</th>            <td>y</td>        <th>  R-squared:         </th> <td>   0.975</td> \n",
       "</tr>\n",
       "<tr>\n",
       "  <th>Model:</th>                   <td>OLS</td>       <th>  Adj. R-squared:    </th> <td>   0.975</td> \n",
       "</tr>\n",
       "<tr>\n",
       "  <th>Method:</th>             <td>Least Squares</td>  <th>  F-statistic:       </th> <td>1.967e+05</td>\n",
       "</tr>\n",
       "<tr>\n",
       "  <th>Date:</th>             <td>Tue, 04 Oct 2022</td> <th>  Prob (F-statistic):</th>  <td>  0.00</td>  \n",
       "</tr>\n",
       "<tr>\n",
       "  <th>Time:</th>                 <td>19:16:08</td>     <th>  Log-Likelihood:    </th> <td> -17735.</td> \n",
       "</tr>\n",
       "<tr>\n",
       "  <th>No. Observations:</th>      <td> 10000</td>      <th>  AIC:               </th> <td>3.548e+04</td>\n",
       "</tr>\n",
       "<tr>\n",
       "  <th>Df Residuals:</th>          <td>  9997</td>      <th>  BIC:               </th> <td>3.550e+04</td>\n",
       "</tr>\n",
       "<tr>\n",
       "  <th>Df Model:</th>              <td>     2</td>      <th>                     </th>     <td> </td>    \n",
       "</tr>\n",
       "<tr>\n",
       "  <th>Covariance Type:</th>      <td>nonrobust</td>    <th>                     </th>     <td> </td>    \n",
       "</tr>\n",
       "</table>\n",
       "<table class=\"simpletable\">\n",
       "<tr>\n",
       "      <td></td>         <th>coef</th>     <th>std err</th>      <th>t</th>      <th>P>|t|</th>  <th>[0.025</th>    <th>0.975]</th>  \n",
       "</tr>\n",
       "<tr>\n",
       "  <th>Intercept</th> <td>    1.8543</td> <td>    0.075</td> <td>   24.863</td> <td> 0.000</td> <td>    1.708</td> <td>    2.000</td>\n",
       "</tr>\n",
       "<tr>\n",
       "  <th>x_1</th>       <td>    4.0122</td> <td>    0.007</td> <td>  558.522</td> <td> 0.000</td> <td>    3.998</td> <td>    4.026</td>\n",
       "</tr>\n",
       "<tr>\n",
       "  <th>x_2</th>       <td>    2.0050</td> <td>    0.007</td> <td>  281.095</td> <td> 0.000</td> <td>    1.991</td> <td>    2.019</td>\n",
       "</tr>\n",
       "</table>\n",
       "<table class=\"simpletable\">\n",
       "<tr>\n",
       "  <th>Omnibus:</th>       <td> 1.088</td> <th>  Durbin-Watson:     </th> <td>   2.010</td>\n",
       "</tr>\n",
       "<tr>\n",
       "  <th>Prob(Omnibus):</th> <td> 0.580</td> <th>  Jarque-Bera (JB):  </th> <td>   1.103</td>\n",
       "</tr>\n",
       "<tr>\n",
       "  <th>Skew:</th>          <td>-0.025</td> <th>  Prob(JB):          </th> <td>   0.576</td>\n",
       "</tr>\n",
       "<tr>\n",
       "  <th>Kurtosis:</th>      <td> 2.988</td> <th>  Cond. No.          </th> <td>    54.9</td>\n",
       "</tr>\n",
       "</table><br/><br/>Notes:<br/>[1] Standard Errors assume that the covariance matrix of the errors is correctly specified."
      ],
      "text/plain": [
       "<class 'statsmodels.iolib.summary.Summary'>\n",
       "\"\"\"\n",
       "                            OLS Regression Results                            \n",
       "==============================================================================\n",
       "Dep. Variable:                      y   R-squared:                       0.975\n",
       "Model:                            OLS   Adj. R-squared:                  0.975\n",
       "Method:                 Least Squares   F-statistic:                 1.967e+05\n",
       "Date:                Tue, 04 Oct 2022   Prob (F-statistic):               0.00\n",
       "Time:                        19:16:08   Log-Likelihood:                -17735.\n",
       "No. Observations:               10000   AIC:                         3.548e+04\n",
       "Df Residuals:                    9997   BIC:                         3.550e+04\n",
       "Df Model:                           2                                         \n",
       "Covariance Type:            nonrobust                                         \n",
       "==============================================================================\n",
       "                 coef    std err          t      P>|t|      [0.025      0.975]\n",
       "------------------------------------------------------------------------------\n",
       "Intercept      1.8543      0.075     24.863      0.000       1.708       2.000\n",
       "x_1            4.0122      0.007    558.522      0.000       3.998       4.026\n",
       "x_2            2.0050      0.007    281.095      0.000       1.991       2.019\n",
       "==============================================================================\n",
       "Omnibus:                        1.088   Durbin-Watson:                   2.010\n",
       "Prob(Omnibus):                  0.580   Jarque-Bera (JB):                1.103\n",
       "Skew:                          -0.025   Prob(JB):                        0.576\n",
       "Kurtosis:                       2.988   Cond. No.                         54.9\n",
       "==============================================================================\n",
       "\n",
       "Notes:\n",
       "[1] Standard Errors assume that the covariance matrix of the errors is correctly specified.\n",
       "\"\"\""
      ]
     },
     "execution_count": 7,
     "metadata": {},
     "output_type": "execute_result"
    }
   ],
   "source": [
    "reg = smf.ols(formula= 'y ~ x_1 + x_2', data= sample_mrm_df_1k)\n",
    "result = reg.fit()\n",
    "\n",
    "print(f'Regression results model 1: \\n{result}\\n')\n",
    "result.summary()"
   ]
  },
  {
   "cell_type": "code",
   "execution_count": 8,
   "metadata": {},
   "outputs": [],
   "source": [
    "# this will be added to the library\n",
    "def partial_beta_12_21(df, regressed_var_name, var_name):\n",
    "    new_df= df.copy(deep=True)\n",
    "    mod_12_21 = smf.ols(formula=f'{regressed_var_name} ~ {var_name}', data=df)\n",
    "    res_12_21 = mod_12_21.fit()\n",
    "    predicted_x1_hat_a = res_12_21.predict()\n",
    "\n",
    "    samp_x1_x2_beta1 = res_12_21.params[1]\n",
    "    samp_x1_x2_beta0 = res_12_21.params[0]\n",
    "    predicted_x1_hat_b = samp_x1_x2_beta0 + samp_x1_x2_beta1*new_df[var_name]\n",
    "    if ((predicted_x1_hat_a.round(2) == predicted_x1_hat_b.round(2)).all()):\n",
    "        new_df[f'{regressed_var_name}_hat'] = predicted_x1_hat_a\n",
    "    else:\n",
    "        raise ValueError(\"partialed out x1_hat is inconsistent\")\n",
    "    new_df[f'{regressed_var_name}_residual'] = res_12_21.resid\n",
    "    return new_df, res_12_21\n"
   ]
  },
  {
   "cell_type": "code",
   "execution_count": 9,
   "metadata": {},
   "outputs": [],
   "source": [
    "partialed_sample_mrm_1k, res_x1_x2 = partial_beta_12_21(sample_mrm_df_1k, 'x_1', 'x_2')\n",
    "partialed_sample_mrm_1k, res_x2_x1 = partial_beta_12_21(partialed_sample_mrm_1k, 'x_2', 'x_1')\n"
   ]
  },
  {
   "cell_type": "code",
   "execution_count": 16,
   "metadata": {},
   "outputs": [
    {
     "data": {
      "text/plain": [
       "4.01"
      ]
     },
     "execution_count": 16,
     "metadata": {},
     "output_type": "execute_result"
    }
   ],
   "source": [
    "result.params[1].round(2)"
   ]
  },
  {
   "cell_type": "code",
   "execution_count": 10,
   "metadata": {},
   "outputs": [
    {
     "data": {
      "text/plain": [
       "Intercept       46.05\n",
       "x_1_residual     4.01\n",
       "dtype: float64"
      ]
     },
     "execution_count": 10,
     "metadata": {},
     "output_type": "execute_result"
    }
   ],
   "source": [
    "mody1 = smf.ols(formula = 'y ~ x_1_residual', data = partialed_sample_mrm_1k)\n",
    "resy1 = mody1.fit()\n",
    "\n",
    "resy1.params.round(2)"
   ]
  },
  {
   "cell_type": "code",
   "execution_count": 17,
   "metadata": {},
   "outputs": [
    {
     "data": {
      "text/plain": [
       "2.0"
      ]
     },
     "execution_count": 17,
     "metadata": {},
     "output_type": "execute_result"
    }
   ],
   "source": [
    "result.params[2].round(2)"
   ]
  },
  {
   "cell_type": "code",
   "execution_count": 18,
   "metadata": {},
   "outputs": [
    {
     "data": {
      "text/plain": [
       "Intercept       46.05\n",
       "x_2_residual     2.00\n",
       "dtype: float64"
      ]
     },
     "execution_count": 18,
     "metadata": {},
     "output_type": "execute_result"
    }
   ],
   "source": [
    "mody2 = smf.ols(formula = 'y ~ x_2_residual', data = partialed_sample_mrm_1k)\n",
    "resy2 = mody2.fit()\n",
    "resy2.params.round(2)"
   ]
  },
  {
   "cell_type": "code",
   "execution_count": null,
   "metadata": {},
   "outputs": [],
   "source": [
    "# As we can see from the initial DGP, \n",
    "# population b_0 is: 2\n",
    "# population b_1 is: 4\n",
    "# population b_2 is: 2 \n",
    "# \n",
    "# using pandas and numpy we take a sample \n",
    "# and build MLRMs using stasmodels\n",
    "#\n",
    "# result.summary() table shows us\n",
    "# sample b_0 is: 1.8543\n",
    "# sample b_1 is: 4.0122\n",
    "# sample b_2 is: 2.0050\n",
    "#\n",
    "# partialed out method showed us that\n",
    "# when we partial out sample_b_1, we get the same coefficients of sample b_1 which is 4.01\n",
    "# when we partial out sample_b_2, we get the same coefficients of sample b_2 which is 2.00\n",
    "\n",
    "# this is verified by fitting the residual to y both ways which returned the same result of 4.01 and 2.00\n",
    "# while there are little differences between the population and the sample coefficients, \n",
    "# the difference is extremely small, and we can say that our sample and our models are created well. \n"
   ]
  }
 ],
 "metadata": {
  "kernelspec": {
   "display_name": "Python 3.8.10 ('venv320': venv)",
   "language": "python",
   "name": "python3"
  },
  "language_info": {
   "codemirror_mode": {
    "name": "ipython",
    "version": 3
   },
   "file_extension": ".py",
   "mimetype": "text/x-python",
   "name": "python",
   "nbconvert_exporter": "python",
   "pygments_lexer": "ipython3",
   "version": "3.8.10"
  },
  "orig_nbformat": 4,
  "vscode": {
   "interpreter": {
    "hash": "2575b666cc1342492c22814df50c9fc3698752638131e4af886c21bc3c3d1c24"
   }
  }
 },
 "nbformat": 4,
 "nbformat_minor": 2
}
