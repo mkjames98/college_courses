{
 "cells": [
  {
   "cell_type": "markdown",
   "metadata": {
    "pycharm": {
     "name": "#%% md\n"
    }
   },
   "source": [
    "    \n",
    "# ECON320-3 Assignment 5: James (Minkyu) Song \n"
   ]
  },
  {
   "cell_type": "code",
   "execution_count": 2,
   "metadata": {
    "pycharm": {
     "name": "#%%\n"
    }
   },
   "outputs": [],
   "source": [
    "# Script name: james_song_assignment_05.ipynb\n",
    "# Purpose of script: Assignment 5 of ECON320 with Dr.O'Connell\n",
    "# Author: James (Minkyu) Song\n",
    "# Date Created: September 27th 2022\n",
    "# --------------------------\n",
    "# Notes: NA\n",
    "# ---------------------------"
   ]
  },
  {
   "cell_type": "markdown",
   "metadata": {
    "pycharm": {
     "name": "#%% md\n"
    }
   },
   "source": [
    "\n",
    "# Assignment 5\n",
    "\n",
    "\n",
    "## Part I\n",
    "\n",
    "* Objective: Introduction to Multiple Regression Analysis and demonstrate your understanding of the mechanics.*\n",
    "\n",
    "* Reference: Wooldridge (7th edition), Chapter 3, Section 1*\n",
    "\n",
    "Using all of the previous up to this point, how close is your coefficient to the population value? Is it the same or different? Why or why not, do you think?\n"
   ]
  },
  {
   "cell_type": "code",
   "execution_count": 3,
   "metadata": {
    "pycharm": {
     "name": "#%%\n"
    }
   },
   "outputs": [],
   "source": [
    "import math\n",
    "\n",
    "import pandas as pd\n",
    "import numpy as np"
   ]
  },
  {
   "cell_type": "code",
   "execution_count": 4,
   "metadata": {
    "pycharm": {
     "name": "#%%\n"
    }
   },
   "outputs": [],
   "source": [
    "birthdaystring = \"04022000\" \n",
    "rng = np.random.RandomState(int(birthdaystring))"
   ]
  },
  {
   "cell_type": "code",
   "execution_count": 5,
   "metadata": {
    "pycharm": {
     "name": "#%%\n"
    }
   },
   "outputs": [],
   "source": [
    "# function that finds the variance using my birthday,\n",
    "# note that \"scale\" parameter in rng.normal is standard deviation\n",
    "# so we have to square root the result to use it in rng.normal, since I return the Variance.\n",
    "def birthday_str_variance_srm(birthday_string):\n",
    "    for b in list(birthday_string):\n",
    "        if b != \"0\":\n",
    "            var_x= int(b)\n",
    "            break\n",
    "    for revb in reversed(list(birthday_string)):\n",
    "        if revb != \"0\":\n",
    "            var_u = int(revb)\n",
    "            break\n",
    "    return var_x, var_u\n",
    "\n",
    "def generate_srm_birhtday(birthday_string, rng, x_mean, u_mean, size): # x_mean = 10, u_mean =0\n",
    "    #beta0 is addition of 3rd and 4th digit of my birthday\n",
    "    pop_beta0 = int(birthday_string[2]) +int(birthday_string[3])\n",
    "    #beta1 is addition of 1st and 2nd digit of my birthday\n",
    "    pop_beta1= int(birthday_string[0]) + int(birthday_string[1])\n",
    "    #set scale, scale should be std, so sqrt the result\n",
    "    var_x, var_u = birthday_str_variance_srm(birthday_string)\n",
    "    scale_x = math.sqrt(var_x)\n",
    "    scale_u = math.sqrt(var_u)\n",
    "\n",
    "    x = rng.normal(loc = x_mean, scale= scale_x, size = size)\n",
    "    print(f\"x is normally distributed with a mean of {x_mean} and variance of {round(var_x,3)}\")\n",
    "    u = rng.normal(loc = u_mean, scale= scale_u, size = size)\n",
    "    print(f\"u is normally distributed with a mean of {u_mean} and variance of {round(var_u,3)}\")\n",
    "\n",
    "    y= pop_beta0+ pop_beta1*x+u\n",
    "    print(f\"y = {int(pop_beta0)} + {int(pop_beta1)}*x + u \")\n",
    "    gdata = {\"x\": x, \"u\":u, \"y\":y}\n",
    "    df = pd.DataFrame(data= gdata)\n",
    "    return df, pop_beta0, pop_beta1"
   ]
  },
  {
   "cell_type": "code",
   "execution_count": 6,
   "metadata": {
    "pycharm": {
     "name": "#%%\n"
    }
   },
   "outputs": [
    {
     "name": "stdout",
     "output_type": "stream",
     "text": [
      "x is normally distributed with a mean of 10 and variance of 4\n",
      "u is normally distributed with a mean of 0 and variance of 2\n",
      "y = 2 + 4*x + u \n",
      "population b_0 is: 2\n",
      "population b_1 is: 4\n"
     ]
    },
    {
     "data": {
      "text/html": [
       "<div>\n",
       "<style scoped>\n",
       "    .dataframe tbody tr th:only-of-type {\n",
       "        vertical-align: middle;\n",
       "    }\n",
       "\n",
       "    .dataframe tbody tr th {\n",
       "        vertical-align: top;\n",
       "    }\n",
       "\n",
       "    .dataframe thead th {\n",
       "        text-align: right;\n",
       "    }\n",
       "</style>\n",
       "<table border=\"1\" class=\"dataframe\">\n",
       "  <thead>\n",
       "    <tr style=\"text-align: right;\">\n",
       "      <th></th>\n",
       "      <th>x</th>\n",
       "      <th>u</th>\n",
       "      <th>y</th>\n",
       "    </tr>\n",
       "  </thead>\n",
       "  <tbody>\n",
       "    <tr>\n",
       "      <th>0</th>\n",
       "      <td>9.762285</td>\n",
       "      <td>0.670997</td>\n",
       "      <td>41.720135</td>\n",
       "    </tr>\n",
       "    <tr>\n",
       "      <th>1</th>\n",
       "      <td>11.905537</td>\n",
       "      <td>-2.301066</td>\n",
       "      <td>47.321083</td>\n",
       "    </tr>\n",
       "    <tr>\n",
       "      <th>2</th>\n",
       "      <td>10.940033</td>\n",
       "      <td>-1.951259</td>\n",
       "      <td>43.808873</td>\n",
       "    </tr>\n",
       "    <tr>\n",
       "      <th>3</th>\n",
       "      <td>12.577342</td>\n",
       "      <td>-1.658884</td>\n",
       "      <td>50.650484</td>\n",
       "    </tr>\n",
       "    <tr>\n",
       "      <th>4</th>\n",
       "      <td>12.484329</td>\n",
       "      <td>-0.117752</td>\n",
       "      <td>51.819565</td>\n",
       "    </tr>\n",
       "  </tbody>\n",
       "</table>\n",
       "</div>"
      ],
      "text/plain": [
       "           x         u          y\n",
       "0   9.762285  0.670997  41.720135\n",
       "1  11.905537 -2.301066  47.321083\n",
       "2  10.940033 -1.951259  43.808873\n",
       "3  12.577342 -1.658884  50.650484\n",
       "4  12.484329 -0.117752  51.819565"
      ]
     },
     "execution_count": 6,
     "metadata": {},
     "output_type": "execute_result"
    }
   ],
   "source": [
    "srm_df, pop_b0, pop_b1 = generate_srm_birhtday(birthdaystring, rng, 10, 0, 1000000)\n",
    "print(f\"population b_0 is: {pop_b0}\")\n",
    "print(f\"population b_1 is: {pop_b1}\")\n",
    "srm_df.head()"
   ]
  },
  {
   "cell_type": "code",
   "execution_count": 7,
   "metadata": {
    "pycharm": {
     "name": "#%%\n"
    }
   },
   "outputs": [
    {
     "name": "stdout",
     "output_type": "stream",
     "text": [
      "covariance is: 16.692187152734462\n",
      "sample b_0: 1.828873516428402\n",
      "sample b_1: 4.010702423430497\n"
     ]
    },
    {
     "data": {
      "text/html": [
       "<div>\n",
       "<style scoped>\n",
       "    .dataframe tbody tr th:only-of-type {\n",
       "        vertical-align: middle;\n",
       "    }\n",
       "\n",
       "    .dataframe tbody tr th {\n",
       "        vertical-align: top;\n",
       "    }\n",
       "\n",
       "    .dataframe thead th {\n",
       "        text-align: right;\n",
       "    }\n",
       "</style>\n",
       "<table border=\"1\" class=\"dataframe\">\n",
       "  <thead>\n",
       "    <tr style=\"text-align: right;\">\n",
       "      <th></th>\n",
       "      <th>x</th>\n",
       "      <th>u</th>\n",
       "      <th>y</th>\n",
       "      <th>y_pred</th>\n",
       "      <th>residuals</th>\n",
       "    </tr>\n",
       "  </thead>\n",
       "  <tbody>\n",
       "    <tr>\n",
       "      <th>345468</th>\n",
       "      <td>13.536626</td>\n",
       "      <td>2.000103</td>\n",
       "      <td>58.146605</td>\n",
       "      <td>56.120250</td>\n",
       "      <td>2.026354</td>\n",
       "    </tr>\n",
       "    <tr>\n",
       "      <th>92519</th>\n",
       "      <td>10.131876</td>\n",
       "      <td>1.789076</td>\n",
       "      <td>44.316580</td>\n",
       "      <td>42.464813</td>\n",
       "      <td>1.851766</td>\n",
       "    </tr>\n",
       "    <tr>\n",
       "      <th>724467</th>\n",
       "      <td>10.597634</td>\n",
       "      <td>-0.279561</td>\n",
       "      <td>44.110974</td>\n",
       "      <td>44.332829</td>\n",
       "      <td>-0.221855</td>\n",
       "    </tr>\n",
       "    <tr>\n",
       "      <th>357633</th>\n",
       "      <td>11.083328</td>\n",
       "      <td>-0.599694</td>\n",
       "      <td>45.733616</td>\n",
       "      <td>46.280802</td>\n",
       "      <td>-0.547186</td>\n",
       "    </tr>\n",
       "    <tr>\n",
       "      <th>211894</th>\n",
       "      <td>11.061429</td>\n",
       "      <td>-3.419116</td>\n",
       "      <td>42.826599</td>\n",
       "      <td>46.192973</td>\n",
       "      <td>-3.366374</td>\n",
       "    </tr>\n",
       "  </tbody>\n",
       "</table>\n",
       "</div>"
      ],
      "text/plain": [
       "                x         u          y     y_pred  residuals\n",
       "345468  13.536626  2.000103  58.146605  56.120250   2.026354\n",
       "92519   10.131876  1.789076  44.316580  42.464813   1.851766\n",
       "724467  10.597634 -0.279561  44.110974  44.332829  -0.221855\n",
       "357633  11.083328 -0.599694  45.733616  46.280802  -0.547186\n",
       "211894  11.061429 -3.419116  42.826599  46.192973  -3.366374"
      ]
     },
     "execution_count": 7,
     "metadata": {},
     "output_type": "execute_result"
    }
   ],
   "source": [
    "# creating sample, referenced from previous assignmnet submissions\n",
    "# and lab lectures\n",
    "\n",
    "sample_srm_df = srm_df.sample(n = 1000, random_state= int(birthdaystring))\n",
    "\n",
    "def sample_betas(sample_x, sample_y):\n",
    "    covxy= np.cov(sample_x, sample_y)[1,0]\n",
    "    print(\"covariance is: \"+ str(covxy))\n",
    "    varx= sample_x.var()\n",
    "    beta1_sample = covxy/varx\n",
    "    beta0_sample = sample_y.mean() - (beta1_sample* sample_x.mean())\n",
    "    print(f'sample b_0: {beta0_sample}')\n",
    "    print(f'sample b_1: {beta1_sample}')\n",
    "\n",
    "    return beta0_sample, beta1_sample\n",
    "\n",
    "def predict_y(sample_x, sample_y):\n",
    "    beta0_sample, beta1_sample = sample_betas(sample_x, sample_y)\n",
    "    y_pred = beta1_sample *sample_x +beta0_sample\n",
    "    return y_pred, beta0_sample, beta1_sample\n",
    "\n",
    "def residuals(sample_y, sample_y_pred):\n",
    "    return sample_y - sample_y_pred\n",
    "\n",
    "sample_srm_df['y_pred'], sample_b0, sample_b1 = predict_y(sample_srm_df['x'], sample_srm_df['y'])\n",
    "sample_srm_df['residuals'] = residuals(sample_srm_df['y'], sample_srm_df['y_pred'])\n",
    "sample_srm_df.head()"
   ]
  },
  {
   "cell_type": "code",
   "execution_count": 8,
   "metadata": {
    "pycharm": {
     "name": "#%%\n"
    }
   },
   "outputs": [
    {
     "name": "stdout",
     "output_type": "stream",
     "text": [
      "------------------------------\n",
      "population coefficients\n",
      "------------------------------\n",
      "population b_0: 2\n",
      "population b_1: 4\n",
      "\n",
      "------------------------------\n",
      "sample coefficients\n",
      "------------------------------\n",
      "sample b_0: 1.829\n",
      "sample b_1: 4.011\n",
      "\n",
      "------------------------------\n",
      "population - sample coefficients\n",
      "------------------------------\n",
      "pop b_0 - sample_b0: 0.171\n",
      "pop b_1 - sample_b1: -0.011\n"
     ]
    }
   ],
   "source": [
    "print(\"-\"*30)\n",
    "print(\"population coefficients\")\n",
    "print(\"-\"*30)\n",
    "print(f\"population b_0: {pop_b0}\")\n",
    "print(f\"population b_1: {pop_b1}\")\n",
    "print()\n",
    "print(\"-\"*30)\n",
    "print(\"sample coefficients\")\n",
    "print(\"-\"*30)\n",
    "print(f\"sample b_0: {round(sample_b0,3)}\")\n",
    "print(f\"sample b_1: {round(sample_b1,3)}\")\n",
    "print()\n",
    "print(\"-\"*30)\n",
    "print(\"population - sample coefficients\")\n",
    "print(\"-\"*30)\n",
    "print(f\"pop b_0 - sample_b0: {round(pop_b0-sample_b0, 3)}\")\n",
    "print(f\"pop b_1 - sample_b1: {round(pop_b1-sample_b1, 3)}\")\n"
   ]
  },
  {
   "cell_type": "code",
   "execution_count": 11,
   "metadata": {
    "pycharm": {
     "name": "#%%\n"
    }
   },
   "outputs": [
    {
     "name": "stdout",
     "output_type": "stream",
     "text": [
      "covariance is: 15.782376299515015\n",
      "sample b_0: 1.953894058883563\n",
      "sample b_1: 4.005627616852894\n",
      "------------------------------\n",
      "sample coefficients_10k\n",
      "------------------------------\n",
      "10ksample b_0: 1.954\n",
      "10ksample b_1: 4.006\n",
      "\n",
      "------------------------------\n",
      "population - sample coefficients (1k)\n",
      "------------------------------\n",
      "pop b_0 - sample_b0: 0.171\n",
      "pop b_1 - sample_b1: -0.011\n",
      "\n",
      "------------------------------\n",
      "population - sample coefficients (10k)\n",
      "------------------------------\n",
      "pop b_0 - sample_b0: 0.046\n",
      "pop b_1 - sample_b1: -0.006\n"
     ]
    }
   ],
   "source": [
    "# The values I got are close is your coefficient to the population value but different.\n",
    "# This is because our sample coefficient is the closest estimate we can get from the underlying population coefficients.\n",
    "# Also since this Data was generated through my birthday, our x variance was 4, it makes our sample a bit less precise\n",
    "# Since we take a sample, we can't get the exact values, but we can get closer as we increase our sample size as well.\n",
    "\n",
    "sample_srm_df_10k = srm_df.sample(n = 10000, random_state= int(birthdaystring))\n",
    "sample_srm_df_10k['y_pred'], sample_b0_10k, sample_b1_10k = predict_y(sample_srm_df_10k['x'], sample_srm_df_10k['y'])\n",
    "sample_srm_df_10k['residuals'] = residuals(sample_srm_df_10k['y'], sample_srm_df_10k['y_pred'])\n",
    "\n",
    "print(\"-\"*30)\n",
    "print(\"sample coefficients_10k\")\n",
    "print(\"-\"*30)\n",
    "print(f\"10ksample b_0: {round(sample_b0_10k,3)}\")\n",
    "print(f\"10ksample b_1: {round(sample_b1_10k,3)}\")\n",
    "print()\n",
    "print(\"-\"*30)\n",
    "print(\"population - sample coefficients (1k)\")\n",
    "print(\"-\"*30)\n",
    "print(f\"pop b_0 - sample_b0: {round(pop_b0-sample_b0, 3)}\")\n",
    "print(f\"pop b_1 - sample_b1: {round(pop_b1-sample_b1, 3)}\")\n",
    "print()\n",
    "print(\"-\"*30)\n",
    "print(\"population - sample coefficients (10k)\")\n",
    "print(\"-\"*30)\n",
    "print(f\"pop b_0 - sample_b0: {round(pop_b0-sample_b0_10k, 3)}\")\n",
    "print(f\"pop b_1 - sample_b1: {round(pop_b1-sample_b1_10k, 3)}\")"
   ]
  },
  {
   "cell_type": "markdown",
   "metadata": {
    "pycharm": {
     "name": "#%% md\n"
    }
   },
   "source": [
    "\n",
    "## Part II\n",
    "\n",
    "*Objective: Motivation for Multiple Regression and build your own model.*\n",
    "\n",
    "*Reference: Wooldridge (7th edition), Chapter 3, Section 1*\n",
    "\n",
    "Perform a data generating process of $$y = \\beta_0 + \\beta_1 * x_1 +  \\beta_2 * x_2 + u$$ where $\\beta_0$ is the sum of the 3rd and 4th digits of your birthday, $\\beta_1$ is the sum of the 1st and second digits of your birthday, $\\beta_2$ is the sum of the 5th and 6th digits of your birthday,, $x$ is distributed normal with mean of 10 and with variance of the first non-zero digit of your birthday, and U is (independently) distributed normal with mean 0 and variance of the last non-zero digit of your birthday, and X2 is ~N(last nonzero of birthday, sum first two).\n",
    "\n",
    "Perform this process for a \"population\" of 1 million observations.\n"
   ]
  },
  {
   "cell_type": "code",
   "execution_count": 12,
   "metadata": {
    "pycharm": {
     "name": "#%%\n"
    }
   },
   "outputs": [],
   "source": [
    "# refactored for mrm\n",
    "def birthday_str_variance_mrm(birthday_string):\n",
    "    for b in list(birthday_string):\n",
    "        if b != \"0\":\n",
    "            var_x1= int(b)\n",
    "            break\n",
    "    for revb in reversed(list(birthday_string)):\n",
    "        if revb != \"0\":\n",
    "            var_u = int(revb)\n",
    "            break\n",
    "    var_x2 = int(birthday_string[0])+int(birthday_string[1])\n",
    "    return var_x1, var_x2, var_u\n",
    "\n",
    "# refactored for mrm\n",
    "def generate_mrm_birhtday(birthday_string, rng, x1_mean, x2_mean, u_mean, size): # x_mean = 10, u_mean =0\n",
    "    #beta0 is addition of 3rd and 4th digit of my birthday\n",
    "    pop_beta0 = int(birthday_string[2]) +int(birthday_string[3])\n",
    "    #beta1 is addition of 1st and 2nd digit of my birthday\n",
    "    pop_beta1= int(birthday_string[0]) + int(birthday_string[1])\n",
    "    #beta2 is addition of 5th and 6th digit of my birthday\n",
    "    pop_beta2 = int(birthday_string[4])+int(birthday_string[5])\n",
    "    #set scale, scale should be std, so sqrt the result\n",
    "    var_x1, var_x2, var_u = birthday_str_variance_mrm(birthday_string)\n",
    "    scale_x1 = math.sqrt(var_x1)\n",
    "    scale_x2 = math.sqrt(var_x2)\n",
    "    scale_u = math.sqrt(var_u)\n",
    "\n",
    "    x_1 = rng.normal(loc = x1_mean, scale= scale_x1, size = size)\n",
    "    print(f\"x is normally distributed with a mean of {x1_mean} and variance of {round(var_x1,3)}\")\n",
    "    x_2 = rng.normal(loc = x2_mean, scale= scale_x2, size = size)\n",
    "    print(f\"x is normally distributed with a mean of {x2_mean} and variance of {round(var_x2,3)}\")\n",
    "    u = rng.normal(loc = u_mean, scale= scale_u, size = size)\n",
    "    print(f\"u is normally distributed with a mean of {u_mean} and variance of {round(var_u,3)}\")\n",
    "\n",
    "    y= pop_beta0 + pop_beta1*x_1 + pop_beta2*x_2 + u\n",
    "    print(f\"y = {int(pop_beta0)} + {int(pop_beta1)}*x_1 + {int(pop_beta2)}*x_2 + u \")\n",
    "    gdata = {\"x_1\": x_1, \"x_2\": x_2, \"u\":u, \"y\":y}\n",
    "    df = pd.DataFrame(data= gdata)\n",
    "    return df, pop_beta0, pop_beta1, pop_beta2"
   ]
  },
  {
   "cell_type": "code",
   "execution_count": 13,
   "metadata": {
    "pycharm": {
     "name": "#%%\n"
    }
   },
   "outputs": [
    {
     "name": "stdout",
     "output_type": "stream",
     "text": [
      "x is normally distributed with a mean of 10 and variance of 4\n",
      "x is normally distributed with a mean of 2 and variance of 4\n",
      "u is normally distributed with a mean of 0 and variance of 2\n",
      "y = 2 + 4*x_1 + 2*x_2 + u \n",
      "population b_0 is: 2\n",
      "population b_1 is: 4\n",
      "population b_2 is: 2\n"
     ]
    },
    {
     "data": {
      "text/html": [
       "<div>\n",
       "<style scoped>\n",
       "    .dataframe tbody tr th:only-of-type {\n",
       "        vertical-align: middle;\n",
       "    }\n",
       "\n",
       "    .dataframe tbody tr th {\n",
       "        vertical-align: top;\n",
       "    }\n",
       "\n",
       "    .dataframe thead th {\n",
       "        text-align: right;\n",
       "    }\n",
       "</style>\n",
       "<table border=\"1\" class=\"dataframe\">\n",
       "  <thead>\n",
       "    <tr style=\"text-align: right;\">\n",
       "      <th></th>\n",
       "      <th>x_1</th>\n",
       "      <th>x_2</th>\n",
       "      <th>u</th>\n",
       "      <th>y</th>\n",
       "    </tr>\n",
       "  </thead>\n",
       "  <tbody>\n",
       "    <tr>\n",
       "      <th>0</th>\n",
       "      <td>9.868464</td>\n",
       "      <td>0.520997</td>\n",
       "      <td>-0.818329</td>\n",
       "      <td>41.697519</td>\n",
       "    </tr>\n",
       "    <tr>\n",
       "      <th>1</th>\n",
       "      <td>10.842267</td>\n",
       "      <td>4.523183</td>\n",
       "      <td>0.859774</td>\n",
       "      <td>55.275206</td>\n",
       "    </tr>\n",
       "    <tr>\n",
       "      <th>2</th>\n",
       "      <td>12.346856</td>\n",
       "      <td>1.345217</td>\n",
       "      <td>2.724792</td>\n",
       "      <td>56.802649</td>\n",
       "    </tr>\n",
       "    <tr>\n",
       "      <th>3</th>\n",
       "      <td>6.005021</td>\n",
       "      <td>2.418919</td>\n",
       "      <td>1.309748</td>\n",
       "      <td>32.167670</td>\n",
       "    </tr>\n",
       "    <tr>\n",
       "      <th>4</th>\n",
       "      <td>10.321140</td>\n",
       "      <td>3.715284</td>\n",
       "      <td>2.746046</td>\n",
       "      <td>53.461174</td>\n",
       "    </tr>\n",
       "    <tr>\n",
       "      <th>5</th>\n",
       "      <td>8.591196</td>\n",
       "      <td>1.503948</td>\n",
       "      <td>1.408724</td>\n",
       "      <td>40.781402</td>\n",
       "    </tr>\n",
       "    <tr>\n",
       "      <th>6</th>\n",
       "      <td>11.200151</td>\n",
       "      <td>1.719009</td>\n",
       "      <td>0.583276</td>\n",
       "      <td>50.821900</td>\n",
       "    </tr>\n",
       "    <tr>\n",
       "      <th>7</th>\n",
       "      <td>8.563928</td>\n",
       "      <td>-0.499947</td>\n",
       "      <td>0.068980</td>\n",
       "      <td>35.324798</td>\n",
       "    </tr>\n",
       "    <tr>\n",
       "      <th>8</th>\n",
       "      <td>7.788651</td>\n",
       "      <td>-1.082705</td>\n",
       "      <td>-2.220774</td>\n",
       "      <td>28.768423</td>\n",
       "    </tr>\n",
       "    <tr>\n",
       "      <th>9</th>\n",
       "      <td>10.034535</td>\n",
       "      <td>-0.425496</td>\n",
       "      <td>0.621076</td>\n",
       "      <td>41.908225</td>\n",
       "    </tr>\n",
       "  </tbody>\n",
       "</table>\n",
       "</div>"
      ],
      "text/plain": [
       "         x_1       x_2         u          y\n",
       "0   9.868464  0.520997 -0.818329  41.697519\n",
       "1  10.842267  4.523183  0.859774  55.275206\n",
       "2  12.346856  1.345217  2.724792  56.802649\n",
       "3   6.005021  2.418919  1.309748  32.167670\n",
       "4  10.321140  3.715284  2.746046  53.461174\n",
       "5   8.591196  1.503948  1.408724  40.781402\n",
       "6  11.200151  1.719009  0.583276  50.821900\n",
       "7   8.563928 -0.499947  0.068980  35.324798\n",
       "8   7.788651 -1.082705 -2.220774  28.768423\n",
       "9  10.034535 -0.425496  0.621076  41.908225"
      ]
     },
     "execution_count": 13,
     "metadata": {},
     "output_type": "execute_result"
    }
   ],
   "source": [
    "mrm_df, pop_b0_mrm, pop_b1_mrm, pop_b2_mrm = generate_mrm_birhtday(birthdaystring, rng, 10, 2, 0, 1000000)\n",
    "print(f\"population b_0 is: {pop_b0_mrm}\")\n",
    "print(f\"population b_1 is: {pop_b1_mrm}\")\n",
    "print(f\"population b_2 is: {pop_b2_mrm}\")\n",
    "\n",
    "mrm_df[:10]"
   ]
  },
  {
   "cell_type": "code",
   "execution_count": 14,
   "metadata": {
    "pycharm": {
     "name": "#%%\n"
    }
   },
   "outputs": [
    {
     "data": {
      "text/html": [
       "<div>\n",
       "<style scoped>\n",
       "    .dataframe tbody tr th:only-of-type {\n",
       "        vertical-align: middle;\n",
       "    }\n",
       "\n",
       "    .dataframe tbody tr th {\n",
       "        vertical-align: top;\n",
       "    }\n",
       "\n",
       "    .dataframe thead th {\n",
       "        text-align: right;\n",
       "    }\n",
       "</style>\n",
       "<table border=\"1\" class=\"dataframe\">\n",
       "  <thead>\n",
       "    <tr style=\"text-align: right;\">\n",
       "      <th></th>\n",
       "      <th>x_1</th>\n",
       "      <th>x_2</th>\n",
       "      <th>u</th>\n",
       "      <th>y</th>\n",
       "    </tr>\n",
       "  </thead>\n",
       "  <tbody>\n",
       "    <tr>\n",
       "      <th>count</th>\n",
       "      <td>1000000.000</td>\n",
       "      <td>1000000.000</td>\n",
       "      <td>1000000.000</td>\n",
       "      <td>1000000.000</td>\n",
       "    </tr>\n",
       "    <tr>\n",
       "      <th>mean</th>\n",
       "      <td>10.002</td>\n",
       "      <td>2.000</td>\n",
       "      <td>0.002</td>\n",
       "      <td>46.010</td>\n",
       "    </tr>\n",
       "    <tr>\n",
       "      <th>std</th>\n",
       "      <td>2.000</td>\n",
       "      <td>1.999</td>\n",
       "      <td>1.413</td>\n",
       "      <td>9.051</td>\n",
       "    </tr>\n",
       "    <tr>\n",
       "      <th>min</th>\n",
       "      <td>0.307</td>\n",
       "      <td>-7.318</td>\n",
       "      <td>-7.643</td>\n",
       "      <td>1.837</td>\n",
       "    </tr>\n",
       "    <tr>\n",
       "      <th>25%</th>\n",
       "      <td>8.653</td>\n",
       "      <td>0.650</td>\n",
       "      <td>-0.951</td>\n",
       "      <td>39.889</td>\n",
       "    </tr>\n",
       "    <tr>\n",
       "      <th>50%</th>\n",
       "      <td>10.000</td>\n",
       "      <td>2.001</td>\n",
       "      <td>0.002</td>\n",
       "      <td>46.022</td>\n",
       "    </tr>\n",
       "    <tr>\n",
       "      <th>75%</th>\n",
       "      <td>11.354</td>\n",
       "      <td>3.348</td>\n",
       "      <td>0.954</td>\n",
       "      <td>52.127</td>\n",
       "    </tr>\n",
       "    <tr>\n",
       "      <th>max</th>\n",
       "      <td>19.487</td>\n",
       "      <td>11.567</td>\n",
       "      <td>6.550</td>\n",
       "      <td>88.547</td>\n",
       "    </tr>\n",
       "  </tbody>\n",
       "</table>\n",
       "</div>"
      ],
      "text/plain": [
       "               x_1          x_2            u            y\n",
       "count  1000000.000  1000000.000  1000000.000  1000000.000\n",
       "mean        10.002        2.000        0.002       46.010\n",
       "std          2.000        1.999        1.413        9.051\n",
       "min          0.307       -7.318       -7.643        1.837\n",
       "25%          8.653        0.650       -0.951       39.889\n",
       "50%         10.000        2.001        0.002       46.022\n",
       "75%         11.354        3.348        0.954       52.127\n",
       "max         19.487       11.567        6.550       88.547"
      ]
     },
     "execution_count": 14,
     "metadata": {},
     "output_type": "execute_result"
    }
   ],
   "source": [
    "mrm_df.describe().apply(lambda x: round(x, 3))"
   ]
  },
  {
   "cell_type": "code",
   "execution_count": null,
   "metadata": {
    "pycharm": {
     "name": "#%%\n"
    }
   },
   "outputs": [],
   "source": []
  }
 ],
 "metadata": {
  "kernelspec": {
   "display_name": "Python 3.8.10 ('venv320': venv)",
   "language": "python",
   "name": "python3"
  },
  "language_info": {
   "codemirror_mode": {
    "name": "ipython",
    "version": 3
   },
   "file_extension": ".py",
   "mimetype": "text/x-python",
   "name": "python",
   "nbconvert_exporter": "python",
   "pygments_lexer": "ipython3",
   "version": "3.8.10"
  },
  "orig_nbformat": 4,
  "vscode": {
   "interpreter": {
    "hash": "2575b666cc1342492c22814df50c9fc3698752638131e4af886c21bc3c3d1c24"
   }
  }
 },
 "nbformat": 4,
 "nbformat_minor": 2
}