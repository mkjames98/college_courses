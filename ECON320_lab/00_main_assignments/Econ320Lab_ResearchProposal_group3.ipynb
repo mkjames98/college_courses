{
 "cells": [
  {
   "cell_type": "markdown",
   "metadata": {},
   "source": [
    "    \n",
    "<h1 style=\"text-align: center; color: purple;\" markdown=\"1\">Econ 320L: Research Proposal Group 3 </h1>\n",
    "\n",
    "<h2 style=\"text-align: center; color: #012169\" markdown=\"1\">James Song, Carlye Pathman, Lynn Suh and Jesus Merida</h2>\n"
   ]
  },
  {
   "cell_type": "code",
   "execution_count": 2,
   "metadata": {},
   "outputs": [],
   "source": [
    "# Script name: Econ320Lab_ResearchProposal_group3.ipynb\n",
    "# Purpose of script: Submission of Reserach Proposal for ECON320L with Professor Paloma Lopez de mesa Moyano\n",
    "# Author: James Song, Carlye Pathman, Lynn Suh and Jesus Merida\n",
    "# Date Created: October 24th 2022\n",
    "# --------------------------\n",
    "# Notes: NA\n",
    "# ---------------------------"
   ]
  },
  {
   "cell_type": "markdown",
   "metadata": {},
   "source": [
    "## Package setup"
   ]
  },
  {
   "cell_type": "code",
   "execution_count": 3,
   "metadata": {
    "code_folding": [
     0
    ]
   },
   "outputs": [],
   "source": [
    "import math\n",
    "import warnings\n",
    "\n",
    "import pandas as pd\n",
    "from pandas.core.common import SettingWithCopyWarning\n",
    "\n",
    "import numpy as np\n",
    "import statsmodels.formula.api as smf\n",
    "from scipy import stats\n",
    "\n",
    "import matplotlib.pyplot as plt\n",
    "import seaborn as sns\n",
    "warnings.simplefilter(action=\"ignore\", category=SettingWithCopyWarning)"
   ]
  },
  {
   "cell_type": "markdown",
   "metadata": {},
   "source": [
    "## I. Introduction and motivation: "
   ]
  },
  {
   "cell_type": "markdown",
   "metadata": {},
   "source": [
    "&nbsp;&nbsp;&nbsp;&nbsp;&nbsp;&nbsp; With the rise in computer science and the use of coding across fields, it is becoming very common to have some level of experience with coding as a required skill for hiring. It’s becoming such a desirable skill that colleges are even beginning to incorporate coding practice and application across majors in their required core classes. For this study, we are choosing to investigate if there is a valid linear model that illustrates the relationship between certain characteristics/qualifications of employees and their total compensation within fields that require programming. If a valid model can be uncovered, the information within it would be especially useful to potential and existing workers for jobs requiring programming to determine how best to maximize income. "
   ]
  },
  {
   "cell_type": "markdown",
   "metadata": {},
   "source": [
    "## II. Data: "
   ]
  },
  {
   "cell_type": "markdown",
   "metadata": {},
   "source": [
    "&nbsp;&nbsp;&nbsp;&nbsp;&nbsp;&nbsp;The data being used in this study comes from Stack Overflow’s annual developer survey from 2022. The survey is cross-sectional with 73,268 software developer respondents from 180 different countries. It is important to note that because of sanctions on US transport/export, the Stack Overflow survey was essentially inaccessible to respondents from countries such as Cuba, Iran, Syria, and North Korea. Participants could submit their responses through various avenues including social media posts, blog posts, onsite messaging, email lists, and banner ads. However, we could not use all 73,268 observations because we only about half of respondents (38,071) provided an answer to the total compensation question as it was not a required response."
   ]
  },
  {
   "cell_type": "code",
   "execution_count": 4,
   "metadata": {},
   "outputs": [
    {
     "name": "stdout",
     "output_type": "stream",
     "text": [
      "total responses: 73268\n"
     ]
    },
    {
     "data": {
      "text/html": [
       "<div>\n",
       "<style scoped>\n",
       "    .dataframe tbody tr th:only-of-type {\n",
       "        vertical-align: middle;\n",
       "    }\n",
       "\n",
       "    .dataframe tbody tr th {\n",
       "        vertical-align: top;\n",
       "    }\n",
       "\n",
       "    .dataframe thead th {\n",
       "        text-align: right;\n",
       "    }\n",
       "</style>\n",
       "<table border=\"1\" class=\"dataframe\">\n",
       "  <thead>\n",
       "    <tr style=\"text-align: right;\">\n",
       "      <th></th>\n",
       "      <th>ResponseId</th>\n",
       "      <th>MainBranch</th>\n",
       "      <th>Employment</th>\n",
       "      <th>RemoteWork</th>\n",
       "      <th>CodingActivities</th>\n",
       "      <th>EdLevel</th>\n",
       "      <th>LearnCode</th>\n",
       "      <th>LearnCodeOnline</th>\n",
       "      <th>LearnCodeCoursesCert</th>\n",
       "      <th>YearsCode</th>\n",
       "      <th>...</th>\n",
       "      <th>TimeSearching</th>\n",
       "      <th>TimeAnswering</th>\n",
       "      <th>Onboarding</th>\n",
       "      <th>ProfessionalTech</th>\n",
       "      <th>TrueFalse_1</th>\n",
       "      <th>TrueFalse_2</th>\n",
       "      <th>TrueFalse_3</th>\n",
       "      <th>SurveyLength</th>\n",
       "      <th>SurveyEase</th>\n",
       "      <th>ConvertedCompYearly</th>\n",
       "    </tr>\n",
       "  </thead>\n",
       "  <tbody>\n",
       "    <tr>\n",
       "      <th>0</th>\n",
       "      <td>1</td>\n",
       "      <td>None of these</td>\n",
       "      <td>NaN</td>\n",
       "      <td>NaN</td>\n",
       "      <td>NaN</td>\n",
       "      <td>NaN</td>\n",
       "      <td>NaN</td>\n",
       "      <td>NaN</td>\n",
       "      <td>NaN</td>\n",
       "      <td>NaN</td>\n",
       "      <td>...</td>\n",
       "      <td>NaN</td>\n",
       "      <td>NaN</td>\n",
       "      <td>NaN</td>\n",
       "      <td>NaN</td>\n",
       "      <td>NaN</td>\n",
       "      <td>NaN</td>\n",
       "      <td>NaN</td>\n",
       "      <td>NaN</td>\n",
       "      <td>NaN</td>\n",
       "      <td>NaN</td>\n",
       "    </tr>\n",
       "    <tr>\n",
       "      <th>1</th>\n",
       "      <td>2</td>\n",
       "      <td>I am a developer by profession</td>\n",
       "      <td>Employed, full-time</td>\n",
       "      <td>Fully remote</td>\n",
       "      <td>Hobby;Contribute to open-source projects</td>\n",
       "      <td>NaN</td>\n",
       "      <td>NaN</td>\n",
       "      <td>NaN</td>\n",
       "      <td>NaN</td>\n",
       "      <td>NaN</td>\n",
       "      <td>...</td>\n",
       "      <td>NaN</td>\n",
       "      <td>NaN</td>\n",
       "      <td>NaN</td>\n",
       "      <td>NaN</td>\n",
       "      <td>NaN</td>\n",
       "      <td>NaN</td>\n",
       "      <td>NaN</td>\n",
       "      <td>Too long</td>\n",
       "      <td>Difficult</td>\n",
       "      <td>NaN</td>\n",
       "    </tr>\n",
       "    <tr>\n",
       "      <th>2</th>\n",
       "      <td>3</td>\n",
       "      <td>I am not primarily a developer, but I write co...</td>\n",
       "      <td>Employed, full-time</td>\n",
       "      <td>Hybrid (some remote, some in-person)</td>\n",
       "      <td>Hobby</td>\n",
       "      <td>Master’s degree (M.A., M.S., M.Eng., MBA, etc.)</td>\n",
       "      <td>Books / Physical media;Friend or family member...</td>\n",
       "      <td>Technical documentation;Blogs;Programming Game...</td>\n",
       "      <td>NaN</td>\n",
       "      <td>14</td>\n",
       "      <td>...</td>\n",
       "      <td>NaN</td>\n",
       "      <td>NaN</td>\n",
       "      <td>NaN</td>\n",
       "      <td>NaN</td>\n",
       "      <td>NaN</td>\n",
       "      <td>NaN</td>\n",
       "      <td>NaN</td>\n",
       "      <td>Appropriate in length</td>\n",
       "      <td>Neither easy nor difficult</td>\n",
       "      <td>40205.0</td>\n",
       "    </tr>\n",
       "    <tr>\n",
       "      <th>3</th>\n",
       "      <td>4</td>\n",
       "      <td>I am a developer by profession</td>\n",
       "      <td>Employed, full-time</td>\n",
       "      <td>Fully remote</td>\n",
       "      <td>I don’t code outside of work</td>\n",
       "      <td>Bachelor’s degree (B.A., B.S., B.Eng., etc.)</td>\n",
       "      <td>Books / Physical media;School (i.e., Universit...</td>\n",
       "      <td>NaN</td>\n",
       "      <td>NaN</td>\n",
       "      <td>20</td>\n",
       "      <td>...</td>\n",
       "      <td>NaN</td>\n",
       "      <td>NaN</td>\n",
       "      <td>NaN</td>\n",
       "      <td>NaN</td>\n",
       "      <td>NaN</td>\n",
       "      <td>NaN</td>\n",
       "      <td>NaN</td>\n",
       "      <td>Appropriate in length</td>\n",
       "      <td>Easy</td>\n",
       "      <td>215232.0</td>\n",
       "    </tr>\n",
       "    <tr>\n",
       "      <th>4</th>\n",
       "      <td>5</td>\n",
       "      <td>I am a developer by profession</td>\n",
       "      <td>Employed, full-time</td>\n",
       "      <td>Hybrid (some remote, some in-person)</td>\n",
       "      <td>Hobby</td>\n",
       "      <td>Bachelor’s degree (B.A., B.S., B.Eng., etc.)</td>\n",
       "      <td>Other online resources (e.g., videos, blogs, f...</td>\n",
       "      <td>Technical documentation;Blogs;Stack Overflow;O...</td>\n",
       "      <td>NaN</td>\n",
       "      <td>8</td>\n",
       "      <td>...</td>\n",
       "      <td>NaN</td>\n",
       "      <td>NaN</td>\n",
       "      <td>NaN</td>\n",
       "      <td>NaN</td>\n",
       "      <td>NaN</td>\n",
       "      <td>NaN</td>\n",
       "      <td>NaN</td>\n",
       "      <td>Too long</td>\n",
       "      <td>Easy</td>\n",
       "      <td>NaN</td>\n",
       "    </tr>\n",
       "  </tbody>\n",
       "</table>\n",
       "<p>5 rows × 79 columns</p>\n",
       "</div>"
      ],
      "text/plain": [
       "   ResponseId                                         MainBranch  \\\n",
       "0           1                                      None of these   \n",
       "1           2                     I am a developer by profession   \n",
       "2           3  I am not primarily a developer, but I write co...   \n",
       "3           4                     I am a developer by profession   \n",
       "4           5                     I am a developer by profession   \n",
       "\n",
       "            Employment                            RemoteWork  \\\n",
       "0                  NaN                                   NaN   \n",
       "1  Employed, full-time                          Fully remote   \n",
       "2  Employed, full-time  Hybrid (some remote, some in-person)   \n",
       "3  Employed, full-time                          Fully remote   \n",
       "4  Employed, full-time  Hybrid (some remote, some in-person)   \n",
       "\n",
       "                           CodingActivities  \\\n",
       "0                                       NaN   \n",
       "1  Hobby;Contribute to open-source projects   \n",
       "2                                     Hobby   \n",
       "3              I don’t code outside of work   \n",
       "4                                     Hobby   \n",
       "\n",
       "                                           EdLevel  \\\n",
       "0                                              NaN   \n",
       "1                                              NaN   \n",
       "2  Master’s degree (M.A., M.S., M.Eng., MBA, etc.)   \n",
       "3     Bachelor’s degree (B.A., B.S., B.Eng., etc.)   \n",
       "4     Bachelor’s degree (B.A., B.S., B.Eng., etc.)   \n",
       "\n",
       "                                           LearnCode  \\\n",
       "0                                                NaN   \n",
       "1                                                NaN   \n",
       "2  Books / Physical media;Friend or family member...   \n",
       "3  Books / Physical media;School (i.e., Universit...   \n",
       "4  Other online resources (e.g., videos, blogs, f...   \n",
       "\n",
       "                                     LearnCodeOnline LearnCodeCoursesCert  \\\n",
       "0                                                NaN                  NaN   \n",
       "1                                                NaN                  NaN   \n",
       "2  Technical documentation;Blogs;Programming Game...                  NaN   \n",
       "3                                                NaN                  NaN   \n",
       "4  Technical documentation;Blogs;Stack Overflow;O...                  NaN   \n",
       "\n",
       "  YearsCode  ... TimeSearching TimeAnswering Onboarding ProfessionalTech  \\\n",
       "0       NaN  ...           NaN           NaN        NaN              NaN   \n",
       "1       NaN  ...           NaN           NaN        NaN              NaN   \n",
       "2        14  ...           NaN           NaN        NaN              NaN   \n",
       "3        20  ...           NaN           NaN        NaN              NaN   \n",
       "4         8  ...           NaN           NaN        NaN              NaN   \n",
       "\n",
       "  TrueFalse_1 TrueFalse_2 TrueFalse_3           SurveyLength  \\\n",
       "0         NaN         NaN         NaN                    NaN   \n",
       "1         NaN         NaN         NaN               Too long   \n",
       "2         NaN         NaN         NaN  Appropriate in length   \n",
       "3         NaN         NaN         NaN  Appropriate in length   \n",
       "4         NaN         NaN         NaN               Too long   \n",
       "\n",
       "                   SurveyEase ConvertedCompYearly  \n",
       "0                         NaN                 NaN  \n",
       "1                   Difficult                 NaN  \n",
       "2  Neither easy nor difficult             40205.0  \n",
       "3                        Easy            215232.0  \n",
       "4                        Easy                 NaN  \n",
       "\n",
       "[5 rows x 79 columns]"
      ]
     },
     "execution_count": 4,
     "metadata": {},
     "output_type": "execute_result"
    }
   ],
   "source": [
    "df = pd.read_csv(r\"C:\\Users\\Lenovo\\Desktop\\Coursework\\22_fall\\ECON_309\\Data\\sof_data\\survey_results_public.csv\")\n",
    "print(f\"total responses: {len(df)}\")\n",
    "df.head()"
   ]
  },
  {
   "cell_type": "markdown",
   "metadata": {},
   "source": [
    "&nbsp;&nbsp;&nbsp;&nbsp;&nbsp;&nbsp; Furthermore, there are many underlying factors that affect total compensation when viewed globally, such as difference in average living cost and difference in minimum wage, we decided to only look at the responses from __full-time professionals located in the US only__. "
   ]
  },
  {
   "cell_type": "code",
   "execution_count": 5,
   "metadata": {
    "code_folding": [
     0
    ]
   },
   "outputs": [],
   "source": [
    "professional_df = df[df['MainBranch']==df['MainBranch'][1]] # those who are only \"I am a developer by profession\"\n",
    "professional_df = professional_df[professional_df['Employment']==professional_df['Employment'][1]] # those who are only full-time employyes\n",
    "us_prof_df = professional_df[professional_df['Country'] == \"United States of America\"] # only USA, to deal with minimum wage/living cost differences around the world. "
   ]
  },
  {
   "cell_type": "markdown",
   "metadata": {},
   "source": [
    "&nbsp;&nbsp;&nbsp;&nbsp;&nbsp;&nbsp;Even after reducing our scope to only US full-time professionals, we still had to wrangle with the data. Since this dataset was through a survey, many responses that could have been collected as quantitative fields were collected as qualitative fields. In order to utilize these responses, we converted the qualitative data into quantitative data. For example, education level was converted to education years, the list of programming languages one was proficient in was converted into number of programming languages one was proficient in and so on. "
   ]
  },
  {
   "cell_type": "code",
   "execution_count": 6,
   "metadata": {},
   "outputs": [],
   "source": [
    "us_prof_df = us_prof_df.fillna(\"***\") # filling na values with a distinct string\n",
    "#getting rid of rows with missing dependent variable\n",
    "us_prof_comp_data = us_prof_df[us_prof_df['ConvertedCompYearly']!=\"***\"]"
   ]
  },
  {
   "cell_type": "code",
   "execution_count": 7,
   "metadata": {},
   "outputs": [],
   "source": [
    "e_level =us_prof_comp_data['EdLevel'].unique().tolist() # coverting education level\n",
    "e_level_list = [16, 18, 14, 13, 12, 22, 22, 12, 6] # corresponnding education years \n",
    "e_level_dict = dict(zip(e_level, e_level_list)) # create a dictionary\n",
    "us_prof_comp_data['EdLevel_converted']= us_prof_comp_data['EdLevel'].apply(lambda x: e_level_dict.get(x)) # creating a new column of converted education years."
   ]
  },
  {
   "cell_type": "code",
   "execution_count": 8,
   "metadata": {},
   "outputs": [],
   "source": [
    "us_prof_comp_data = us_prof_comp_data[us_prof_comp_data['YearsCodePro'] != \"***\"] # getting rid of those who did not specificy years of coding\n",
    "# converting string responses to fit the rest of the data in this column\n",
    "us_prof_comp_data['YearsCodeProAdjusted'] = [0.5 if val == \"Less than 1 year\" else 55.0 if val == \"More than 50 years\" else float(val) for val in us_prof_comp_data['YearsCodePro']]"
   ]
  },
  {
   "cell_type": "code",
   "execution_count": 9,
   "metadata": {},
   "outputs": [],
   "source": [
    "# converting other qualitative variables to quantitative\n",
    "cols_to_change = [\n",
    "    \"LanguageHaveWorkedWith\",\n",
    "    \"DatabaseHaveWorkedWith\",\n",
    "    \"PlatformHaveWorkedWith\",\n",
    "    \"WebframeHaveWorkedWith\",\n",
    "    \"MiscTechHaveWorkedWith\",\n",
    "    \"ToolsTechHaveWorkedWith\",\n",
    "    \"NEWCollabToolsHaveWorkedWith\",\n",
    "]\n",
    "for col in cols_to_change:\n",
    "    new_col_name = col[: col.find(\"HaveWorked\")] + \"Count\"\n",
    "    us_prof_comp_data[new_col_name] = us_prof_comp_data[col].apply(\n",
    "        lambda x: 0 if x == \"***\" else len(x.split(\";\"))\n",
    "    )  # parsing the list of programming languages/platforms/webframes etc, to get a count\n",
    "# combining PlatformCount, WebframeCount, MiscTechCount, ToolsTechCount, NEWCollabToolsCount\n",
    "us_prof_comp_data[\"framelibsCount\"] = (\n",
    "    us_prof_comp_data[\"PlatformCount\"]\n",
    "    + us_prof_comp_data[\"WebframeCount\"]\n",
    "    + us_prof_comp_data[\"MiscTechCount\"]\n",
    "    + us_prof_comp_data[\"ToolsTechCount\"]\n",
    "    + us_prof_comp_data[\"NEWCollabToolsCount\"]\n",
    ")  # combining \"less\" important techonological skills\n"
   ]
  },
  {
   "cell_type": "code",
   "execution_count": 10,
   "metadata": {},
   "outputs": [
    {
     "data": {
      "text/plain": [
       "{'***',\n",
       " '1,000 to 4,999 employees',\n",
       " '10 to 19 employees',\n",
       " '10,000 or more employees',\n",
       " '100 to 499 employees',\n",
       " '2 to 9 employees',\n",
       " '20 to 99 employees',\n",
       " '5,000 to 9,999 employees',\n",
       " '500 to 999 employees',\n",
       " 'I don’t know',\n",
       " 'Just me - I am a freelancer, sole proprietor, etc.'}"
      ]
     },
     "execution_count": 10,
     "metadata": {},
     "output_type": "execute_result"
    }
   ],
   "source": [
    "# converting OrgSize into quantitative variable\n",
    "# checking what unique values this column has\n",
    "set(us_prof_comp_data['OrgSize'])"
   ]
  },
  {
   "cell_type": "code",
   "execution_count": 11,
   "metadata": {},
   "outputs": [],
   "source": [
    "new_orgsize = []\n",
    "# below for loop saves the rounded average between the two numbers \n",
    "# in above response fields as a quantitative Organization Size.\n",
    "\n",
    "for orgsize in us_prof_comp_data['OrgSize']:\n",
    "    if orgsize == \"***\" or orgsize == \"I don’t know\" or orgsize == \"Just me - I am a freelancer, sole proprietor, etc.\":\n",
    "        size == \"***\" # un-necessary data -> same as na values\n",
    "    else:\n",
    "        split_space = orgsize.split(\" \") # splitting by space -> returns a list of strings\n",
    "        min_size = split_space[0] # getting the 1st index, the 2, 10, 20, 100, and so on\n",
    "        if orgsize == \"10,000 or more employees\": # if more than 10k employees\n",
    "            size = (10_000+ 20_000 )/2 # set as 15_000\n",
    "        else:\n",
    "            max_size = split_space[2] # getting the 2nd index, the 9, 19, 99, 499, and so on\n",
    "            if min_size.find(\",\") != -1:\n",
    "                min_size = min_size.replace(\",\", \"\") # removing the comma to convert to int\n",
    "            if max_size.find(\",\") != -1:\n",
    "                max_size = max_size.replace(\",\", \"\") # removing the comma to conv\n",
    "            min_size = int(min_size)\n",
    "            max_size = int(max_size)\n",
    "            size = (min_size+max_size)/2 # return the average\n",
    "    new_orgsize.append(int(size))\n",
    "us_prof_comp_data['NewOrgSize'] = new_orgsize"
   ]
  },
  {
   "cell_type": "code",
   "execution_count": 12,
   "metadata": {},
   "outputs": [
    {
     "name": "stdout",
     "output_type": "stream",
     "text": [
      "{0, 1, 2, 3, 4, 5, 6, 7, 8, 9, 10, 11, 12, 13, 14, 15, 16, 17, 18, 19, 20, 21, 22, 23, 27}\n"
     ]
    }
   ],
   "source": [
    "print(set(us_prof_comp_data['LanguageCount'])) \n",
    "# clearly no one can be a professional developer without knowing any coding languages, this is most likely a survey error so we will remove these values. "
   ]
  },
  {
   "cell_type": "code",
   "execution_count": 13,
   "metadata": {},
   "outputs": [],
   "source": [
    "us_prof_comp_data = us_prof_comp_data[us_prof_comp_data['LanguageCount'] != 0] "
   ]
  },
  {
   "cell_type": "code",
   "execution_count": 14,
   "metadata": {},
   "outputs": [
    {
     "name": "stdout",
     "output_type": "stream",
     "text": [
      "[145.0, 260.0, 94.0, 215.0, 4260.0, 140.0, 180.0, 5000.0, 90.0, 220.0, 5232.0, 6000.0, 381.0, 260.0, 150.0, 290.0, 6000.0, 9500.0, 140.0, 210.0, 135.0, 49.0, 155.0, 230.0, 300.0]\n"
     ]
    }
   ],
   "source": [
    "small_comps = list(filter(lambda c: len(str(int(c))) < 5, us_prof_comp_data['ConvertedCompYearly'].tolist()))\n",
    "print(small_comps)\n",
    "# these values seem to be outliers / errors from the survey \n",
    "# as any professional min wage job would make around $15,000\n",
    "# so we wll remove them by converting them to 0s and removing the 0 rows."
   ]
  },
  {
   "cell_type": "code",
   "execution_count": 15,
   "metadata": {},
   "outputs": [],
   "source": [
    "us_prof_comp_data['ConvertedCompYearly'] = us_prof_comp_data['ConvertedCompYearly'].astype('float64')\n",
    "us_prof_comp_data['ConvertedCompYearly'] = us_prof_comp_data['ConvertedCompYearly'].apply(lambda x: 0 if len(str(int(x))) <5 else x)\n",
    "us_prof_comp_data = us_prof_comp_data[us_prof_comp_data['ConvertedCompYearly']!=0] \n",
    "# removing outliers in the dependent variable.\n",
    "us_prof_comp_data = us_prof_comp_data[(np.abs(stats.zscore(us_prof_comp_data['ConvertedCompYearly'])) < 3)]\n",
    "# https://www.bls.gov/oes/current/oes151251.htm considering the table of Percentile wage estimates for Computer Programmers from this website\n",
    "# we can see that the 10% = $ 47,560 and the 25% $ 62,840. \n",
    "# Although they haven't provided us with an exact minimum, \n",
    "# it would be safe to assume that anything below $30,000 can be logically considered as an outlier. \n",
    "us_prof_comp_data = us_prof_comp_data[us_prof_comp_data['ConvertedCompYearly'] >= 30000.0]\n"
   ]
  },
  {
   "cell_type": "code",
   "execution_count": 16,
   "metadata": {},
   "outputs": [],
   "source": [
    "us_prof_comp_data_mod1 = us_prof_comp_data[['ConvertedCompYearly', 'EdLevel_converted', 'YearsCodeProAdjusted', 'LanguageCount', 'framelibsCount', 'NewOrgSize']]"
   ]
  },
  {
   "cell_type": "markdown",
   "metadata": {},
   "source": [
    "Upon removal of unnecessary responses, missing responses and outliers, the dataset was reduced to 6,943 observations for analysis. "
   ]
  },
  {
   "cell_type": "code",
   "execution_count": 17,
   "metadata": {},
   "outputs": [
    {
     "name": "stdout",
     "output_type": "stream",
     "text": [
      "<class 'pandas.core.frame.DataFrame'>\n",
      "Int64Index: 6943 entries, 12 to 73119\n",
      "Data columns (total 6 columns):\n",
      " #   Column                Non-Null Count  Dtype  \n",
      "---  ------                --------------  -----  \n",
      " 0   ConvertedCompYearly   6943 non-null   float64\n",
      " 1   EdLevel_converted     6943 non-null   int64  \n",
      " 2   YearsCodeProAdjusted  6943 non-null   float64\n",
      " 3   LanguageCount         6943 non-null   int64  \n",
      " 4   framelibsCount        6943 non-null   int64  \n",
      " 5   NewOrgSize            6943 non-null   int64  \n",
      "dtypes: float64(2), int64(4)\n",
      "memory usage: 379.7 KB\n"
     ]
    }
   ],
   "source": [
    "us_prof_comp_data_mod1.info()"
   ]
  },
  {
   "cell_type": "markdown",
   "metadata": {},
   "source": [
    "After running some descriptive statistics, the following was found: \n",
    "- the average annual compensation was around 217,000 USD\n",
    "- the average education level was about 16 years\n",
    "- the average number of years spent coding was around 11 \n",
    "- the average number of proficient coding languages was around 5 \n",
    "- the average size of the organization the developers work at is about 4,330 employees \n",
    "- the average number of dataframes, libraries and other tools worked with was around 10. \n",
    "\n",
    "See the following tables and graphs for more descriptive statistics. "
   ]
  },
  {
   "cell_type": "code",
   "execution_count": 38,
   "metadata": {},
   "outputs": [
    {
     "data": {
      "image/png": "[encoded data removed]",
      "text/plain": [
       "<Figure size 1500x1500 with 6 Axes>"
      ]
     },
     "metadata": {},
     "output_type": "display_data"
    }
   ],
   "source": [
    "# 2x3 (rxc) plot\n",
    "ncols = 3\n",
    "nrows = 2\n",
    "fig, axes = plt.subplots(nrows=nrows, ncols=ncols, figsize=(15, 15))\n",
    "colors = [\"blue\", \"red\", \"green\", \"orange\", \"purple\", \"pink\"]\n",
    "\n",
    "counter = 0 # for the colors list\n",
    "for i in range(nrows):\n",
    "    for j in range(ncols):\n",
    "        ax = axes[i][j] # get the subplot location\n",
    "\n",
    "        ax.hist(\n",
    "            us_prof_comp_data_mod1[us_prof_comp_data_mod1.columns[counter]],\n",
    "            bins=10,\n",
    "            color=colors[counter],\n",
    "            alpha=0.5,\n",
    "            label=\"{}\".format(us_prof_comp_data_mod1.columns[counter]),\n",
    "        )\n",
    "        ax.set_xlabel(us_prof_comp_data_mod1.columns[counter])\n",
    "        ax.set_ylabel(\"Number of Observations\")\n",
    "        ax.get_xaxis().get_major_formatter().set_scientific(False)\n",
    "        leg = ax.legend(loc=\"upper right\")\n",
    "        leg.draw_frame(False)\n",
    "\n",
    "        counter += 1\n",
    "plt.show()\n"
   ]
  },
  {
   "cell_type": "code",
   "execution_count": 17,
   "metadata": {},
   "outputs": [
    {
     "data": {
      "text/html": [
       "<div>\n",
       "<style scoped>\n",
       "    .dataframe tbody tr th:only-of-type {\n",
       "        vertical-align: middle;\n",
       "    }\n",
       "\n",
       "    .dataframe tbody tr th {\n",
       "        vertical-align: top;\n",
       "    }\n",
       "\n",
       "    .dataframe thead th {\n",
       "        text-align: right;\n",
       "    }\n",
       "</style>\n",
       "<table border=\"1\" class=\"dataframe\">\n",
       "  <thead>\n",
       "    <tr style=\"text-align: right;\">\n",
       "      <th></th>\n",
       "      <th>ConvertedCompYearly</th>\n",
       "      <th>EdLevel_converted</th>\n",
       "      <th>YearsCodeProAdjusted</th>\n",
       "      <th>LanguageCount</th>\n",
       "      <th>framelibsCount</th>\n",
       "      <th>NewOrgSize</th>\n",
       "    </tr>\n",
       "  </thead>\n",
       "  <tbody>\n",
       "    <tr>\n",
       "      <th>count</th>\n",
       "      <td>6943.00000</td>\n",
       "      <td>6943.00000</td>\n",
       "      <td>6943.00000</td>\n",
       "      <td>6943.00000</td>\n",
       "      <td>6943.00000</td>\n",
       "      <td>6943.00000</td>\n",
       "    </tr>\n",
       "    <tr>\n",
       "      <th>mean</th>\n",
       "      <td>216970.33415</td>\n",
       "      <td>16.07029</td>\n",
       "      <td>11.39738</td>\n",
       "      <td>5.29411</td>\n",
       "      <td>10.51664</td>\n",
       "      <td>4329.77272</td>\n",
       "    </tr>\n",
       "    <tr>\n",
       "      <th>std</th>\n",
       "      <td>362299.27033</td>\n",
       "      <td>1.94862</td>\n",
       "      <td>9.36185</td>\n",
       "      <td>2.58799</td>\n",
       "      <td>5.63580</td>\n",
       "      <td>5949.41178</td>\n",
       "    </tr>\n",
       "    <tr>\n",
       "      <th>min</th>\n",
       "      <td>30000.00000</td>\n",
       "      <td>6.00000</td>\n",
       "      <td>0.50000</td>\n",
       "      <td>1.00000</td>\n",
       "      <td>0.00000</td>\n",
       "      <td>5.00000</td>\n",
       "    </tr>\n",
       "    <tr>\n",
       "      <th>25%</th>\n",
       "      <td>106000.00000</td>\n",
       "      <td>16.00000</td>\n",
       "      <td>4.00000</td>\n",
       "      <td>4.00000</td>\n",
       "      <td>7.00000</td>\n",
       "      <td>59.00000</td>\n",
       "    </tr>\n",
       "    <tr>\n",
       "      <th>50%</th>\n",
       "      <td>145000.00000</td>\n",
       "      <td>16.00000</td>\n",
       "      <td>9.00000</td>\n",
       "      <td>5.00000</td>\n",
       "      <td>10.00000</td>\n",
       "      <td>749.00000</td>\n",
       "    </tr>\n",
       "    <tr>\n",
       "      <th>75%</th>\n",
       "      <td>195000.00000</td>\n",
       "      <td>16.00000</td>\n",
       "      <td>16.00000</td>\n",
       "      <td>7.00000</td>\n",
       "      <td>13.00000</td>\n",
       "      <td>7499.00000</td>\n",
       "    </tr>\n",
       "    <tr>\n",
       "      <th>max</th>\n",
       "      <td>4130000.00000</td>\n",
       "      <td>22.00000</td>\n",
       "      <td>55.00000</td>\n",
       "      <td>27.00000</td>\n",
       "      <td>54.00000</td>\n",
       "      <td>15000.00000</td>\n",
       "    </tr>\n",
       "  </tbody>\n",
       "</table>\n",
       "</div>"
      ],
      "text/plain": [
       "      ConvertedCompYearly EdLevel_converted YearsCodeProAdjusted  \\\n",
       "count          6943.00000        6943.00000           6943.00000   \n",
       "mean         216970.33415          16.07029             11.39738   \n",
       "std          362299.27033           1.94862              9.36185   \n",
       "min           30000.00000           6.00000              0.50000   \n",
       "25%          106000.00000          16.00000              4.00000   \n",
       "50%          145000.00000          16.00000              9.00000   \n",
       "75%          195000.00000          16.00000             16.00000   \n",
       "max         4130000.00000          22.00000             55.00000   \n",
       "\n",
       "      LanguageCount framelibsCount   NewOrgSize  \n",
       "count    6943.00000     6943.00000   6943.00000  \n",
       "mean        5.29411       10.51664   4329.77272  \n",
       "std         2.58799        5.63580   5949.41178  \n",
       "min         1.00000        0.00000      5.00000  \n",
       "25%         4.00000        7.00000     59.00000  \n",
       "50%         5.00000       10.00000    749.00000  \n",
       "75%         7.00000       13.00000   7499.00000  \n",
       "max        27.00000       54.00000  15000.00000  "
      ]
     },
     "execution_count": 17,
     "metadata": {},
     "output_type": "execute_result"
    }
   ],
   "source": [
    "us_prof_comp_data_mod1.describe().apply(lambda s: s.apply(('{0:.5f}'.format)))"
   ]
  },
  {
   "cell_type": "markdown",
   "metadata": {},
   "source": [
    "\n",
    "## III. Methodology/Empirical Model: "
   ]
  },
  {
   "cell_type": "markdown",
   "metadata": {},
   "source": [
    "&nbsp;&nbsp;&nbsp;&nbsp;&nbsp;&nbsp;For the model in this study, we are looking into the relationship between the following variables and their effect on total compensation: education level, years of professional coding experience, how many programming languages the respondent is fluent in, how large the organization is they work for, and the number of data frames, libraries and other technical tools respondents have worked on. "
   ]
  },
  {
   "cell_type": "markdown",
   "metadata": {},
   "source": [
    "&nbsp;&nbsp;&nbsp;&nbsp;&nbsp;&nbsp;In most fields, education level does have a positive correlation with salary, as college graduates are often qualifying for higher paying jobs than high school graduates, master's degrees qualifying for higher paying jobs than a bachelor's degree, etc. The amount of experience someone has also is highly influential on determining salary because companies are willing to pay more for someone who knows what they are doing, as well as years of experience allowing individuals to climb the work ladder and earn higher paying positions. We are interested in looking at if there is a relationship between how many coding languages developers know and their salary, because the intuition would suggest that the more coding languages you are fluent in, the more jobs you qualify for and the more versatile an employee you are – thus earning you a higher wage. The same logic applies to the number of data frames, libraries, and other tools a developer has worked with – for there to be a positive relationship between the number of data frames and libraries with total salary. Finally, we are looking at the size of the organization a developer works for along with their total compensation because larger companies are more profitable than smaller organizations and can thus pay employees more. To answer this, we will use a multiple linear regression analysis as we are looking to determine if there are significant correlates for total compensation. The model we used is the following: "
   ]
  },
  {
   "cell_type": "markdown",
   "metadata": {},
   "source": [
    "$$ln(TotalCompensation) = \\beta_0 + \\beta_1 * EducationLevel + \\beta_2 * ProfessionalCodingYears + \\beta_3*LanguageCount$$\n",
    "$$+ \\beta_4*FrameworkLibrariesCount + \\beta_5* OrganizationSize +u_i$$"
   ]
  },
  {
   "cell_type": "markdown",
   "metadata": {},
   "source": [
    "&nbsp;&nbsp;&nbsp;&nbsp;&nbsp;&nbsp;The OLS result is as below. Although the R^2 is not as high as we would like, the F-statistic shows that we are at least headed in the right direction. "
   ]
  },
  {
   "cell_type": "code",
   "execution_count": 18,
   "metadata": {},
   "outputs": [
    {
     "name": "stdout",
     "output_type": "stream",
     "text": [
      "Regression results model 1: \n",
      "<statsmodels.regression.linear_model.RegressionResultsWrapper object at 0x000001C3850A1EB0>\n",
      "\n"
     ]
    },
    {
     "data": {
      "text/html": [
       "<table class=\"simpletable\">\n",
       "<caption>OLS Regression Results</caption>\n",
       "<tr>\n",
       "  <th>Dep. Variable:</th>    <td>np.log(ConvertedCompYearly)</td> <th>  R-squared:         </th> <td>   0.057</td> \n",
       "</tr>\n",
       "<tr>\n",
       "  <th>Model:</th>                        <td>OLS</td>             <th>  Adj. R-squared:    </th> <td>   0.056</td> \n",
       "</tr>\n",
       "<tr>\n",
       "  <th>Method:</th>                  <td>Least Squares</td>        <th>  F-statistic:       </th> <td>   83.61</td> \n",
       "</tr>\n",
       "<tr>\n",
       "  <th>Date:</th>                  <td>Mon, 24 Oct 2022</td>       <th>  Prob (F-statistic):</th> <td>1.51e-85</td> \n",
       "</tr>\n",
       "<tr>\n",
       "  <th>Time:</th>                      <td>20:05:30</td>           <th>  Log-Likelihood:    </th> <td> -6572.6</td> \n",
       "</tr>\n",
       "<tr>\n",
       "  <th>No. Observations:</th>           <td>  6943</td>            <th>  AIC:               </th> <td>1.316e+04</td>\n",
       "</tr>\n",
       "<tr>\n",
       "  <th>Df Residuals:</th>               <td>  6937</td>            <th>  BIC:               </th> <td>1.320e+04</td>\n",
       "</tr>\n",
       "<tr>\n",
       "  <th>Df Model:</th>                   <td>     5</td>            <th>                     </th>     <td> </td>    \n",
       "</tr>\n",
       "<tr>\n",
       "  <th>Covariance Type:</th>           <td>nonrobust</td>          <th>                     </th>     <td> </td>    \n",
       "</tr>\n",
       "</table>\n",
       "<table class=\"simpletable\">\n",
       "<tr>\n",
       "            <td></td>              <th>coef</th>     <th>std err</th>      <th>t</th>      <th>P>|t|</th>  <th>[0.025</th>    <th>0.975]</th>  \n",
       "</tr>\n",
       "<tr>\n",
       "  <th>Intercept</th>            <td>   11.2396</td> <td>    0.067</td> <td>  168.654</td> <td> 0.000</td> <td>   11.109</td> <td>   11.370</td>\n",
       "</tr>\n",
       "<tr>\n",
       "  <th>EdLevel_converted</th>    <td>    0.0267</td> <td>    0.004</td> <td>    6.896</td> <td> 0.000</td> <td>    0.019</td> <td>    0.034</td>\n",
       "</tr>\n",
       "<tr>\n",
       "  <th>YearsCodeProAdjusted</th> <td>    0.0130</td> <td>    0.001</td> <td>   16.219</td> <td> 0.000</td> <td>    0.011</td> <td>    0.015</td>\n",
       "</tr>\n",
       "<tr>\n",
       "  <th>LanguageCount</th>        <td>   -0.0022</td> <td>    0.004</td> <td>   -0.604</td> <td> 0.546</td> <td>   -0.009</td> <td>    0.005</td>\n",
       "</tr>\n",
       "<tr>\n",
       "  <th>framelibsCount</th>       <td>    0.0086</td> <td>    0.002</td> <td>    5.196</td> <td> 0.000</td> <td>    0.005</td> <td>    0.012</td>\n",
       "</tr>\n",
       "<tr>\n",
       "  <th>NewOrgSize</th>           <td> 1.156e-05</td> <td> 1.27e-06</td> <td>    9.127</td> <td> 0.000</td> <td> 9.08e-06</td> <td>  1.4e-05</td>\n",
       "</tr>\n",
       "</table>\n",
       "<table class=\"simpletable\">\n",
       "<tr>\n",
       "  <th>Omnibus:</th>       <td>3251.038</td> <th>  Durbin-Watson:     </th> <td>   2.016</td> \n",
       "</tr>\n",
       "<tr>\n",
       "  <th>Prob(Omnibus):</th>  <td> 0.000</td>  <th>  Jarque-Bera (JB):  </th> <td>21254.382</td>\n",
       "</tr>\n",
       "<tr>\n",
       "  <th>Skew:</th>           <td> 2.160</td>  <th>  Prob(JB):          </th> <td>    0.00</td> \n",
       "</tr>\n",
       "<tr>\n",
       "  <th>Kurtosis:</th>       <td>10.404</td>  <th>  Cond. No.          </th> <td>6.56e+04</td> \n",
       "</tr>\n",
       "</table><br/><br/>Notes:<br/>[1] Standard Errors assume that the covariance matrix of the errors is correctly specified.<br/>[2] The condition number is large, 6.56e+04. This might indicate that there are<br/>strong multicollinearity or other numerical problems."
      ],
      "text/plain": [
       "<class 'statsmodels.iolib.summary.Summary'>\n",
       "\"\"\"\n",
       "                                 OLS Regression Results                                \n",
       "=======================================================================================\n",
       "Dep. Variable:     np.log(ConvertedCompYearly)   R-squared:                       0.057\n",
       "Model:                                     OLS   Adj. R-squared:                  0.056\n",
       "Method:                          Least Squares   F-statistic:                     83.61\n",
       "Date:                         Mon, 24 Oct 2022   Prob (F-statistic):           1.51e-85\n",
       "Time:                                 20:05:30   Log-Likelihood:                -6572.6\n",
       "No. Observations:                         6943   AIC:                         1.316e+04\n",
       "Df Residuals:                             6937   BIC:                         1.320e+04\n",
       "Df Model:                                    5                                         \n",
       "Covariance Type:                     nonrobust                                         \n",
       "========================================================================================\n",
       "                           coef    std err          t      P>|t|      [0.025      0.975]\n",
       "----------------------------------------------------------------------------------------\n",
       "Intercept               11.2396      0.067    168.654      0.000      11.109      11.370\n",
       "EdLevel_converted        0.0267      0.004      6.896      0.000       0.019       0.034\n",
       "YearsCodeProAdjusted     0.0130      0.001     16.219      0.000       0.011       0.015\n",
       "LanguageCount           -0.0022      0.004     -0.604      0.546      -0.009       0.005\n",
       "framelibsCount           0.0086      0.002      5.196      0.000       0.005       0.012\n",
       "NewOrgSize            1.156e-05   1.27e-06      9.127      0.000    9.08e-06     1.4e-05\n",
       "==============================================================================\n",
       "Omnibus:                     3251.038   Durbin-Watson:                   2.016\n",
       "Prob(Omnibus):                  0.000   Jarque-Bera (JB):            21254.382\n",
       "Skew:                           2.160   Prob(JB):                         0.00\n",
       "Kurtosis:                      10.404   Cond. No.                     6.56e+04\n",
       "==============================================================================\n",
       "\n",
       "Notes:\n",
       "[1] Standard Errors assume that the covariance matrix of the errors is correctly specified.\n",
       "[2] The condition number is large, 6.56e+04. This might indicate that there are\n",
       "strong multicollinearity or other numerical problems.\n",
       "\"\"\""
      ]
     },
     "execution_count": 18,
     "metadata": {},
     "output_type": "execute_result"
    }
   ],
   "source": [
    "reg = smf.ols(formula= 'np.log(ConvertedCompYearly) ~ EdLevel_converted + YearsCodeProAdjusted + LanguageCount + framelibsCount + NewOrgSize', data= us_prof_comp_data)\n",
    "result = reg.fit()\n",
    "\n",
    "print(f'Regression results model 1: \\n{result}\\n')\n",
    "result.summary()"
   ]
  },
  {
   "cell_type": "markdown",
   "metadata": {},
   "source": [
    "&nbsp;\n",
    "<hr />\n",
    "<p style=\"font-family:palatino; text-align: center;font-size: 15px\">ECON320 Python Programming Laboratory</a></p>\n",
    "<p style=\"font-family:palatino; text-align: center;font-size: 15px\">Professor <em> Paloma Lopez de mesa Moyano</em></a></p>\n",
    "<p style=\"font-family:palatino; text-align: center;font-size: 15px\"><span style=\"color: #6666FF;\"><em>paloma.moyano@emory.edu</em></span></p>\n",
    "\n",
    "<p style=\"font-family:palatino; text-align: center;font-size: 15px\">Department of Economics</a></p>\n",
    "<p style=\"font-family:palatino; text-align: center; color: #012169;font-size: 15px\">Emory University</a></p>\n",
    "\n",
    "&nbsp;"
   ]
  }
 ],
 "metadata": {
  "kernelspec": {
   "display_name": "Python 3.8.10 ('venv320': venv)",
   "language": "python",
   "name": "python3"
  },
  "language_info": {
   "codemirror_mode": {
    "name": "ipython",
    "version": 3
   },
   "file_extension": ".py",
   "mimetype": "text/x-python",
   "name": "python",
   "nbconvert_exporter": "python",
   "pygments_lexer": "ipython3",
   "version": "3.8.10"
  },
  "varInspector": {
   "cols": {
    "lenName": 16,
    "lenType": 16,
    "lenVar": 40
   },
   "kernels_config": {
    "python": {
     "delete_cmd_postfix": "",
     "delete_cmd_prefix": "del ",
     "library": "var_list.py",
     "varRefreshCmd": "print(var_dic_list())"
    },
    "r": {
     "delete_cmd_postfix": ") ",
     "delete_cmd_prefix": "rm(",
     "library": "var_list.r",
     "varRefreshCmd": "cat(var_dic_list()) "
    }
   },
   "types_to_exclude": [
    "module",
    "function",
    "builtin_function_or_method",
    "instance",
    "_Feature"
   ],
   "window_display": false
  },
  "vscode": {
   "interpreter": {
    "hash": "2575b666cc1342492c22814df50c9fc3698752638131e4af886c21bc3c3d1c24"
   }
  }
 },
 "nbformat": 4,
 "nbformat_minor": 4
}
