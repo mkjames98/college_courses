{
 "cells": [
  {
   "cell_type": "code",
   "execution_count": 2,
   "metadata": {},
   "outputs": [
    {
     "name": "stdout",
     "output_type": "stream",
     "text": [
      "1\n"
     ]
    }
   ],
   "source": [
    "\n",
    "print(1)"
   ]
  },
  {
   "cell_type": "code",
   "execution_count": null,
   "metadata": {},
   "outputs": [],
   "source": [
    "import numpy as np\n",
    "# 1). Create an object \"birthday\" which is an integer formatted as \"DDMMYYYY\". \n",
    "# For example, if your birthday is December 19 of 1990, then ```birthday = 19121990```, \n",
    "# use this object as your seed in the following two exercises. \n",
    "birthday = \"04022000\"\n",
    "\n",
    "# 2). Write a script that flips a fair coin 10 times and generates a mean when heads = 1 and tails = 0. \n",
    "# Then perform that process 1000 times, plot the distribution of those means, \n",
    "# and report the mean of the means and the standard deviation of the means. \n",
    "\n",
    "# 3). Write a script that flips a fair coin 100 times and generates a mean, as above. \n",
    "# Then perform that process 1000 times, plot the distribution of those means \n",
    "# and report the mean of the means and the standard deviation of the means.\n",
    "\n"
   ]
  }
 ],
 "metadata": {
  "kernelspec": {
   "display_name": "Python 3.10.1 64-bit",
   "language": "python",
   "name": "python3"
  },
  "language_info": {
   "codemirror_mode": {
    "name": "ipython",
    "version": 3
   },
   "file_extension": ".py",
   "mimetype": "text/x-python",
   "name": "python",
   "nbconvert_exporter": "python",
   "pygments_lexer": "ipython3",
   "version": "3.10.1"
  },
  "orig_nbformat": 4,
  "vscode": {
   "interpreter": {
    "hash": "369f2c481f4da34e4445cda3fffd2e751bd1c4d706f27375911949ba6bb62e1c"
   }
  }
 },
 "nbformat": 4,
 "nbformat_minor": 2
}
