{
 "cells": [
  {
   "cell_type": "markdown",
   "metadata": {
    "pycharm": {
     "name": "#%% md\n"
    }
   },
   "source": [
    "    \n",
    "# ECON320-3 Assignment 8: James (Minkyu) Song\n"
   ]
  },
  {
   "cell_type": "code",
   "execution_count": null,
   "metadata": {
    "pycharm": {
     "name": "#%%\n"
    }
   },
   "outputs": [],
   "source": [
    "# Script name: james_song_assignment_08.ipynb\n",
    "# Purpose of script: Assignment 8 of ECON320 with Dr.O'Connell\n",
    "# Author: James (Minkyu) Song\n",
    "# Date Created: October 31st 2022\n",
    "# --------------------------\n",
    "# Notes: NA\n",
    "# ---------------------------"
   ]
  },
  {
   "cell_type": "markdown",
   "metadata": {
    "pycharm": {
     "name": "#%% md\n"
    }
   },
   "source": [
    "\n",
    "# Assignment 8\n",
    "\n",
    "## Part I\n",
    "\n",
    "* Objective: Simulate data with correlated X's in MLRM, draw 1,000 random samples, and generate sample estimates, show sampling distribution of the estimated parameter, and show bias in the estimates.*\n",
    "\n",
    "* Reference: Wooldridge (7th edition), Chapter 3, Section 3*\n",
    "\n",
    "Perform a data generating process of $$y = \\beta_0 + \\beta_1 * x_1 +  \\beta_2 * x_2 + u$$ where $\\beta_0$ is the sum of the 3rd and 4th digits of your birthday, $\\beta_1$ is the sum of the 1st and second digits of your birthday, $\\beta_2$ is the sum of the 5th and 6th digits of your birthday, $x_1$ is distributed normal with mean of 10 and with variance of the first non-zero digit of your birthday, and U is (independently) distributed normal with mean 0 and variance of the last non-zero digit of your birthday, and $x_2$ has its own (intermediate step) data generating process, given by: $$x_{2i} = \\alpha_0 + \\alpha_1 * x_{1i} + \\mu_i$$\n",
    "\n",
    "Where $\\alpha_0 = 2$, $\\alpha_1=.8$ and $\\mu_i \\sim N(0,1)$.\n",
    "\n",
    "Perform this process for a \"population\" of 1 million observations.\n",
    "\n",
    "a. What is the covariance of $x_1$ and $x_2$ in the population data? Save this into an object called \"covX1X2\".\n"
   ]
  },
  {
   "cell_type": "code",
   "execution_count": 1,
   "outputs": [],
   "source": [
    "# I have set up a library (folder) where there are functions that are often reused for this ECON320 class.\n",
    "# This library will be subject to change as the course progresses.\n",
    "# below is the link for reference.\n",
    "# https://github.com/mkjames98/college_courses/tree/main/ECON320_lib\n",
    "\n",
    "from ECON320_lib import birthday_dgm, rm_components\n",
    "import pandas as pd\n",
    "import numpy as np\n",
    "import statsmodels.formula.api as smf\n",
    "from statsmodels.stats.outliers_influence import variance_inflation_factor\n",
    "import matplotlib.pyplot as plt\n",
    "import seaborn as sns"
   ],
   "metadata": {
    "collapsed": false,
    "pycharm": {
     "name": "#%%\n"
    }
   }
  },
  {
   "cell_type": "code",
   "execution_count": 2,
   "metadata": {
    "pycharm": {
     "name": "#%%\n"
    }
   },
   "outputs": [
    {
     "name": "stdout",
     "output_type": "stream",
     "text": [
      "x_1 is normally distributed with a mean of 10 and variance of 1\n",
      "x_2 is normally distributed with a mean of 9.9998483844019 and variance of 1.652\n",
      "u is normally distributed with a mean of 0 and variance of 2\n",
      "y = 6 + 9*x_1 + 2*x_2 + u \n"
     ]
    }
   ],
   "source": [
    "birthday_string = \"18062000\" # using the birthday string as rng\n",
    "rng = np.random.RandomState(int(birthday_string))\n",
    "#birthday_string, rng, x_mean, u_mean, size\n",
    "x1_mean = 10\n",
    "u_mean = 0\n",
    "x2_alpha0 = 2\n",
    "x2_alpha1 = 0.8\n",
    "x2_resid_mean = 0\n",
    "x2_resid_var = 1\n",
    "# created a new function for this custom dgm\n",
    "# it can be viewed on my github or below cell as a comment\n",
    "df, pop_beta0, pop_beta1, pop_beta2 = birthday_dgm.generate_mrm_dynamic_birthday(birthday_string, rng, x1_mean, u_mean, x2_alpha0, x2_alpha1, x2_resid_mean, x2_resid_var, size = 100_000)\n",
    "# dgm is complete"
   ]
  },
  {
   "cell_type": "code",
   "execution_count": 3,
   "outputs": [],
   "source": [
    "# functions in the ECON320_lib folder\n",
    "# def birthday_str_variance_srm(birthday_string):\n",
    "#     for b in list(birthday_string):\n",
    "#         if b != \"0\":\n",
    "#             var_x = int(b)\n",
    "#             break\n",
    "#     for revb in reversed(list(birthday_string)):\n",
    "#         if revb != \"0\":\n",
    "#             var_u = int(revb)\n",
    "#             break\n",
    "#     return var_x, var_u\n",
    "#\n",
    "# def generate_mrm_dynamic_birthday(\n",
    "#     birthday_string, rng, x1_mean, u_mean, x2_alpha0, x2_alpha1, x2_resid_mean, x2_resid_var, size\n",
    "# ):  # x_mean = 10, u_mean =0\n",
    "#     # beta0 is addition of 3rd and 4th digit of my birthday\n",
    "#     pop_beta0 = int(birthday_string[2]) + int(birthday_string[3])\n",
    "#     # beta1 is addition of 1st and 2nd digit of my birthday\n",
    "#     pop_beta1 = int(birthday_string[0]) + int(birthday_string[1])\n",
    "#     # beta2 is addition of 5th and 6th digit of my birthday\n",
    "#     pop_beta2 = int(birthday_string[4]) + int(birthday_string[5])\n",
    "#\n",
    "#     # set scale, scale should be std, so sqrt the result\n",
    "#     var_x1, var_u = birthday_str_variance_srm(birthday_string)\n",
    "#     scale_x1 = math.sqrt(var_x1)\n",
    "#     scale_u = math.sqrt(var_u)\n",
    "#\n",
    "#     x_1 = rng.normal(loc=x1_mean, scale=scale_x1, size=size)\n",
    "#     print(\n",
    "#         f\"x_1 is normally distributed with a mean of {x1_mean} and variance of {round(var_x1,3)}\"\n",
    "#     )\n",
    "#     u = rng.normal(loc=u_mean, scale=scale_u, size=size)\n",
    "#\n",
    "#     x_2 = []\n",
    "#     scale_u2 = math.sqrt(x2_resid_var)\n",
    "#     u_x2 = rng.normal(loc=x2_resid_mean, scale=scale_u2, size=size)\n",
    "#     # x2i = alpha0 + alpha1 * x1i +ui\n",
    "#     for i, x1_i in enumerate(x_1): # using enum to reference u_i's\n",
    "#         x2_i = x2_alpha0 + x2_alpha1 * x1_i + u_x2[i]\n",
    "#         x_2.append(x2_i)\n",
    "#     x_2 = np.array(x_2)\n",
    "#\n",
    "#     print(\n",
    "#         f\"x_2 is normally distributed with a mean of {np.mean(x_2)} and variance of {round(np.var(x_2), 3)}\"\n",
    "#     )\n",
    "#     print(\n",
    "#         f\"u is normally distributed with a mean of {u_mean} and variance of {round(var_u, 3)}\"\n",
    "#     )\n",
    "#     y = pop_beta0 + pop_beta1 * x_1 + pop_beta2 * x_2 + u\n",
    "#     print(f\"y = {int(pop_beta0)} + {int(pop_beta1)}*x_1 + {int(pop_beta2)}*x_2 + u \")\n",
    "#     gdata = {\"x_1\": x_1, \"x_2\": x_2, \"u\": u, \"y\": y}\n",
    "#     df = pd.DataFrame(data=gdata)\n",
    "#     return df, pop_beta0, pop_beta1, pop_beta2\n"
   ],
   "metadata": {
    "collapsed": false,
    "pycharm": {
     "name": "#%%\n"
    }
   }
  },
  {
   "cell_type": "code",
   "execution_count": 4,
   "outputs": [
    {
     "data": {
      "text/plain": "         x_1        x_2         u           y\n0   8.521474  10.126174  0.620051  103.565668\n1   9.420671   9.595559 -1.610882  108.366272\n2   8.327921  10.121149 -0.101887  101.091703\n3  10.154776   9.666038 -0.249930  116.475125\n4  10.799562   8.504482 -1.468527  118.736499",
      "text/html": "<div>\n<style scoped>\n    .dataframe tbody tr th:only-of-type {\n        vertical-align: middle;\n    }\n\n    .dataframe tbody tr th {\n        vertical-align: top;\n    }\n\n    .dataframe thead th {\n        text-align: right;\n    }\n</style>\n<table border=\"1\" class=\"dataframe\">\n  <thead>\n    <tr style=\"text-align: right;\">\n      <th></th>\n      <th>x_1</th>\n      <th>x_2</th>\n      <th>u</th>\n      <th>y</th>\n    </tr>\n  </thead>\n  <tbody>\n    <tr>\n      <th>0</th>\n      <td>8.521474</td>\n      <td>10.126174</td>\n      <td>0.620051</td>\n      <td>103.565668</td>\n    </tr>\n    <tr>\n      <th>1</th>\n      <td>9.420671</td>\n      <td>9.595559</td>\n      <td>-1.610882</td>\n      <td>108.366272</td>\n    </tr>\n    <tr>\n      <th>2</th>\n      <td>8.327921</td>\n      <td>10.121149</td>\n      <td>-0.101887</td>\n      <td>101.091703</td>\n    </tr>\n    <tr>\n      <th>3</th>\n      <td>10.154776</td>\n      <td>9.666038</td>\n      <td>-0.249930</td>\n      <td>116.475125</td>\n    </tr>\n    <tr>\n      <th>4</th>\n      <td>10.799562</td>\n      <td>8.504482</td>\n      <td>-1.468527</td>\n      <td>118.736499</td>\n    </tr>\n  </tbody>\n</table>\n</div>"
     },
     "execution_count": 4,
     "metadata": {},
     "output_type": "execute_result"
    }
   ],
   "source": [
    "df.head()"
   ],
   "metadata": {
    "collapsed": false,
    "pycharm": {
     "name": "#%%\n"
    }
   }
  },
  {
   "cell_type": "code",
   "execution_count": 5,
   "outputs": [
    {
     "name": "stdout",
     "output_type": "stream",
     "text": [
      "The Covariance between x1 and x2 is:  0.8070680212193647\n"
     ]
    }
   ],
   "source": [
    "covX1X2 = np.cov(df['x_1'], df['x_2'])[1, 0]\n",
    "print(\"The Covariance between x1 and x2 is: \", covX1X2)"
   ],
   "metadata": {
    "collapsed": false,
    "pycharm": {
     "name": "#%%\n"
    }
   }
  },
  {
   "cell_type": "markdown",
   "metadata": {
    "pycharm": {
     "name": "#%% md\n"
    }
   },
   "source": [
    "b. Based on the setup above, what is the theoretical total sum of squares of $x_1$ in a sample of 1,000 observations? Calculate this and save it into an object called \"TSSx1\".\n"
   ]
  },
  {
   "cell_type": "code",
   "execution_count": 6,
   "outputs": [
    {
     "data": {
      "text/plain": "1017.1523555810531"
     },
     "execution_count": 6,
     "metadata": {},
     "output_type": "execute_result"
    }
   ],
   "source": [
    "sample_df = df.sample(n= 1_000, random_state = int(birthday_string)) # taking 1_000 sample\n",
    "sample_x1_mean = np.mean(sample_df[\"x_1\"]) # taking the mean\n",
    "TSSx1=((sample_df['x_1']-sample_x1_mean)**2).sum()\n",
    "TSSx1"
   ],
   "metadata": {
    "collapsed": false,
    "pycharm": {
     "name": "#%%\n"
    }
   }
  },
  {
   "cell_type": "markdown",
   "source": [
    "\n",
    "c. Draw a single random sample of 1,000 observations from the population data. From the sample drawn for (b), estimate the parameters of an underspecified sample regression function given by  $$y_i = \\tilde{\\beta_0} + \\tilde{\\beta_1} * x_1 + \\tilde{u_i}$$\n"
   ],
   "metadata": {
    "collapsed": false,
    "pycharm": {
     "name": "#%% md\n"
    }
   }
  },
  {
   "cell_type": "code",
   "execution_count": 7,
   "outputs": [
    {
     "name": "stdout",
     "output_type": "stream",
     "text": [
      "the sample beta_0 of an underspecified model is:  10.403477085881399\n",
      "the sample beta_1 of an underspecified model is:  10.55958989295798\n"
     ]
    }
   ],
   "source": [
    "reg_us = smf.ols(formula= 'y ~ x_1', data= sample_df)\n",
    "result_us = reg_us.fit()\n",
    "sample_us_b0 = result_us.params['Intercept']\n",
    "sample_us_b1 = result_us.params['x_1']\n",
    "print(\"the sample beta_0 of an underspecified model is: \", sample_us_b0)\n",
    "print(\"the sample beta_1 of an underspecified model is: \", sample_us_b1)"
   ],
   "metadata": {
    "collapsed": false,
    "pycharm": {
     "name": "#%%\n"
    }
   }
  },
  {
   "cell_type": "markdown",
   "source": [
    "\n",
    "d. What is $\\tilde{\\beta_1}$ and how does it compare to $\\beta_1$?\n",
    "\n"
   ],
   "metadata": {
    "collapsed": false,
    "pycharm": {
     "name": "#%% md\n"
    }
   }
  },
  {
   "cell_type": "code",
   "execution_count": 8,
   "outputs": [
    {
     "name": "stdout",
     "output_type": "stream",
     "text": [
      "beta_1_tilde is:        10.55958989295798\n",
      "population beta_1 is:   9\n",
      "the difference is:      1.5595898929579803\n",
      "beta_1_tilde is greater than population beta_1\n"
     ]
    }
   ],
   "source": [
    "print(\"beta_1_tilde is:       \", sample_us_b1)\n",
    "print(\"population beta_1 is:  \", pop_beta1)\n",
    "print(\"the difference is:     \", np.abs(pop_beta1-sample_us_b1))\n",
    "\n",
    "print(\"beta_1_tilde is greater than population beta_1\")"
   ],
   "metadata": {
    "collapsed": false,
    "pycharm": {
     "name": "#%%\n"
    }
   }
  },
  {
   "cell_type": "markdown",
   "source": [
    "e. From the sample drawn for (b), estimate the parameters of a properly specified sample regression function given by  $$y_i = \\hat{\\beta_0} + \\hat{\\beta_1} * x_{1i} + \\hat{\\beta_2} * x_{2i} + \\hat{u_i}$$ How does $\\hat{\\beta_1}$ compare to $\\tilde{\\beta_1}$ and $\\beta_1$?\n"
   ],
   "metadata": {
    "collapsed": false,
    "pycharm": {
     "name": "#%% md\n"
    }
   }
  },
  {
   "cell_type": "code",
   "execution_count": 9,
   "outputs": [
    {
     "name": "stdout",
     "output_type": "stream",
     "text": [
      "5.9909946769064195\n",
      "8.98390274840577\n",
      "2.013280447635859\n"
     ]
    }
   ],
   "source": [
    "reg = smf.ols(formula= 'y ~ x_1 + x_2', data= sample_df)\n",
    "result = reg.fit()\n",
    "sample_b0_hat = result.params['Intercept']\n",
    "sample_b1_hat = result.params['x_1']\n",
    "sample_b2_hat = result.params['x_2']\n",
    "\n",
    "print(sample_b0_hat)\n",
    "print(sample_b1_hat)\n",
    "print(sample_b2_hat)"
   ],
   "metadata": {
    "collapsed": false,
    "pycharm": {
     "name": "#%%\n"
    }
   }
  },
  {
   "cell_type": "markdown",
   "source": [
    "\n",
    "f. Repeat steps (b) and (c) 1,000 times, and save the estimated parameter $\\tilde{\\beta_1}$ from each draw into an object.\n"
   ],
   "metadata": {
    "collapsed": false,
    "pycharm": {
     "name": "#%% md\n"
    }
   }
  },
  {
   "cell_type": "code",
   "execution_count": 10,
   "outputs": [],
   "source": [
    "estimated_param_b1_tilde = []\n",
    "for i in range(1, 1_001):\n",
    "    sample_loop_df = df.sample(n= 1_000, random_state = int(birthday_string)+i)\n",
    "    result_us_loop = smf.ols(formula= 'y ~ x_1', data= sample_loop_df).fit()\n",
    "    sample_us_b1_tide = result_us_loop.params['x_1']\n",
    "    estimated_param_b1_tilde.append(sample_us_b1_tide)"
   ],
   "metadata": {
    "collapsed": false,
    "pycharm": {
     "name": "#%%\n"
    }
   }
  },
  {
   "cell_type": "markdown",
   "source": [
    "\n",
    "g. Present a histogram of the sampling distribution of $\\tilde{\\beta_1}$ from (e). What is the mean of the distribution of $\\tilde{\\beta_1}$ and what is its difference from $\\beta_1$?"
   ],
   "metadata": {
    "collapsed": false,
    "pycharm": {
     "name": "#%% md\n"
    }
   }
  },
  {
   "cell_type": "code",
   "execution_count": 11,
   "outputs": [
    {
     "name": "stdout",
     "output_type": "stream",
     "text": [
      "The distribution is plotted below.\n",
      "Figure 1:\n"
     ]
    },
    {
     "data": {
      "text/plain": "<Figure size 500x500 with 1 Axes>",
      "image/png": "[encoded data removed]"
     },
     "metadata": {},
     "output_type": "display_data"
    },
    {
     "name": "stdout",
     "output_type": "stream",
     "text": [
      "With the seed set to my birthday,\n",
      "the mean of the distribution is :             10.61235379949558\n",
      "the difference between beta1_tilde, beta1 is:  1.6123537994955797\n"
     ]
    }
   ],
   "source": [
    "sample_b1_distribution_plot = sns.displot(\n",
    "    data= estimated_param_b1_tilde,\n",
    "    bins=15,\n",
    "    stat=\"density\",\n",
    "    kde=True,\n",
    "    color=\"blue\",\n",
    "    line_kws={\"lw\": 4},\n",
    "    facecolor=\"red\",\n",
    "    edgecolor=\"white\",\n",
    "    kind=\"hist\",\n",
    ")\n",
    "\n",
    "plt.xlabel(\"estimated sample b1\")\n",
    "plt.title(\"sampling distribution of sample b1 tilde (1000 observations)\")\n",
    "print(\"The distribution is plotted below.\")\n",
    "print(\"Figure 1:\")\n",
    "plt.show()\n",
    "\n",
    "mean_dist = np.mean(estimated_param_b1_tilde)\n",
    "dist_diffs = mean_dist - pop_beta1\n",
    "\n",
    "print(\"With the seed set to my birthday,\")\n",
    "print(\"the mean of the distribution is :            \", mean_dist)\n",
    "\n",
    "print(\"the difference between beta1_tilde, beta1 is: \", dist_diffs)"
   ],
   "metadata": {
    "collapsed": false,
    "pycharm": {
     "name": "#%%\n"
    }
   }
  },
  {
   "cell_type": "markdown",
   "source": [
    "h. From (a) and (b) above, what is the difference you would expect to see in (g)?"
   ],
   "metadata": {
    "collapsed": false,
    "pycharm": {
     "name": "#%% md\n"
    }
   }
  },
  {
   "cell_type": "code",
   "execution_count": 12,
   "outputs": [],
   "source": [
    "var_x1 = TSSx1/(len(sample_df)-1) # getting variance using the corresponding df's length -1 = n -1"
   ],
   "metadata": {
    "collapsed": false,
    "pycharm": {
     "name": "#%%\n"
    }
   }
  },
  {
   "cell_type": "code",
   "execution_count": 13,
   "outputs": [
    {
     "name": "stdout",
     "output_type": "stream",
     "text": [
      "the estimated difference in (g) from (a) and (b) is:  1.5853297665275825\n",
      "by under specifying the model there was a positive variance in b_1_tilde\n"
     ]
    }
   ],
   "source": [
    "estimated_b1_hat = pop_beta1+pop_beta2*(covX1X2/var_x1) # by E[b1_hat]= b1+b2*E(cov(x1,x2)/var)\n",
    "\n",
    "estimated_difference_ab_1 = estimated_b1_hat- pop_beta1 # by algebra\n",
    "estimated_difference_ab_2 = pop_beta2*(covX1X2/var_x1) # also by algebra\n",
    "\n",
    "if round(estimated_difference_ab_1, 3) == round(estimated_difference_ab_2, 3):\n",
    "    print(\"the estimated difference in (g) from (a) and (b) is: \", estimated_difference_ab_1)\n",
    "    print(\"by under specifying the model there was a positive variance in b_1_tilde\")"
   ],
   "metadata": {
    "collapsed": false,
    "pycharm": {
     "name": "#%%\n"
    }
   }
  },
  {
   "cell_type": "code",
   "execution_count": null,
   "outputs": [],
   "source": [],
   "metadata": {
    "collapsed": false,
    "pycharm": {
     "name": "#%%\n"
    }
   }
  }
 ],
 "metadata": {
  "kernelspec": {
   "display_name": "Python 3.8.10 ('venv320': venv)",
   "language": "python",
   "name": "python3"
  },
  "language_info": {
   "codemirror_mode": {
    "name": "ipython",
    "version": 3
   },
   "file_extension": ".py",
   "mimetype": "text/x-python",
   "name": "python",
   "nbconvert_exporter": "python",
   "pygments_lexer": "ipython3",
   "version": "3.8.10"
  },
  "orig_nbformat": 4,
  "vscode": {
   "interpreter": {
    "hash": "2575b666cc1342492c22814df50c9fc3698752638131e4af886c21bc3c3d1c24"
   }
  }
 },
 "nbformat": 4,
 "nbformat_minor": 2
}