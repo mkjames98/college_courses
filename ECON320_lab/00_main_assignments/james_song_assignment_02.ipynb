{
 "cells": [
  {
   "cell_type": "markdown",
   "metadata": {},
   "source": [
    "    \n",
    "# ECON320-3 Assignment 2: James (Minkyu) Song \n"
   ]
  },
  {
   "cell_type": "code",
   "execution_count": null,
   "metadata": {},
   "outputs": [],
   "source": [
    "# Script name: james_song_assignment_02.ipynb\n",
    "# Purpose of script: Assignment 2 of ECON320 with Dr.O'Connell\n",
    "# Author: James (Minkyu) Song\n",
    "# Date Created: September 4th 2022\n",
    "# --------------------------\n",
    "# Notes: NA\n",
    "# ---------------------------"
   ]
  },
  {
   "cell_type": "code",
   "execution_count": null,
   "metadata": {},
   "outputs": [],
   "source": [
    "import math\n",
    "\n",
    "import matplotlib.pyplot as plt\n",
    "import numpy as np\n",
    "import pandas as pd\n",
    "import seaborn as sns\n",
    "\n",
    "sns.set_style(\"darkgrid\", {\"grid.linecolor\": \"white\", \"grid.linestyle\": \":\"})\n",
    "plt.style.use('dark_background')"
   ]
  },
  {
   "cell_type": "markdown",
   "metadata": {},
   "source": [
    "## Part I\n",
    "\n",
    "* Objective: Introduction to the Simple Regression model and derivation from a research question to a Simple Regression Model.*\n",
    "\n",
    "* Reference: Wooldridge (7th edition), Chapter 2, Section 1*\n",
    "\n",
    "Perform a data generating process of $$y = \\beta_0 + \\beta_1 * x +  u$$ where $\\beta_0$ is the sum of the 3rd and 4th digits of your birthday, $\\beta_1$ is the sum of the 1st and second digits of your birthday, $x$ is the distributed normal with mean of 10 and variance of the first non-zero digit of your birthday, and u is (independently) distributed normal with mean 0 and variance of the last non-zero digit of your birthday.\n",
    "\n",
    "Perform this process for a \"population\" of 1 million observations."
   ]
  },
  {
   "cell_type": "code",
   "execution_count": null,
   "metadata": {},
   "outputs": [],
   "source": [
    "birthday = \"04021998\"\n",
    "rngen = np.random.RandomState(int(birthday))"
   ]
  },
  {
   "cell_type": "code",
   "execution_count": null,
   "metadata": {},
   "outputs": [],
   "source": [
    "# function that finds the variance using my birthday,\n",
    "# note that \"scale\" parameter in rng.normal is standard deviation\n",
    "# so we have to square root the result to use it in rng.normal, since I return the Variance.\n",
    "def birthday_str_variance(birthday_string):\n",
    "    for b in list(birthday):\n",
    "        if b != \"0\":\n",
    "            var_x= int(b)\n",
    "            break\n",
    "    for revb in reversed(list(birthday)):\n",
    "        if revb != \"0\":\n",
    "            var_u = int(revb)\n",
    "            break\n",
    "    return var_x, var_u\n",
    "\n",
    "def generate_srm_birhtday(birthday_string, rng):\n",
    "    #beta0 is addition of 3rd and 4th digit of my birthday\n",
    "    beta0 = int(birthday_string[2]) +int(birthday_string[3])\n",
    "    #beta1 is addition of 1st and 2nd digit of my birthday\n",
    "    beta1= int(birthday_string[0]) + int(birthday_string[1])\n",
    "    #set scale, scale should be std, so sqrt the result\n",
    "    var_x, var_u = birthday_str_variance(birthday_string)\n",
    "    scale_x = math.sqrt(var_x)\n",
    "    scale_u = math.sqrt(var_u)\n",
    "    x = rng.normal(loc = 10, scale= scale_x, size = 1000000)\n",
    "    u = rng.normal(loc = 0, scale= scale_u, size = 1000000)\n",
    "    y= beta0+ beta1*x+u\n",
    "    gdata = {\"x\": x, \"u\":u, \"y\":y}\n",
    "    df = pd.DataFrame(data= gdata)\n",
    "    return df"
   ]
  },
  {
   "cell_type": "code",
   "execution_count": null,
   "metadata": {},
   "outputs": [],
   "source": [
    "df = generate_srm_birhtday(birthday, rngen)\n",
    "df.head()"
   ]
  },
  {
   "cell_type": "code",
   "execution_count": null,
   "metadata": {},
   "outputs": [],
   "source": [
    "df.describe()"
   ]
  },
  {
   "cell_type": "markdown",
   "metadata": {},
   "source": [
    "## Part II\n",
    "\n",
    "* Objective: Warm up and perform the calculation step-by-step based on the formula for sample var/cov; do not use the buit-in fuctions in NumPy or Python.\n",
    "\n",
    "Suppose that you observe the following sample with the values of random variables X and Y given in the cells. \n",
    "\n",
    "Observation | X | Y |\n",
    "----------|-----|----------\n",
    "1 | 1 | 5\n",
    "2 | 2 | 7\n",
    "3 | 3 | 8\n",
    "4 | 4 | 8\n",
    "5 | 5 | 10\n",
    "6 | 6 | 12\n",
    "7 | 7 | 11\n",
    "8 | 8 | 15\n",
    "9 | 9 | 19 \n",
    "10| 10 | 18\n",
    "\n",
    "\n",
    "Suppose you have a different sample (not necessarily measuring the same things) of random variables J and K:\n",
    "\n",
    "Observation | J | K \n",
    "----------|-----|----------\n",
    "1 | 7 | 18\n",
    "2 | 7 | 16\n",
    "3 | 7 | 15\n",
    "4 | 8 | 16\n",
    "5 | 8 | 10\n",
    "6 | 7 | 11\n",
    "7 | 8 | 11\n",
    "8 | 8 | 9\n",
    "9 | 7 | 11 \n",
    "10| 6 | 19\n",
    "11| 9 | 8\n",
    "12| 9 | 8\n",
    "13| 8 | 6\n",
    "14| 9 | 4\n",
    "15| 7 | 9\n",
    "16| 8 | 10\n",
    "17| 9 | 7\n",
    "18| 6 | 15\n",
    "19| 10 | 10\n",
    "20| 10 | 7\n",
    "21| 9 | 5"
   ]
  },
  {
   "cell_type": "code",
   "execution_count": null,
   "metadata": {},
   "outputs": [],
   "source": [
    "# setting up the data\n",
    "# x: 1 through 10\n",
    "partII_x = np.array(list(range(1, 11)))\n",
    "# y: manual entry\n",
    "partII_y = np.array([5, 7, 8, 8, 10, 12, 11, 15, 19, 18])\n",
    "# j: manual entry\n",
    "partII_j = np.array([7, 7, 7, 8, 8, 7, 8, 8, 7, 6, 9, 9, 8, 9, 7, 8, 9, 6, 10, 10, 9])\n",
    "# k: manual entry\n",
    "partII_k = np.array(\n",
    "    [18, 16, 15, 16, 10, 11, 11, 9, 11, 19, 8, 8, 6, 4, 9, 10, 7, 16, 10, 7, 5]\n",
    ")"
   ]
  },
  {
   "cell_type": "markdown",
   "metadata": {},
   "source": [
    "\n",
    "Complete questions below, showing all calculations (where applicable).\n",
    "\n",
    "Upon visual inspection, which random variable looks like it would have a greater variance: X or J? Why?\n",
    "\n",
    "Show step-by-step calculations for the following:\n",
    "________________________________________________________"
   ]
  },
  {
   "cell_type": "markdown",
   "metadata": {},
   "source": [
    "<strong>a. Find the sample var(X), sample var(Y).</strong>\n",
    "\t\n",
    "b. Find sample cov(X,Y).\n",
    "\t\n",
    "<strong>c. Find the sample var(J), sample var(K).</strong>\n",
    "\t\n",
    "d. Find sample cov(J,K)."
   ]
  },
  {
   "cell_type": "code",
   "execution_count": null,
   "metadata": {},
   "outputs": [],
   "source": [
    "def sample_variance(np_arr):\n",
    "    # calculating the parameters for the variance function\n",
    "    mean_val = np_arr.mean()\n",
    "    sqd = (np_arr - mean_val) ** 2\n",
    "    # len(np_arr) = n\n",
    "    variance = sqd.sum() / len(np_arr)\n",
    "\n",
    "    # verifiyiing with np.var for accuracy\n",
    "    if np.var(np_arr) != variance:\n",
    "        raise ValueError(\n",
    "            f\"the calculated variance ({variance}) is different from numpy variance ({np.var(np_arr)})\"\n",
    "        )\n",
    "    return variance"
   ]
  },
  {
   "cell_type": "markdown",
   "metadata": {},
   "source": [
    "______________________\n",
    "a. Find the sample var(X), sample var(Y).\n",
    "\t\n",
    "<strong>b. Find sample cov(X,Y).</strong>\n",
    "\t\n",
    "c. Find the sample var(J), sample var(K).\n",
    "\t\n",
    "<strong>d. Find sample cov(J,K).</strong>"
   ]
  },
  {
   "cell_type": "code",
   "execution_count": null,
   "metadata": {},
   "outputs": [],
   "source": [
    "def sample_covariance(np_arr_1, np_arr_2):\n",
    "    # basic check of manual data entry process\n",
    "    # first condition is two arrays must be same length, (Xi,Yi) pairs\n",
    "    if len(np_arr_1) != len(np_arr_2):\n",
    "        raise ValueError(\"Two arrays must be the same length\")\n",
    "    # calculating the parameters for the covariance function\n",
    "    md_1 = np_arr_1 - np_arr_1.mean()\n",
    "    md_2 = np_arr_2 - np_arr_2.mean()\n",
    "    m_1x2 = md_1 * md_2\n",
    "    # len(np_arr_1)-1 = n-1\n",
    "    covariance = m_1x2.sum() / (len(np_arr_1) - 1)\n",
    "    # verifiyiing with np.cov for accuracy\n",
    "    if np.cov(np_arr_1, np_arr_2)[0, 1] != covariance:\n",
    "        raise ValueError(\n",
    "            (\n",
    "                f\"the calculated variance ({covariance}) is different from numpy variance ({np.cov(np_arr_1, np_arr_2)[0,1]})\"\n",
    "            )\n",
    "        )\n",
    "    return covariance"
   ]
  },
  {
   "cell_type": "markdown",
   "metadata": {},
   "source": [
    "a. Find the sample var(X), sample var(Y)."
   ]
  },
  {
   "cell_type": "code",
   "execution_count": null,
   "metadata": {},
   "outputs": [],
   "source": [
    "sample_var_x = sample_variance(partII_x)\n",
    "sample_var_y= sample_variance(partII_y)\n",
    "\n",
    "print(\"sample variance of X and Y\")\n",
    "print(f\"var(X): {sample_var_x}\")\n",
    "print(f\"var(Y): {sample_var_y}\")\n"
   ]
  },
  {
   "cell_type": "markdown",
   "metadata": {},
   "source": [
    "b. Find sample cov(X,Y)."
   ]
  },
  {
   "cell_type": "code",
   "execution_count": null,
   "metadata": {},
   "outputs": [],
   "source": [
    "sample_cov_x_y= sample_covariance(partII_x, partII_y)\n",
    "print(\"sample variance of X and Y\")\n",
    "print(f\"covar(X,Y): {sample_cov_x_y}\")"
   ]
  },
  {
   "cell_type": "markdown",
   "metadata": {},
   "source": [
    "c. Find the sample var(J), sample var(K)."
   ]
  },
  {
   "cell_type": "code",
   "execution_count": null,
   "metadata": {},
   "outputs": [],
   "source": [
    "sample_var_j = sample_variance(partII_j)\n",
    "sample_var_k= sample_variance(partII_k)\n",
    "\n",
    "print(\"sample variance of j and k\")\n",
    "print(f\"var(J): {sample_var_j}\")\n",
    "print(f\"var(K): {sample_var_k}\")"
   ]
  },
  {
   "cell_type": "markdown",
   "metadata": {},
   "source": [
    "d. Find sample cov(J,K)."
   ]
  },
  {
   "cell_type": "code",
   "execution_count": null,
   "metadata": {},
   "outputs": [],
   "source": [
    "sample_cov_j_k= sample_covariance(partII_j, partII_k)\n",
    "print(\"sample variance of J and K\")\n",
    "print(f\"covar(J,K): {sample_cov_j_k}\")"
   ]
  },
  {
   "cell_type": "markdown",
   "metadata": {},
   "source": [
    "____________\n",
    "Present scatterplots of {X,Y} and {J,K}. Y and K should be on the vertical axes. Do not place any trend lines. Be sure to label axes."
   ]
  },
  {
   "cell_type": "code",
   "execution_count": null,
   "metadata": {},
   "outputs": [],
   "source": [
    "# visualization\n",
    "# scatterplot of {X,Y}\n",
    "sns.relplot(\n",
    "    data=pd.DataFrame(list(zip(partII_x, partII_y)), columns=[\"X\", \"Y\"]),\n",
    "    x=\"X\",\n",
    "    y=\"Y\",\n",
    "    kind=\"scatter\",\n",
    "    color=\"orange\",\n",
    ")\n",
    "print(\"The Scatterplott of X & Y is visualized below: \")\n",
    "plt.title(\"Scatterplot of {X,Y}\")\n",
    "plt.show()\n"
   ]
  },
  {
   "cell_type": "code",
   "execution_count": null,
   "metadata": {},
   "outputs": [],
   "source": [
    "# visualization\n",
    "# scatterplot of {J,K}\n",
    "sns.relplot(\n",
    "    data=pd.DataFrame(list(zip(partII_j, partII_k)), columns=[\"J\", \"K\"]),\n",
    "    x=\"J\",\n",
    "    y=\"K\",\n",
    "    kind=\"scatter\",\n",
    "    color=\"magenta\",\n",
    ")\n",
    "print(\"The Scatterplott of J & K is visualized below: \")\n",
    "plt.title(\"Scatterplot of {J,K}\")\n",
    "plt.show()\n"
   ]
  },
  {
   "cell_type": "code",
   "execution_count": null,
   "metadata": {},
   "outputs": [],
   "source": [
    "# completed by: James (Minkyu) Song\n",
    "# Student ID: 2235723"
   ]
  }
 ],
 "metadata": {
  "kernelspec": {
   "display_name": "Python 3.8.10 ('venv320': venv)",
   "language": "python",
   "name": "python3"
  },
  "language_info": {
   "codemirror_mode": {
    "name": "ipython",
    "version": 3
   },
   "file_extension": ".py",
   "mimetype": "text/x-python",
   "name": "python",
   "nbconvert_exporter": "python",
   "pygments_lexer": "ipython3",
   "version": "3.8.10"
  },
  "orig_nbformat": 4,
  "vscode": {
   "interpreter": {
    "hash": "2575b666cc1342492c22814df50c9fc3698752638131e4af886c21bc3c3d1c24"
   }
  }
 },
 "nbformat": 4,
 "nbformat_minor": 2
}
