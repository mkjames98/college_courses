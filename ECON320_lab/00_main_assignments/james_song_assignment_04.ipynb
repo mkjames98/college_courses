{
 "cells": [
  {
   "cell_type": "markdown",
   "metadata": {},
   "source": [
    "    \n",
    "# ECON320-3 Assignment 4: James (Minkyu) Song \n"
   ]
  },
  {
   "cell_type": "code",
   "execution_count": 24,
   "metadata": {},
   "outputs": [],
   "source": [
    "# Script name: james_song_assignment_04.ipynb\n",
    "# Purpose of script: Assignment 4 of ECON320 with Dr.O'Connell\n",
    "# Author: James (Minkyu) Song\n",
    "# Date Created: September 19th 2022\n",
    "# --------------------------\n",
    "# Notes: NA\n",
    "# ---------------------------"
   ]
  },
  {
   "cell_type": "markdown",
   "metadata": {},
   "source": [
    "## Part I\n",
    "\n",
    "* Objective: Consider the properties of OLS on any sample of data.*\n",
    "\n",
    "* Reference: Wooldridge (7th edition), Chapter 2, Section 3*\n",
    "\n",
    "Using all of the previous up to this point, calculate TSS, ESS and RSS in your sample."
   ]
  },
  {
   "cell_type": "code",
   "execution_count": 25,
   "metadata": {},
   "outputs": [],
   "source": [
    "import math\n",
    "\n",
    "import pandas as pd\n",
    "import numpy as np"
   ]
  },
  {
   "cell_type": "code",
   "execution_count": 30,
   "metadata": {},
   "outputs": [
    {
     "name": "stdout",
     "output_type": "stream",
     "text": [
      "y= 2 + 4*x + u \n",
      "cov(x,y) :  4.01532677941436\n"
     ]
    }
   ],
   "source": [
    "# creating sample, referenced from previous assignmnet submissions\n",
    "# and lab lectures\n",
    "\n",
    "birthdaystring = \"04021998\"\n",
    "rng = np.random.RandomState(int(birthdaystring))\n",
    "\n",
    "\n",
    "x = rng.normal(loc=10, scale=1 , size=1000000)\n",
    "# u normal dist with mean 0 std 1 \n",
    "u = rng.normal(loc=0, scale=1 , size=1000000)\n",
    "# b_0 = 0+2; b_1= 4+0 \n",
    "y = 2 + 4*x + u \n",
    "print(\"y= 2 + 4*x + u \")\n",
    "data = {\"x\": x, \"u\": u, \"y\": y}\n",
    "df = pd.DataFrame(data)\n",
    "# Get a sample of 1000 observations\n",
    "sample_df = df.sample(n = 1000, random_state = int(birthdaystring))\n",
    "print(\"cov(x,y) : \", sample_df[['y', 'x']].cov().iloc[0,1])\n"
   ]
  },
  {
   "cell_type": "markdown",
   "metadata": {},
   "source": [
    "\n",
    "a. Calculate $R^2$, which is ESS/TSS. "
   ]
  },
  {
   "cell_type": "code",
   "execution_count": 35,
   "metadata": {},
   "outputs": [
    {
     "data": {
      "text/html": [
       "<div>\n",
       "<style scoped>\n",
       "    .dataframe tbody tr th:only-of-type {\n",
       "        vertical-align: middle;\n",
       "    }\n",
       "\n",
       "    .dataframe tbody tr th {\n",
       "        vertical-align: top;\n",
       "    }\n",
       "\n",
       "    .dataframe thead th {\n",
       "        text-align: right;\n",
       "    }\n",
       "</style>\n",
       "<table border=\"1\" class=\"dataframe\">\n",
       "  <thead>\n",
       "    <tr style=\"text-align: right;\">\n",
       "      <th></th>\n",
       "      <th>x</th>\n",
       "      <th>u</th>\n",
       "      <th>y</th>\n",
       "      <th>y_pred</th>\n",
       "      <th>residuals</th>\n",
       "    </tr>\n",
       "  </thead>\n",
       "  <tbody>\n",
       "    <tr>\n",
       "      <th>480891</th>\n",
       "      <td>9.320804</td>\n",
       "      <td>1.198214</td>\n",
       "      <td>40.481429</td>\n",
       "      <td>39.277208</td>\n",
       "      <td>1.204222</td>\n",
       "    </tr>\n",
       "    <tr>\n",
       "      <th>179895</th>\n",
       "      <td>11.362336</td>\n",
       "      <td>0.697495</td>\n",
       "      <td>48.146839</td>\n",
       "      <td>47.368491</td>\n",
       "      <td>0.778348</td>\n",
       "    </tr>\n",
       "    <tr>\n",
       "      <th>90252</th>\n",
       "      <td>11.387784</td>\n",
       "      <td>0.254672</td>\n",
       "      <td>47.805808</td>\n",
       "      <td>47.469350</td>\n",
       "      <td>0.336457</td>\n",
       "    </tr>\n",
       "    <tr>\n",
       "      <th>167375</th>\n",
       "      <td>10.930718</td>\n",
       "      <td>0.008831</td>\n",
       "      <td>45.731705</td>\n",
       "      <td>45.657844</td>\n",
       "      <td>0.073860</td>\n",
       "    </tr>\n",
       "    <tr>\n",
       "      <th>198512</th>\n",
       "      <td>8.520829</td>\n",
       "      <td>-1.002781</td>\n",
       "      <td>35.080534</td>\n",
       "      <td>36.106636</td>\n",
       "      <td>-1.026102</td>\n",
       "    </tr>\n",
       "  </tbody>\n",
       "</table>\n",
       "</div>"
      ],
      "text/plain": [
       "                x         u          y     y_pred  residuals\n",
       "480891   9.320804  1.198214  40.481429  39.277208   1.204222\n",
       "179895  11.362336  0.697495  48.146839  47.368491   0.778348\n",
       "90252   11.387784  0.254672  47.805808  47.469350   0.336457\n",
       "167375  10.930718  0.008831  45.731705  45.657844   0.073860\n",
       "198512   8.520829 -1.002781  35.080534  36.106636  -1.026102"
      ]
     },
     "execution_count": 35,
     "metadata": {},
     "output_type": "execute_result"
    }
   ],
   "source": [
    "sample_df.head()"
   ]
  },
  {
   "cell_type": "code",
   "execution_count": 36,
   "metadata": {},
   "outputs": [],
   "source": [
    "def sample_betas(sample_x, sample_y):\n",
    "    covxy= np.cov(sample_x, sample_y)[1,0]\n",
    "    print(\"covariance is: \"+ str(covxy))\n",
    "    varx= sample_x.var()\n",
    "    beta1_sample = covxy/varx\n",
    "    beta0_sample = sample_y.mean() - (beta1_sample* sample_x.mean())\n",
    "    print(f'b0:{beta0_sample}')\n",
    "    print(f'b1:{beta1_sample}')\n",
    "\n",
    "    return beta0_sample, beta1_sample\n",
    "\n",
    "def predict_y(sample_x, sample_y):\n",
    "    beta0_sample, beta1_sample = sample_betas(sample_x, sample_y)\n",
    "    y_pred = beta1_sample *sample_x +beta0_sample\n",
    "    return y_pred\n",
    "\n",
    "def residuals(sample_y, sample_y_pred):\n",
    "    return sample_y - sample_y_pred\n",
    "\n"
   ]
  },
  {
   "cell_type": "code",
   "execution_count": 37,
   "metadata": {},
   "outputs": [
    {
     "name": "stdout",
     "output_type": "stream",
     "text": [
      "covariance is: 4.01532677941436\n",
      "b0:2.335705145168248\n",
      "b1:3.9633387052065174\n"
     ]
    }
   ],
   "source": [
    "sample_df['y_pred']= predict_y(sample_df['x'], sample_df['y'])\n",
    "sample_df['residuals'] = residuals(sample_df['y'], sample_df['y_pred'])"
   ]
  },
  {
   "cell_type": "code",
   "execution_count": 38,
   "metadata": {},
   "outputs": [],
   "source": [
    "def ex_sum_sq(y_pred):\n",
    "    return (y_pred-y_pred.mean())**2\n",
    "\n",
    "def res_sum_sq(y_column, y_pred):\n",
    "    return (y_column-y_pred)**2\n",
    "\n",
    "def total_sum_sq(y_column, y_pred):\n",
    "    return (y_column - y_pred.mean())**2\n",
    "\n",
    "def generate_sumsq_df(y_column, y_pred):\n",
    "    sumsq_df = pd.DataFrame()\n",
    "    ess_arr = ex_sum_sq(y_pred)\n",
    "    rss_arr = res_sum_sq(y_column, y_pred)\n",
    "    tss_arr = total_sum_sq(y_column, y_pred)\n",
    "\n",
    "    data = list(zip(ess_arr, rss_arr, tss_arr, ess_arr+rss_arr))\n",
    "    sumsq_df = pd.DataFrame(data= data, columns = ['ESS', 'RSS', 'TSS', 'ESS+RSS'])\n",
    "    return sumsq_df"
   ]
  },
  {
   "cell_type": "code",
   "execution_count": 43,
   "metadata": {},
   "outputs": [
    {
     "name": "stdout",
     "output_type": "stream",
     "text": [
      "ESS       : 15898.18593886626\n",
      "RSS       : 1056.479506583848\n",
      "TSS       : 16954.66544545011\n"
     ]
    }
   ],
   "source": [
    "sumsq_df= generate_sumsq_df(sample_df['y'], sample_df['y_pred'])\n",
    "for column in sumsq_df.columns[:-1]:\n",
    "    print(f\"{column:10}: {sumsq_df[column].sum()}\" )"
   ]
  },
  {
   "cell_type": "code",
   "execution_count": 44,
   "metadata": {},
   "outputs": [
    {
     "name": "stdout",
     "output_type": "stream",
     "text": [
      "R Squared Value is :  0.9376879768000751\n"
     ]
    }
   ],
   "source": [
    "r_squared = sumsq_df['ESS'].sum()/sumsq_df['TSS'].sum()\n",
    "print(\"R Squared Value is : \", r_squared)"
   ]
  },
  {
   "cell_type": "markdown",
   "metadata": {},
   "source": [
    "\n",
    "b. Show that for any individual observation, $(y_i - \\bar{y})^2 \\neq (\\hat{y}_i-\\bar{y})^2 + \\hat{u}_i^2$, but it works when summing components across all observations i.e., that $$TSS=ESS+RSS$$"
   ]
  },
  {
   "cell_type": "code",
   "execution_count": 45,
   "metadata": {},
   "outputs": [
    {
     "data": {
      "text/html": [
       "<div>\n",
       "<style scoped>\n",
       "    .dataframe tbody tr th:only-of-type {\n",
       "        vertical-align: middle;\n",
       "    }\n",
       "\n",
       "    .dataframe tbody tr th {\n",
       "        vertical-align: top;\n",
       "    }\n",
       "\n",
       "    .dataframe thead th {\n",
       "        text-align: right;\n",
       "    }\n",
       "</style>\n",
       "<table border=\"1\" class=\"dataframe\">\n",
       "  <thead>\n",
       "    <tr style=\"text-align: right;\">\n",
       "      <th></th>\n",
       "      <th>ESS</th>\n",
       "      <th>RSS</th>\n",
       "      <th>TSS</th>\n",
       "      <th>ESS+RSS</th>\n",
       "    </tr>\n",
       "  </thead>\n",
       "  <tbody>\n",
       "    <tr>\n",
       "      <th>0</th>\n",
       "      <td>7.297028</td>\n",
       "      <td>1.450150</td>\n",
       "      <td>2.241247</td>\n",
       "      <td>8.747177</td>\n",
       "    </tr>\n",
       "    <tr>\n",
       "      <th>1</th>\n",
       "      <td>29.051909</td>\n",
       "      <td>0.605826</td>\n",
       "      <td>38.048301</td>\n",
       "      <td>29.657735</td>\n",
       "    </tr>\n",
       "    <tr>\n",
       "      <th>2</th>\n",
       "      <td>30.149337</td>\n",
       "      <td>0.113204</td>\n",
       "      <td>33.957410</td>\n",
       "      <td>30.262541</td>\n",
       "    </tr>\n",
       "    <tr>\n",
       "      <th>3</th>\n",
       "      <td>13.537509</td>\n",
       "      <td>0.005455</td>\n",
       "      <td>14.086479</td>\n",
       "      <td>13.542964</td>\n",
       "    </tr>\n",
       "    <tr>\n",
       "      <th>4</th>\n",
       "      <td>34.478889</td>\n",
       "      <td>1.052885</td>\n",
       "      <td>47.582052</td>\n",
       "      <td>35.531774</td>\n",
       "    </tr>\n",
       "  </tbody>\n",
       "</table>\n",
       "</div>"
      ],
      "text/plain": [
       "         ESS       RSS        TSS    ESS+RSS\n",
       "0   7.297028  1.450150   2.241247   8.747177\n",
       "1  29.051909  0.605826  38.048301  29.657735\n",
       "2  30.149337  0.113204  33.957410  30.262541\n",
       "3  13.537509  0.005455  14.086479  13.542964\n",
       "4  34.478889  1.052885  47.582052  35.531774"
      ]
     },
     "execution_count": 45,
     "metadata": {},
     "output_type": "execute_result"
    }
   ],
   "source": [
    "sumsq_df.head()"
   ]
  },
  {
   "cell_type": "code",
   "execution_count": 46,
   "metadata": {},
   "outputs": [
    {
     "data": {
      "text/plain": [
       "0    False\n",
       "dtype: bool"
      ]
     },
     "execution_count": 46,
     "metadata": {},
     "output_type": "execute_result"
    }
   ],
   "source": [
    "indiv_obvs_bool = sumsq_df['TSS']==sumsq_df['ESS+RSS']\n",
    "indiv_obvs_bool.drop_duplicates(keep=\"first\")\n",
    "# after dropping all duplicates, only false is left, which means sumsq_df['TSS']==sumsq_df['ESS+RSS'] was all False."
   ]
  },
  {
   "cell_type": "code",
   "execution_count": 47,
   "metadata": {},
   "outputs": [
    {
     "name": "stdout",
     "output_type": "stream",
     "text": [
      "SUM of TSS       : 16954.66544545011\n",
      "SUM of ESS+RSS   : 16954.665445450108\n"
     ]
    }
   ],
   "source": [
    "for column in sumsq_df.columns[2:]:\n",
    "    print(f\"SUM of {column:10}: {sumsq_df[column].sum()}\" )"
   ]
  },
  {
   "cell_type": "markdown",
   "metadata": {},
   "source": [
    "\n",
    "c. From the sample and estimates from the previous assignment, show that $\\sum_{\\forall i}{\\hat{u}_i} \\approx  0$ . Show that $\\sum_{\\forall i}({\\hat{u}_i*x_i}) \\approx  0$"
   ]
  },
  {
   "cell_type": "code",
   "execution_count": 48,
   "metadata": {},
   "outputs": [
    {
     "name": "stdout",
     "output_type": "stream",
     "text": [
      "Sum of residuals: 0.0\n",
      "Sum (x*u): 0.0\n"
     ]
    }
   ],
   "source": [
    "sum_of_resids = abs(round(sample_df['residuals'].sum(), 3))\n",
    "print(f\"Sum of residuals: {sum_of_resids}\")\n",
    "\n",
    "sum_xu = round((sample_df['x']*sample_df['residuals']).sum(), 4)\n",
    "print(f\"Sum (x*u): {sum_xu}\")"
   ]
  },
  {
   "cell_type": "markdown",
   "metadata": {},
   "source": [
    "\n",
    "d. From the sample and estimates from the previous assignment, calculate the variance and standard error of $\\hat{\\beta_1}$. \n"
   ]
  },
  {
   "cell_type": "code",
   "execution_count": 49,
   "metadata": {},
   "outputs": [
    {
     "name": "stdout",
     "output_type": "stream",
     "text": [
      "Variance of beta1 : 0.0010459365531175003 and Standard Error : 0.03234094236594692\n"
     ]
    }
   ],
   "source": [
    "def sigma_hat(residuals):\n",
    "    return (residuals**2).sum()/ (len(residuals)-2)\n",
    "\n",
    "def var_se_sample_beta1(residuals, x_column):\n",
    "    sig_hat2 = sigma_hat(residuals)\n",
    "    tss_x = ex_sum_sq(x_column).sum() #ess calculation is the same as xi - xmean\n",
    "    tss_x_sqrt = tss_x**(1/2) # since se(sample b_1) = sigmahat2.sqrt() / tssx.sqrt\n",
    "    var_sample_b1 = (sig_hat2)/tss_x\n",
    "    se_sample_b1 = (sig_hat2**(1/2)) / tss_x_sqrt\n",
    "    print(f\"Variance of beta1 : {var_sample_b1} and Standard Error : {se_sample_b1}\")\n",
    "    return var_sample_b1, se_sample_b1\n",
    "\n",
    "variance_sample_b1, standard_error_sample_b1 = var_se_sample_beta1(sample_df['residuals'], sample_df['x'])\n"
   ]
  },
  {
   "cell_type": "code",
   "execution_count": 52,
   "metadata": {},
   "outputs": [
    {
     "name": "stdout",
     "output_type": "stream",
     "text": [
      "variance^(1/2) - standrard error = 0.0\n"
     ]
    }
   ],
   "source": [
    "print(\"variance^(1/2) - standrard error =\", abs(round(variance_sample_b1**(1/2) - standard_error_sample_b1, 3)))"
   ]
  }
 ],
 "metadata": {
  "kernelspec": {
   "display_name": "Python 3.8.10 ('venv320': venv)",
   "language": "python",
   "name": "python3"
  },
  "language_info": {
   "codemirror_mode": {
    "name": "ipython",
    "version": 3
   },
   "file_extension": ".py",
   "mimetype": "text/x-python",
   "name": "python",
   "nbconvert_exporter": "python",
   "pygments_lexer": "ipython3",
   "version": "3.8.10"
  },
  "orig_nbformat": 4,
  "vscode": {
   "interpreter": {
    "hash": "2575b666cc1342492c22814df50c9fc3698752638131e4af886c21bc3c3d1c24"
   }
  }
 },
 "nbformat": 4,
 "nbformat_minor": 2
}
