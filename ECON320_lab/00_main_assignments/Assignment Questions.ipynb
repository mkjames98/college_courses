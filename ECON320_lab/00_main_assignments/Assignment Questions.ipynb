{
 "cells": [
  {
   "cell_type": "markdown",
   "metadata": {
    "pycharm": {
     "name": "#%% md\n"
    }
   },
   "source": [
    "# Assignment 1\n",
    "\n",
    "## Part I\n",
    "\n",
    "\n",
    "* Objective: Basics of workspace and good practices: folders, working directories, clearing workspace, saving objects, saving outputs.*\n",
    "\n",
    "1). Construct your personal code header to use for all scripts from thereon. A code header contains commented-out text that gives essential meta-information and uncommented code that sets up the working environment. For instance, code can be used to loading packages or setting up your working directory. Here is an example of a template:\n",
    "\n",
    "```python\n",
    "# Script name: \n",
    "# Purpose of script:\n",
    "# Author:\n",
    "# Date Created: \n",
    "# --------------------------\n",
    "# Notes:\n",
    "# ---------------------------\n",
    "\n",
    "# Packages\n",
    "import os\n",
    "# import (other packages you need)\n",
    "\n",
    "# Set up working directory\n",
    "directory_path = 'C:/your-directory-path' # use / instead of \\ or use \\ but insert r before (for instance: r'C:\\your-directory-path')\n",
    "os.chdir(directory_path)\n",
    "```\n",
    "\n",
    "\n",
    "\n",
    "\n",
    "## Part II\n",
    "\n",
    "* Objective: Perform steps in empirical economic analysis.*\n",
    "\n",
    "* Reference: Wooldridge (7th edition), Chapter 1, Section 2*\n",
    "\n",
    "1). Create an object \"birthday\" which is an integer formatted as \"DDMMYYYY\". For example, if your birthday is December 19 of 1990, then ```birthday = 19121990```, use this object as your seed in the following two exercises. \n",
    "\n",
    "2). Write a script that flips a fair coin 10 times and generates a mean when heads = 1 and tails = 0. Then perform that process 1000 times, plot the distribution of those means, and report the mean of the means and the standard deviation of the means. \n",
    "\n",
    "3). Write a script that flips a fair coin 100 times and generates a mean, as above. Then perform that process 1000 times, plot the distribution of those means and report the mean of the means and the standard deviation of the means.\n"
   ]
  },
  {
   "cell_type": "markdown",
   "metadata": {
    "pycharm": {
     "name": "#%% md\n"
    }
   },
   "source": [
    "    \n",
    "# Assignment 2\n",
    "\n",
    "## Part I\n",
    "\n",
    "* Objective: Introduction to the Simple Regression model and derivation from a research question to a Simple Regression Model.*\n",
    "\n",
    "* Reference: Wooldridge (7th edition), Chapter 2, Section 1*\n",
    "\n",
    "Perform a data generating process of $$y = \\beta_0 + \\beta_1 * x +  u$$ where $\\beta_0$ is the sum of the 3rd and 4th digits of your birthday, $\\beta_1$ is the sum of the 1st and second digits of your birthday, $x$ is the distributed normal with mean of 10 and variance of the first non-zero digit of your birthday, and u is (independently) distributed normal with mean 0 and variance of the last non-zero digit of your birthday.\n",
    "\n",
    "Perform this process for a \"population\" of 1 million observations.\n",
    "\n",
    "## Part II\n",
    "\n",
    "* Objective: Warm up and perform the calculation step-by-step based on the formula for sample var/cov; do not use the buit-in fuctions in NumPy or Python.\n",
    "\n",
    "Suppose that you observe the following sample with the values of random variables X and Y given in the cells. \n",
    "\n",
    "Observation | X | Y |\n",
    "----------|-----|----------\n",
    "1 | 1 | 5\n",
    "2 | 2 | 7\n",
    "3 | 3 | 8\n",
    "4 | 4 | 8\n",
    "5 | 5 | 10\n",
    "6 | 6 | 12\n",
    "7 | 7 | 11\n",
    "8 | 8 | 15\n",
    "9 | 9 | 19 \n",
    "10| 10 | 18\n",
    "\n",
    "\n",
    "Suppose you have a different sample (not necessarily measuring the same things) of random variables J and K:\n",
    "\n",
    "Observation | J | K \n",
    "----------|-----|----------\n",
    "1 | 7 | 18\n",
    "2 | 7 | 16\n",
    "3 | 7 | 15\n",
    "4 | 8 | 16\n",
    "5 | 8 | 10\n",
    "6 | 7 | 11\n",
    "7 | 8 | 11\n",
    "8 | 8 | 9\n",
    "9 | 7 | 11 \n",
    "10| 6 | 19\n",
    "11| 9 | 8\n",
    "12| 9 | 8\n",
    "13| 8 | 6\n",
    "14| 9 | 4\n",
    "15| 7 | 9\n",
    "16| 8 | 10\n",
    "17| 9 | 7\n",
    "18| 6 | 15\n",
    "19| 10 | 10\n",
    "20| 10 | 7\n",
    "21| 9 | 5\n",
    "\n",
    "Complete questions below, showing all calculations (where applicable).\n",
    "\n",
    "Upon visual inspection, which random variable looks like it would have a greater variance: X or J? Why?\n",
    "\n",
    "Show step-by-step calculations for the following:\n",
    "\n",
    "a. Find the sample var(X), sample var(Y).\n",
    "\t\n",
    "b. Find sample cov(X,Y).\n",
    "\t\n",
    "c. Find the sample var(J), sample var(K).\n",
    "\t\n",
    "d. Find sample cov(J,K).\n",
    "\n",
    "Present scatterplots of {X,Y} and {J,K}. Y and K should be on the vertical axes. Do not place any trend lines. Be sure to label axes.\n"
   ]
  },
  {
   "cell_type": "markdown",
   "metadata": {
    "pycharm": {
     "name": "#%% md\n"
    }
   },
   "source": [
    "# Assignment 3\n",
    "\n",
    "## Part I\n",
    "\n",
    "* Objective: Demonstrate your understanding of the 'Population Regression Function,' and the Orindary Least Squares Estimates.*\n",
    "\n",
    "* Reference: Wooldridge (7th edition), Chapter 2, Section 2&3*\n",
    "\n",
    "Following the DGP from Assignment 2, take a sample of 1000 observations from the population data. Manually calculate $\\beta_0$ and $\\beta_1$ using the functions sum() and var() in NumPy / Python.\n",
    "\n",
    "## Part II\n",
    "\n",
    "* Objective: Understand the useful algebraic properties of OLS estimates and their associated statistics.*\n",
    "\n",
    "* Reference: Wooldridge (7th edition), Chapter 2, Section 2&3*\n",
    "\n",
    "Using $\\beta_0$ and $\\beta_1$ from previous, manually calculate the predicted line and the residuals and plot it in a graph.\n",
    "\n"
   ]
  },
  {
   "cell_type": "markdown",
   "metadata": {
    "pycharm": {
     "name": "#%% md\n"
    }
   },
   "source": [
    "\n",
    "# Assignment 4\n",
    "\n",
    "## Part I\n",
    "\n",
    "* Objective: Consider the properties of OLS on any sample of data.*\n",
    "\n",
    "* Reference: Wooldridge (7th edition), Chapter 2, Section 3*\n",
    "\n",
    "Using all of the previous up to this point, calculate TSS, ESS and RSS in your sample.\n",
    "\n",
    "a. Calculate $R^2$, which is ESS/TSS. \n",
    "\n",
    "b. Show that for any individual observation, $(y_i - \\bar{y})^2 \\neq (\\hat{y}_i-\\bar{y})^2 + \\hat{u}_i^2$, but it works when summing components across all observations i.e., that $$TSS=ESS+RSS$$\n",
    "\n",
    "c. From the sample and estimates from the previous assignment, show that $\\sum_{\\forall i}{\\hat{u}_i} \\approx  0$ . Show that $\\sum_{\\forall i}({\\hat{u}_i*x_i}) \\approx  0$\n",
    "\n",
    "d. From the sample and estimates from the previous assignment, calculate the variance and standard error of $\\hat{\\beta_1}$. \n",
    "\n"
   ]
  },
  {
   "cell_type": "markdown",
   "metadata": {
    "pycharm": {
     "name": "#%% md\n"
    }
   },
   "source": [
    "\n",
    "# Assignment 5\n",
    "\n",
    "\n",
    "## Part I\n",
    "\n",
    "* Objective: Introduction to Multiple Regression Analysis and demonstrate your understanding of the mechanics.*\n",
    "\n",
    "* Reference: Wooldridge (7th edition), Chapter 3, Section 1*\n",
    "\n",
    "Using all of the previous up to this point, how close is your coefficient to the population value? Is it the same or different? Why or why not, do you think?\n",
    "\n",
    "## Part II\n",
    "\n",
    "*Objective: Motivation for Multiple Regression and build your own model.*\n",
    "\n",
    "*Reference: Wooldridge (7th edition), Chapter 3, Section 1*\n",
    "\n",
    "Perform a data generating process of $$y = \\beta_0 + \\beta_1 * x_1 +  \\beta_2 * x_2 + u$$ where $\\beta_0$ is the sum of the 3rd and 4th digits of your birthday, $\\beta_1$ is the sum of the 1st and second digits of your birthday, $\\beta_2$ is the sum of the 5th and 6th digits of your birthday,, $x$ is distributed normal with mean of 10 and with variance of the first non-zero digit of your birthday, and U is (independently) distributed normal with mean 0 and variance of the last non-zero digit of your birthday, and X2 is ~N(last nonzero of birthday, sum first two).\n",
    "\n",
    "Perform this process for a \"population\" of 1 million observations.\n"
   ]
  },
  {
   "cell_type": "markdown",
   "metadata": {
    "pycharm": {
     "name": "#%% md\n"
    }
   },
   "source": [
    "\n",
    "# Assignment 6\n",
    "\n",
    "## Part I\n",
    "\n",
    "* Objective: Report the partial effects in a linear regression model.*\n",
    "\n",
    "* Reference: Wooldridge (7th edition), Chapter 3, Section 2*\n",
    "\n",
    "Following the previous assignment, take a sample of 1000 observations and estimate a linear model that accords with the population model.\n",
    "\n",
    "Are the estimates close or different? Then, perform the partialling out approach for $\\beta_1$ and $\\beta_2$. Show that you achieve the same coefficients as in the Python command that you chose to perform the linear regression (different packages such as statsmodels or sklearn can perform linear regressions).\n"
   ]
  },
  {
   "cell_type": "markdown",
   "metadata": {
    "pycharm": {
     "name": "#%% md\n"
    }
   },
   "source": [
    "\n",
    "# Assignment 7\n",
    "\n",
    "## Part I\n",
    "\n",
    "* Objective: Simulate data, draw 1,000 random samples, and generate sample estimates, show sampling distribution of the estimated parameter.*\n",
    "\n",
    "* Reference: Wooldridge (7th edition), Chapter 3, Section 3*\n",
    "\n",
    "Consider the following data-generating process (population regression function):\n",
    "$$y_i = 2.5 + 1.5 * x_i + u_i$$\n",
    "where X ~ N(10,10) and U ~ N(0,5). X and U are independent.\n",
    "\n",
    "a. Generate a dataset of 100,000 observations from this DGP. Call this the “population data”.\n",
    "\n",
    "b. Draw a random sample of 1,000 observations from the population data. Estimate the parameters $β_0$ and $β_1$.\n",
    "\n",
    "\n",
    "c. Repeat step b 1,000 times, and save the estimated parameters from each draw.\n",
    "\n",
    "\n",
    "d. Present histograms of the sampling distribution of the estimates of $β_0$ and $β_1$. Call these Figures 1 and 2 (with appropriate titles).\n",
    "\n",
    "e. What happens to the sampling distribution of the estimate of $β_1$ if U ~ N(0,50) or U ~ N(0,1)? Present two more histograms, Figures 3 and 4.\n"
   ]
  },
  {
   "cell_type": "markdown",
   "metadata": {
    "pycharm": {
     "name": "#%% md\n"
    }
   },
   "source": [
    "\n",
    "# Assignment 8\n",
    "\n",
    "## Part I\n",
    "\n",
    "* Objective: Simulate data with correlated X's in MLRM, draw 1,000 random samples, and generate sample estimates, show sampling distribution of the estimated parameter, and show bias in the estimates.*\n",
    "\n",
    "* Reference: Wooldridge (7th edition), Chapter 3, Section 3*\n",
    "\n",
    "Perform a data generating process of $$y = \\beta_0 + \\beta_1 * x_1 +  \\beta_2 * x_2 + u$$ where $\\beta_0$ is the sum of the 3rd and 4th digits of your birthday, $\\beta_1$ is the sum of the 1st and second digits of your birthday, $\\beta_2$ is the sum of the 5th and 6th digits of your birthday, $x_1$ is distributed normal with mean of 10 and with variance of the first non-zero digit of your birthday, and U is (independently) distributed normal with mean 0 and variance of the last non-zero digit of your birthday, and $x_2$ has its own (intermediate step) data generating process, given by: $$x_{2i} = \\alpha_0 + \\alpha_1 * x_{1i} + \\mu_i$$ \n",
    "\n",
    "Where $\\alpha_0 = 2$, $\\alpha_1=.8$ and $\\mu_i \\sim N(0,1)$.\n",
    "\n",
    "Perform this process for a \"population\" of 1 million observations.\n",
    "\n",
    "a. What is the covariance of $x_1$ and $x_2$ in the population data? Save this into an object called \"covX1X2\".\n",
    "\n",
    "b. Based on the setup above, what is the theoretical total sum of squares of $x_1$ in a sample of 1,000 observations? Calculate this and save it into an object called \"TSSx1\".\n",
    "\n",
    "c. Draw a single random sample of 1,000 observations from the population data. From the sample drawn for (b), estimate the parameters of an underspecified sample regression function given by  $$y_i = \\tilde{\\beta_0} + \\tilde{\\beta_1} * x_1 + \\tilde{u_i}$$\n",
    "\n",
    "d. What is $\\tilde{\\beta_1}$ and how does it compare to $\\beta_1$?\n",
    "\n",
    "e. From the sample drawn for (b), estimate the parameters of a properly specified sample regression function given by  $$y_i = \\hat{\\beta_0} + \\hat{\\beta_1} * x_{1i} + \\hat{\\beta_2} * x_{2i} + \\hat{u_i}$$ How does $\\hat{\\beta_1}$ compare to $\\tilde{\\beta_1}$ and $\\beta_1$?\n",
    "\n",
    "f. Repeat steps (b) and (c) 1,000 times, and save the estimated parameter $\\tilde{\\beta_1}$ from each draw into an object.\n",
    "\n",
    "g. Present a histogram of the sampling distribution of $\\tilde{\\beta_1}$ from (e). What is the mean of the distribution of $\\tilde{\\beta_1}$ and what is its difference from $\\beta_1$?\n",
    "\n",
    "h. From (a) and (b) above, what is the difference you would expect to see in (g)?\n"
   ]
  },
  {
   "cell_type": "markdown",
   "metadata": {
    "pycharm": {
     "name": "#%% md\n"
    }
   },
   "source": [
    "# Assignment 9\n",
    "\n",
    "## Part I\n",
    "\n",
    "* Objective: Testing hypotheses about a single population parameter.*\n",
    "\n",
    "* Reference: Wooldridge (7th edition), Chapter 4, Section 2*\n",
    "\n",
    "Return to the DGP of Assignment 8, Part 1, but set $β_1=0$ in the DGP. Generate the population data, draw 1,000 samples resulting in 1,000 $\\hat{β_1}$ using the correctly specified model (i.e., not omitting $x_2$, same as part 8.1(e)). What value of $\\hat{β_1}$ defines the cutoff for the 5% of observations with the largest absolute value you get in the sampling distribution? Randomly sample coefficients from the distribution until you get one that is in the 5% tails. How many tries does it take to get a coefficient in (either of the) the 5% tails?\n"
   ]
  },
  {
   "cell_type": "markdown",
   "metadata": {
    "pycharm": {
     "name": "#%% md\n"
    }
   },
   "source": [
    "# Assignment 10\n",
    "\n",
    "## Part I\n",
    "\n",
    "* Objective: Testing hypotheses about a single population parameter.*\n",
    "\n",
    "* Reference: Wooldridge (7th edition), Chapter 4, Section 2*\n",
    "\n",
    "Draw one random value of $\\hatβ_1$ from your sampling distribution, and perform a two-sided hypothesis test on it at the 10% level of significance under $$H_0: β_1=0$$ State whether you reject or fail to reject the $H_0$\n",
    "\n",
    "## Part II\n",
    "\n",
    "* Objective: Consistency of the OLS estimators.*\n",
    "\n",
    "* Reference: Wooldridge (7th edition), Chapter 5*\n",
    "\n",
    "Re-do the DGP of Assignment 8, Part 1; in part (e) of that assignment, you generated a sampling distribution of $\\hatβ_1$ by taking 1,000 samples of 1,000 observations each. \n",
    "\n",
    "a. Construct a “population” dataset with 1,000,000 observations with this same DGP (all other parameters of the setup stay the same).\n",
    "\n",
    "b. Take 1,000 samples (and get the empirical variance of $\\hatβ_1$ based on sampling 10, 100, 1,000, and 10,000 observations each time (so, 1,000 samples of 10 observations, 1000 samples of 100 observations, etc.).\n",
    "\n",
    "c. Plot the 4 histograms (or density plots) that result from these simulations. Either place all 4 histograms on the same plot, or make the x-axis on all 4 the same range.\n",
    "\n",
    "d. Make another plot, which on the x-axis has the sample size you were using, and on the y-axis you have the empirical variance across the 1,000 draws.\n",
    "\n",
    "**Advanced-extra credit** on this PS. Iterate through equally-spaced bins of sample size (instead of 10, 100, 1000, etc. start at 500, then 1000, then 1500, up to some high number) so that you can get the shape of the curve in part (c) instead of just 4 (x,y) points to plot. \n",
    "\n"
   ]
  },
  {
   "cell_type": "markdown",
   "metadata": {
    "pycharm": {
     "name": "#%% md\n"
    }
   },
   "source": [
    "# Assignment 11\n",
    "\n",
    "## Part I\n",
    "\n",
    "* Objective: Report regression results; understand the difference between analytical variance and empirical variance.*\n",
    "\n",
    "* Reference: Wooldridge (7th edition), Chapter 4, Section 6*\n",
    "\n",
    "Perform a DGP which is the same in all respects as Assignment 2 Part I, but before calculating $Y$, adjust the distribution of U to be a function of X: $$U’ = U*X$$\n",
    "\n",
    "Use $U’$ instead of $U$ in the DGP generation of $Y$. What is the expected variance of $U’$, and thus the expected (analytical) variance of $\\hatβ_1$? What is the empirical variance of $\\hatβ_1$ after 1,000 samples/estimations using this DGP? Present this result in another short table. What principle is this showing?\n",
    "\n",
    "## Part II\n",
    "\n",
    "* Objective: Multiple Regression Analysis with qualitative information (dummy variables).*\n",
    "\n",
    "* Reference: Wooldridge (7th edition), Chapter 7, Section 1*\n",
    "\n",
    "Undertake the following data-generating process (population regression function) for 1,000,000 observations in the \"population data\":\n",
    "$$y_i = 2.5 + \\sum_{j=1}^{5} \\beta_i * x_{j,i} + u_i$$\n",
    "Residuals: U is (independently) distributed normal with mean 0 and variance of the last non-zero digit of your birthday.\n",
    "\n",
    "Coefficients in DGP: The series $\\beta_1...\\beta_5$ is given by the series comprised of the first 5 digits of your birthday, in order. \n",
    "\n",
    "Independent variables: Assume there is an underlying (unmodeled) variable $Z_i$ which is categorical, but can be represented by uniform distribution of integers $1...5$, such that $x_j =1$ when $Z_i=j$, and zero otherwise. Construct $Z$, and then from that, the series $x_1...x_5$.\n",
    "\n",
    "With the vector of $x_j$ and $\\beta_j$ and the definition of the residual distribution above, undertake the DGP for $Y$. Choose one of the $j$ to be a \"reference group\" among your vector of dummies, and another $j$ to report the sampling distribution of (as below).\n",
    "\n",
    "Then, take 1,000 samples of 1,000 observations each, generate sampling distributions of each of $\\hat\\beta_j$ by estimating a linear model, and represent the sampling distribution of the coefficients for the $j$ you have chosen. Interpret the $\\hat\\beta_j$ for a $\\hat\\beta_j$ that is the median value in your sampling distribution of the $j$ you have chosen.\n",
    "\n"
   ]
  },
  {
   "cell_type": "markdown",
   "metadata": {
    "pycharm": {
     "name": "#%% md\n"
    }
   },
   "source": [
    "# Assignment 12\n",
    "\n",
    "## Part I\n",
    "\n",
    "\n",
    "* Objective: See the consequences of heteroskedasticity for OLS; perform heteroskedasticity-Robust Inference after OLS estimation.*\n",
    "\n",
    "* Reference: Wooldridge (7th edition), Chapter 8, Section 1&2*\n",
    "\n",
    "Return to the simulations you performed in Assignment 11 -- in which you set distribution of U to be a function of X: $$U’ = U*X$$ and you used U’ instead of U in the DGP generation of Y. \n",
    "\n",
    "a. Show visually that the data appear heteroskedastic when using U’, but not when using U in the DGP. Confirm that this transformation does nothing to the algebraic properties of OLS.\n",
    "\n",
    "b. Perform a Breusch-Pagan test of heteroskedasticity when using U’ and then when using U in the DGP. What does the test statistic yield in each case, and what do you conclude?\n",
    "\n",
    "c. Estimate the model using heteroskedasticity-robust standard errors for each DGP. What is the variance of $\\hatβ_1$, and how does this compare to the empirical and analytical variance you found in Assignment 11?\n"
   ]
  }
 ],
 "metadata": {
  "kernelspec": {
   "display_name": "Python 3.8.10 ('venv320': venv)",
   "language": "python",
   "name": "python3"
  },
  "language_info": {
   "codemirror_mode": {
    "name": "ipython",
    "version": 3
   },
   "file_extension": ".py",
   "mimetype": "text/x-python",
   "name": "python",
   "nbconvert_exporter": "python",
   "pygments_lexer": "ipython3",
   "version": "3.8.10"
  },
  "vscode": {
   "interpreter": {
    "hash": "2575b666cc1342492c22814df50c9fc3698752638131e4af886c21bc3c3d1c24"
   }
  }
 },
 "nbformat": 4,
 "nbformat_minor": 4
}